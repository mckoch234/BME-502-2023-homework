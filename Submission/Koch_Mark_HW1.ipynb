{
 "cells": [
  {
   "cell_type": "markdown",
   "id": "217bf333",
   "metadata": {},
   "source": [
    "<h1>HW1</h1>\n",
    "<ol>\n",
    "    <li>Questions from <a href=\"https://juliaacademy.com/\">Juliaacademy</a></li>\n",
    "    <li>One extra question</li>\n",
    "</ol>"
   ]
  },
  {
   "cell_type": "markdown",
   "id": "5c69a5ff",
   "metadata": {},
   "source": [
    "### Getting started\n",
    "\n",
    "#### 1.1 \n",
    "Look up docs for the `convert` function."
   ]
  },
  {
   "cell_type": "code",
   "execution_count": 2,
   "id": "b5e5dc82",
   "metadata": {},
   "outputs": [
    {
     "ename": "LoadError",
     "evalue": "syntax: extra token \"convert\" after end of expression",
     "output_type": "error",
     "traceback": [
      "syntax: extra token \"convert\" after end of expression",
      "",
      "Stacktrace:",
      " [1] top-level scope",
      "   @ In[2]:1"
     ]
    }
   ],
   "source": [
    "### https://docs.julialang.org/en/v1/base/base/#Base.convert\n",
    "\n"
   ]
  },
  {
   "cell_type": "markdown",
   "id": "7b326994",
   "metadata": {},
   "source": [
    "#### 1.2 \n",
    "Assign `365` to a variable named `days`. Convert `days` to a float and assign it to variable `days_float`"
   ]
  },
  {
   "cell_type": "code",
   "execution_count": 6,
   "id": "824698fa",
   "metadata": {},
   "outputs": [
    {
     "data": {
      "text/plain": [
       "365.0"
      ]
     },
     "execution_count": 6,
     "metadata": {},
     "output_type": "execute_result"
    }
   ],
   "source": [
    "days=365\n",
    "days_float=convert(Float64, days)"
   ]
  },
  {
   "cell_type": "code",
   "execution_count": 45,
   "id": "6ba05b89",
   "metadata": {},
   "outputs": [],
   "source": [
    "@assert days == 365\n",
    "@assert days_float == 365.0"
   ]
  },
  {
   "cell_type": "markdown",
   "id": "cc7699e3",
   "metadata": {},
   "source": [
    "#### 1.3 \n",
    "See what happens when you execute\n",
    "\n",
    "```julia\n",
    "convert(Int64, \"1\")\n",
    "```\n",
    "and\n",
    "\n",
    "```julia\n",
    "parse(Int64, \"1\")\n",
    "```"
   ]
  },
  {
   "cell_type": "code",
   "execution_count": 1,
   "id": "c188f78c",
   "metadata": {},
   "outputs": [
    {
     "ename": "LoadError",
     "evalue": "MethodError: \u001b[0mCannot `convert` an object of type \u001b[92mString\u001b[39m\u001b[0m to an object of type \u001b[91mInt64\u001b[39m\n\u001b[0mClosest candidates are:\n\u001b[0m  convert(::Type{T}, \u001b[91m::T\u001b[39m) where T<:Number at number.jl:6\n\u001b[0m  convert(::Type{T}, \u001b[91m::Number\u001b[39m) where T<:Number at number.jl:7\n\u001b[0m  convert(::Type{T}, \u001b[91m::Base.TwicePrecision\u001b[39m) where T<:Number at twiceprecision.jl:273\n\u001b[0m  ...",
     "output_type": "error",
     "traceback": [
      "MethodError: \u001b[0mCannot `convert` an object of type \u001b[92mString\u001b[39m\u001b[0m to an object of type \u001b[91mInt64\u001b[39m\n\u001b[0mClosest candidates are:\n\u001b[0m  convert(::Type{T}, \u001b[91m::T\u001b[39m) where T<:Number at number.jl:6\n\u001b[0m  convert(::Type{T}, \u001b[91m::Number\u001b[39m) where T<:Number at number.jl:7\n\u001b[0m  convert(::Type{T}, \u001b[91m::Base.TwicePrecision\u001b[39m) where T<:Number at twiceprecision.jl:273\n\u001b[0m  ...",
      "",
      "Stacktrace:",
      " [1] top-level scope",
      "   @ In[1]:1"
     ]
    }
   ],
   "source": [
    "convert(Int64, \"1\")\n"
   ]
  },
  {
   "cell_type": "code",
   "execution_count": 2,
   "id": "4c3f2908",
   "metadata": {},
   "outputs": [
    {
     "data": {
      "text/plain": [
       "1"
      ]
     },
     "execution_count": 2,
     "metadata": {},
     "output_type": "execute_result"
    }
   ],
   "source": [
    "parse(Int64, \"1\")"
   ]
  },
  {
   "cell_type": "markdown",
   "id": "d4923a5f",
   "metadata": {},
   "source": [
    "### Strings\n",
    "\n",
    "#### 2.1 \n",
    "Create a string that says \"hi\" 1000 times, first with `repeat` and then with the exponentiation operator, which can call `*` under the hood. Assign it the variable `hi` below."
   ]
  },
  {
   "cell_type": "code",
   "execution_count": 21,
   "id": "16aec7c2",
   "metadata": {},
   "outputs": [
    {
     "data": {
      "text/plain": [
       "\"hihihihihihihihihihihihihihihihihihihihihihihihihihihihihihihihihihihihihihihihihihihihihihihihihihihihihihihihihihihihihihihihihihihihihihihihihihihihihihihihihihihihihihihihihihihihihihihihihihihihihihihihihihihihihihihihihihihihihihihihihihihihihihihihihihihihihihihi\" ⋯ 1460 bytes ⋯ \"hihihihihihihihihihihihihihihihihihihihihihihihihihihihihihihihihihihihihihihihihihihihihihihihihihihihihihihihihihihihihihihihihihihihihihihihihihihihihihihihihihihihihihihihihihihihihihihihihihihihihihihihihihihihihihihihihihihihihihihihihihihihihihihihihihihihihihihi\""
      ]
     },
     "execution_count": 21,
     "metadata": {},
     "output_type": "execute_result"
    }
   ],
   "source": [
    "hi=repeat(\"hi\",1000)\n",
    "hi=\"hi\"^1000\n"
   ]
  },
  {
   "cell_type": "code",
   "execution_count": 46,
   "id": "4a6cb805",
   "metadata": {},
   "outputs": [],
   "source": [
    "@assert hi == \"hihihihihihihihihihihihihihihihihihihihihihihihihihihihihihihihihihihihihihihihihihihihihihihihihihihihihihihihihihihihihihihihihihihihihihihihihihihihihihihihihihihihihihihihihihihihihihihihihihihihihihihihihihihihihihihihihihihihihihihihihihihihihihihihihihihihihihihihihihihihihihihihihihihihihihihihihihihihihihihihihihihihihihihihihihihihihihihihihihihihihihihihihihihihihihihihihihihihihihihihihihihihihihihihihihihihihihihihihihihihihihihihihihihihihihihihihihihihihihihihihihihihihihihihihihihihihihihihihihihihihihihihihihihihihihihihihihihihihihihihihihihihihihihihihihihihihihihihihihihihihihihihihihihihihihihihihihihihihihihihihihihihihihihihihihihihihihihihihihihihihihihihihihihihihihihihihihihihihihihihihihihihihihihihihihihihihihihihihihihihihihihihihihihihihihihihihihihihihihihihihihihihihihihihihihihihihihihihihihihihihihihihihihihihihihihihihihihihihihihihihihihihihihihihihihihihihihihihihihihihihihihihihihihihihihihihihihihihihihihihihihihihihihihihihihihihihihihihihihihihihihihihihihihihihihihihihihihihihihihihihihihihihihihihihihihihihihihihihihihihihihihihihihihihihihihihihihihihihihihihihihihihihihihihihihihihihihihihihihihihihihihihihihihihihihihihihihihihihihihihihihihihihihihihihihihihihihihihihihihihihihihihihihihihihihihihihihihihihihihihihihihihihihihihihihihihihihihihihihihihihihihihihihihihihihihihihihihihihihihihihihihihihihihihihihihihihihihihihihihihihihihihihihihihihihihihihihihihihihihihihihihihihihihihihihihihihihihihihihihihihihihihihihihihihihihihihihihihihihihihihihihihihihihihihihihihihihihihihihihihihihihihihihihihihihihihihihihihihihihihihihihihihihihihihihihihihihihihihihihihihihihihihihihihihihihihihihihihihihihihihihihihihihihihihihihihihihihihihihihihihihihihihihihihihihihihihihihihihihihihihihihihihihihihihihihihihihihihihihihihihihihihihihihihihihihihihihihihihihihihihihihihihihihihihihihihihihihihihihihihihihihihihihihihihihihihihihihihihihihihihihihihihihihihihihihihihihihihihihihihihihihihihihihihihihihihihihihihihihihihi\""
   ]
  },
  {
   "cell_type": "markdown",
   "id": "5aca2c46",
   "metadata": {},
   "source": [
    "#### 2.2 \n",
    "Declare two variables\n",
    "\n",
    "```julia\n",
    "a = 3\n",
    "b = 4\n",
    "```\n",
    "and use them to create two strings:\n",
    "```julia\n",
    "\"3 + 4\"\n",
    "\"7\" \n",
    "```\n",
    "and store the results in `c` and `d` respectively"
   ]
  },
  {
   "cell_type": "code",
   "execution_count": 23,
   "id": "d9512549",
   "metadata": {},
   "outputs": [
    {
     "data": {
      "text/plain": [
       "\"7\""
      ]
     },
     "execution_count": 23,
     "metadata": {},
     "output_type": "execute_result"
    }
   ],
   "source": [
    "a=3\n",
    "b=4\n",
    "c=\"$a + $b\"\n",
    "d=string(a+b)"
   ]
  },
  {
   "cell_type": "code",
   "execution_count": 47,
   "id": "8311c6ac",
   "metadata": {},
   "outputs": [],
   "source": [
    "@assert c == \"3 + 4\"\n",
    "@assert d == \"7\""
   ]
  },
  {
   "cell_type": "markdown",
   "id": "7405e416",
   "metadata": {},
   "source": [
    "### Data stuctures\n",
    "\n",
    "#### 3.1 \n",
    "Create an array, `a_ray`, with the following code:\n",
    "\n",
    "```julia\n",
    "a_ray = [1, 2, 3]\n",
    "```\n",
    "\n",
    "Add the number `4` to the end of this array and then remove it."
   ]
  },
  {
   "cell_type": "code",
   "execution_count": 25,
   "id": "2edf9bdf",
   "metadata": {},
   "outputs": [
    {
     "name": "stdout",
     "output_type": "stream",
     "text": [
      "[1, 2, 3, 4]\n",
      "[1, 2, 3]\n"
     ]
    }
   ],
   "source": [
    "a_ray=[1,2,3]\n",
    "push!(a_ray, 4)\n",
    "println(a_ray)\n",
    "pop!(a_ray)\n",
    "println(a_ray)"
   ]
  },
  {
   "cell_type": "code",
   "execution_count": 48,
   "id": "73ef7e69",
   "metadata": {},
   "outputs": [],
   "source": [
    "@assert a_ray == [1, 2, 3]"
   ]
  },
  {
   "cell_type": "markdown",
   "id": "bc93ceaf",
   "metadata": {},
   "source": [
    "#### 3.2 \n",
    "Try to add \"Emergency\" as key to `myphonebook` with the value `string(911)` with the following code\n",
    "```julia\n",
    "myphonebook[\"Emergency\"] = 911\n",
    "```\n",
    "\n",
    "Why doesn't this work?"
   ]
  },
  {
   "cell_type": "code",
   "execution_count": 1,
   "id": "1454d15d",
   "metadata": {},
   "outputs": [
    {
     "ename": "LoadError",
     "evalue": "MethodError: \u001b[0mCannot `convert` an object of type \u001b[92mInt64\u001b[39m\u001b[0m to an object of type \u001b[91mString\u001b[39m\n\u001b[0mClosest candidates are:\n\u001b[0m  convert(::Type{String}, \u001b[91m::String\u001b[39m) at essentials.jl:218\n\u001b[0m  convert(::Type{T}, \u001b[91m::T\u001b[39m) where T<:AbstractString at strings/basic.jl:231\n\u001b[0m  convert(::Type{T}, \u001b[91m::AbstractString\u001b[39m) where T<:AbstractString at strings/basic.jl:232\n\u001b[0m  ...",
     "output_type": "error",
     "traceback": [
      "MethodError: \u001b[0mCannot `convert` an object of type \u001b[92mInt64\u001b[39m\u001b[0m to an object of type \u001b[91mString\u001b[39m\n\u001b[0mClosest candidates are:\n\u001b[0m  convert(::Type{String}, \u001b[91m::String\u001b[39m) at essentials.jl:218\n\u001b[0m  convert(::Type{T}, \u001b[91m::T\u001b[39m) where T<:AbstractString at strings/basic.jl:231\n\u001b[0m  convert(::Type{T}, \u001b[91m::AbstractString\u001b[39m) where T<:AbstractString at strings/basic.jl:232\n\u001b[0m  ...",
      "",
      "Stacktrace:",
      " [1] setindex!(h::Dict{String, String}, v0::Int64, key::String)",
      "   @ Base .\\dict.jl:382",
      " [2] top-level scope",
      "   @ In[1]:2"
     ]
    }
   ],
   "source": [
    "myphonebook = Dict(\"Jenny\" => \"867-5309\", \"Ghostbusters\" => \"555-2368\")\n",
    "myphonebook[\"Emergency\"] = 911\n",
    "####it does not work because you cannot convert an object of type Int64 to an object of type string\n",
    "####since the dictionary was initialized with only strings as the data type it tries to convert the int64 into a string\n",
    "##which it can't do"
   ]
  },
  {
   "cell_type": "markdown",
   "id": "6feb1165",
   "metadata": {},
   "source": [
    "#### 3.3 \n",
    "Create a new dictionary called `flexible_phonebook` that has Jenny's number stored as an integer and Ghostbusters' number stored as a string with the following code\n",
    "\n",
    "```julia\n",
    "flexible_phonebook = Dict(\"Jenny\" => 8675309, \"Ghostbusters\" => \"555-2368\")\n",
    "```"
   ]
  },
  {
   "cell_type": "code",
   "execution_count": 52,
   "id": "59eedf17",
   "metadata": {},
   "outputs": [
    {
     "data": {
      "text/plain": [
       "Dict{String, Any} with 2 entries:\n",
       "  \"Jenny\"        => 8675309\n",
       "  \"Ghostbusters\" => \"555-2368\""
      ]
     },
     "execution_count": 52,
     "metadata": {},
     "output_type": "execute_result"
    }
   ],
   "source": [
    "flexible_phonebook = Dict(\"Jenny\" => 8675309, \"Ghostbusters\" => \"555-2368\")"
   ]
  },
  {
   "cell_type": "code",
   "execution_count": 49,
   "id": "cd682832",
   "metadata": {},
   "outputs": [],
   "source": [
    "@assert flexible_phonebook == Dict(\"Jenny\" => 8675309, \"Ghostbusters\" => \"555-2368\")"
   ]
  },
  {
   "cell_type": "markdown",
   "id": "0d02b63f",
   "metadata": {},
   "source": [
    "#### 3.4 \n",
    "Add the key \"Emergency\" with the value `911` (an integer) to `flexible_phonebook`."
   ]
  },
  {
   "cell_type": "code",
   "execution_count": 56,
   "id": "c4d5de19",
   "metadata": {},
   "outputs": [
    {
     "data": {
      "text/plain": [
       "Dict{String, Any} with 3 entries:\n",
       "  \"Jenny\"        => 8675309\n",
       "  \"Emergency\"    => 911\n",
       "  \"Ghostbusters\" => \"555-2368\""
      ]
     },
     "execution_count": 56,
     "metadata": {},
     "output_type": "execute_result"
    }
   ],
   "source": [
    "flexible_phonebook[\"Emergency\"] = 911\n",
    "flexible_phonebook"
   ]
  },
  {
   "cell_type": "code",
   "execution_count": 54,
   "id": "24c73b74",
   "metadata": {},
   "outputs": [],
   "source": [
    "@assert haskey(flexible_phonebook, \"Emergency\")"
   ]
  },
  {
   "cell_type": "code",
   "execution_count": 55,
   "id": "31a244ed",
   "metadata": {},
   "outputs": [],
   "source": [
    "@assert flexible_phonebook[\"Emergency\"] == 911"
   ]
  },
  {
   "cell_type": "markdown",
   "id": "00489689",
   "metadata": {},
   "source": [
    "#### 3.5 \n",
    "Why can we add an integer as a value to `flexible_phonebook` but not `myphonebook`? How could we have initialized `myphonebook` so that it would accept integers as values? (hint: try using [Julia's documentation for dictionaries](https://docs.julialang.org/en/v1/base/collections/#Dictionaries))"
   ]
  },
  {
   "cell_type": "code",
   "execution_count": null,
   "id": "f4360494",
   "metadata": {},
   "outputs": [],
   "source": [
    "###flexible_phonebook was initialized with values that have multiple data types so it can stores the value data type\n",
    "###as [ANY], whereas my phonebook was not\n",
    "####you can initialize myphonebook to have a string value and an int64 value so you can add a new value of any data type\n"
   ]
  },
  {
   "cell_type": "markdown",
   "id": "bfba5bbc",
   "metadata": {},
   "source": [
    "### Loops\n",
    "\n",
    "#### 4.1 \n",
    "Loop over integers between 1 and 100 and print their squares."
   ]
  },
  {
   "cell_type": "code",
   "execution_count": 37,
   "id": "170211f8",
   "metadata": {},
   "outputs": [
    {
     "name": "stdout",
     "output_type": "stream",
     "text": [
      "1\n",
      "4\n",
      "9\n",
      "16\n",
      "25\n",
      "36\n",
      "49\n",
      "64\n",
      "81\n",
      "100\n",
      "121\n",
      "144\n",
      "169\n",
      "196\n",
      "225\n",
      "256\n",
      "289\n",
      "324\n",
      "361\n",
      "400\n",
      "441\n",
      "484\n",
      "529\n",
      "576\n",
      "625\n",
      "676\n",
      "729\n",
      "784\n",
      "841\n",
      "900\n",
      "961\n",
      "1024\n",
      "1089\n",
      "1156\n",
      "1225\n",
      "1296\n",
      "1369\n",
      "1444\n",
      "1521\n",
      "1600\n",
      "1681\n",
      "1764\n",
      "1849\n",
      "1936\n",
      "2025\n",
      "2116\n",
      "2209\n",
      "2304\n",
      "2401\n",
      "2500\n",
      "2601\n",
      "2704\n",
      "2809\n",
      "2916\n",
      "3025\n",
      "3136\n",
      "3249\n",
      "3364\n",
      "3481\n",
      "3600\n",
      "3721\n",
      "3844\n",
      "3969\n",
      "4096\n",
      "4225\n",
      "4356\n",
      "4489\n",
      "4624\n",
      "4761\n",
      "4900\n",
      "5041\n",
      "5184\n",
      "5329\n",
      "5476\n",
      "5625\n",
      "5776\n",
      "5929\n",
      "6084\n",
      "6241\n",
      "6400\n",
      "6561\n",
      "6724\n",
      "6889\n",
      "7056\n",
      "7225\n",
      "7396\n",
      "7569\n",
      "7744\n",
      "7921\n",
      "8100\n",
      "8281\n",
      "8464\n",
      "8649\n",
      "8836\n",
      "9025\n",
      "9216\n",
      "9409\n",
      "9604\n",
      "9801\n",
      "10000\n"
     ]
    }
   ],
   "source": [
    "for n in 1:100\n",
    "    println(n^2)\n",
    "end"
   ]
  },
  {
   "cell_type": "markdown",
   "id": "869059a1",
   "metadata": {},
   "source": [
    "#### 4.2 \n",
    "Add to the code above a bit to create a dictionary, `squares` that holds integers and their squares as key, value pairs such that\n",
    "\n",
    "```julia\n",
    "squares[10] == 100\n",
    "```"
   ]
  },
  {
   "cell_type": "code",
   "execution_count": 42,
   "id": "4e9c1bd2",
   "metadata": {},
   "outputs": [
    {
     "data": {
      "text/plain": [
       "Dict{Any, Any} with 100 entries:\n",
       "  5  => 25\n",
       "  56 => 3136\n",
       "  35 => 1225\n",
       "  55 => 3025\n",
       "  60 => 3600\n",
       "  30 => 900\n",
       "  32 => 1024\n",
       "  6  => 36\n",
       "  67 => 4489\n",
       "  45 => 2025\n",
       "  73 => 5329\n",
       "  64 => 4096\n",
       "  90 => 8100\n",
       "  4  => 16\n",
       "  13 => 169\n",
       "  54 => 2916\n",
       "  63 => 3969\n",
       "  86 => 7396\n",
       "  91 => 8281\n",
       "  62 => 3844\n",
       "  58 => 3364\n",
       "  52 => 2704\n",
       "  12 => 144\n",
       "  28 => 784\n",
       "  75 => 5625\n",
       "  ⋮  => ⋮"
      ]
     },
     "execution_count": 42,
     "metadata": {},
     "output_type": "execute_result"
    }
   ],
   "source": [
    "squares=Dict()\n",
    "for n in 1:100\n",
    "    squares[n]=n^2\n",
    "end\n",
    "squares"
   ]
  },
  {
   "cell_type": "code",
   "execution_count": 43,
   "id": "956b829f",
   "metadata": {},
   "outputs": [],
   "source": [
    "@assert squares[10] == 100\n",
    "@assert squares[11] == 121"
   ]
  },
  {
   "cell_type": "markdown",
   "id": "089cc31d",
   "metadata": {},
   "source": [
    "#### 4.3 \n",
    "Use an array comprehension to create an an array `squares_arr` that stores the squares for all integers between 1 and 100."
   ]
  },
  {
   "cell_type": "code",
   "execution_count": 63,
   "id": "6f01008a",
   "metadata": {},
   "outputs": [
    {
     "data": {
      "text/plain": [
       "100-element Vector{Int64}:\n",
       "     1\n",
       "     4\n",
       "     9\n",
       "    16\n",
       "    25\n",
       "    36\n",
       "    49\n",
       "    64\n",
       "    81\n",
       "   100\n",
       "   121\n",
       "   144\n",
       "   169\n",
       "     ⋮\n",
       "  7921\n",
       "  8100\n",
       "  8281\n",
       "  8464\n",
       "  8649\n",
       "  8836\n",
       "  9025\n",
       "  9216\n",
       "  9409\n",
       "  9604\n",
       "  9801\n",
       " 10000"
      ]
     },
     "execution_count": 63,
     "metadata": {},
     "output_type": "execute_result"
    }
   ],
   "source": [
    "squares_arr=[n^2 for n in 1:100]"
   ]
  },
  {
   "cell_type": "code",
   "execution_count": 62,
   "id": "9d769d9f",
   "metadata": {},
   "outputs": [
    {
     "ename": "LoadError",
     "evalue": "AssertionError: length(squares_arr) == 100",
     "output_type": "error",
     "traceback": [
      "AssertionError: length(squares_arr) == 100",
      "",
      "Stacktrace:",
      " [1] top-level scope",
      "   @ In[62]:1"
     ]
    }
   ],
   "source": [
    "@assert length(squares_arr) == 100\n",
    "@assert sum(squares_arr) == 338350"
   ]
  },
  {
   "cell_type": "markdown",
   "id": "6c5401ed",
   "metadata": {},
   "source": [
    "### Conditionals\n",
    "\n",
    "#### 5.1 \n",
    "Write a conditional statement that prints a number if the number is even and the string \"odd\" if the number is odd."
   ]
  },
  {
   "cell_type": "code",
   "execution_count": 122,
   "id": "d53d74d2",
   "metadata": {},
   "outputs": [
    {
     "name": "stdout",
     "output_type": "stream",
     "text": [
      "4372126843273684872\n",
      "4372126843273684872\n"
     ]
    }
   ],
   "source": [
    "x=rand(Int)\n",
    "if iseven(x)\n",
    "    println(x)\n",
    "else\n",
    "    println(\"odd\")\n",
    "end"
   ]
  },
  {
   "cell_type": "markdown",
   "id": "afabd103",
   "metadata": {},
   "source": [
    "#### 5.2 \n",
    "Rewrite the code from 5.1 using a ternary operator."
   ]
  },
  {
   "cell_type": "code",
   "execution_count": 125,
   "id": "122453fb",
   "metadata": {},
   "outputs": [
    {
     "name": "stdout",
     "output_type": "stream",
     "text": [
      "-362910004975274528\n"
     ]
    }
   ],
   "source": [
    "x=rand(Int)\n",
    "iseven(x) ? println(x) : println(\"odd\")"
   ]
  },
  {
   "cell_type": "markdown",
   "id": "23a918c1",
   "metadata": {},
   "source": [
    "### Functions\n",
    "\n",
    "#### 6.1 \n",
    "Write a function `add_one` that adds 1 to its input."
   ]
  },
  {
   "cell_type": "code",
   "execution_count": 126,
   "id": "491eb390",
   "metadata": {},
   "outputs": [
    {
     "data": {
      "text/plain": [
       "add_one (generic function with 1 method)"
      ]
     },
     "execution_count": 126,
     "metadata": {},
     "output_type": "execute_result"
    }
   ],
   "source": [
    "function add_one(x)\n",
    "    x+1\n",
    "end"
   ]
  },
  {
   "cell_type": "code",
   "execution_count": 127,
   "id": "b8e491f3",
   "metadata": {},
   "outputs": [],
   "source": [
    "@assert add_one(1) == 2"
   ]
  },
  {
   "cell_type": "code",
   "execution_count": 128,
   "id": "b6d701ab",
   "metadata": {},
   "outputs": [],
   "source": [
    "@assert add_one(11) == 12"
   ]
  },
  {
   "cell_type": "markdown",
   "id": "c2026af8",
   "metadata": {},
   "source": [
    "#### 6.2 \n",
    "Use `map` or `broadcast` to increment every element of matrix `A` by `1` and assign it to a variable `A1`."
   ]
  },
  {
   "cell_type": "code",
   "execution_count": 129,
   "id": "ace2f543",
   "metadata": {},
   "outputs": [
    {
     "data": {
      "text/plain": [
       "3×3 Matrix{Int64}:\n",
       " 2  3   4\n",
       " 5  6   7\n",
       " 8  9  10"
      ]
     },
     "execution_count": 129,
     "metadata": {},
     "output_type": "execute_result"
    }
   ],
   "source": [
    "A=[1 2 3; 4 5 6; 7 8 9]\n",
    "A1=add_one.(A)"
   ]
  },
  {
   "cell_type": "code",
   "execution_count": 130,
   "id": "85702137",
   "metadata": {},
   "outputs": [],
   "source": [
    "@assert A1 == [2 3 4; 5 6 7; 8 9 10]"
   ]
  },
  {
   "cell_type": "markdown",
   "id": "2c80577c",
   "metadata": {},
   "source": [
    "#### 6.3 \n",
    "Use the broadcast dot syntax to increment every element of matrix `A1` by `1` and store it in variable `A2`"
   ]
  },
  {
   "cell_type": "code",
   "execution_count": 131,
   "id": "172aca08",
   "metadata": {},
   "outputs": [
    {
     "data": {
      "text/plain": [
       "3×3 Matrix{Int64}:\n",
       " 3   4   5\n",
       " 6   7   8\n",
       " 9  10  11"
      ]
     },
     "execution_count": 131,
     "metadata": {},
     "output_type": "execute_result"
    }
   ],
   "source": [
    "A2=add_one.(A1)"
   ]
  },
  {
   "cell_type": "code",
   "execution_count": 132,
   "id": "8ac675c6",
   "metadata": {},
   "outputs": [],
   "source": [
    "@assert A2 == [3 4 5; 6 7 8; 9 10 11]"
   ]
  },
  {
   "cell_type": "markdown",
   "id": "6e4b808c",
   "metadata": {},
   "source": [
    "### Packages\n",
    "\n",
    "#### 7.1 \n",
    "Load the Primes package (source code at https://github.com/JuliaMath/Primes.jl )."
   ]
  },
  {
   "cell_type": "code",
   "execution_count": 144,
   "id": "4ad72449",
   "metadata": {},
   "outputs": [
    {
     "name": "stderr",
     "output_type": "stream",
     "text": [
      "\u001b[32m\u001b[1m   Resolving\u001b[22m\u001b[39m package versions...\n",
      "\u001b[32m\u001b[1m  No Changes\u001b[22m\u001b[39m to `C:\\Users\\mckoc\\.julia\\environments\\v1.8\\Project.toml`\n",
      "\u001b[32m\u001b[1m  No Changes\u001b[22m\u001b[39m to `C:\\Users\\mckoc\\.julia\\environments\\v1.8\\Manifest.toml`\n",
      "\u001b[32m\u001b[1m   Resolving\u001b[22m\u001b[39m package versions...\n",
      "\u001b[32m\u001b[1m   Installed\u001b[22m\u001b[39m libfdk_aac_jll ─────────────── v2.0.2+0\n",
      "\u001b[32m\u001b[1m   Installed\u001b[22m\u001b[39m JpegTurbo_jll ──────────────── v2.1.2+0\n",
      "\u001b[32m\u001b[1m   Installed\u001b[22m\u001b[39m Libmount_jll ───────────────── v2.35.0+0\n",
      "\u001b[32m\u001b[1m   Installed\u001b[22m\u001b[39m x265_jll ───────────────────── v3.5.0+0\n",
      "\u001b[32m\u001b[1m   Installed\u001b[22m\u001b[39m GR_jll ─────────────────────── v0.71.5+0\n",
      "\u001b[32m\u001b[1m   Installed\u001b[22m\u001b[39m LERC_jll ───────────────────── v3.0.0+1\n",
      "\u001b[32m\u001b[1m   Installed\u001b[22m\u001b[39m Opus_jll ───────────────────── v1.3.2+0\n",
      "\u001b[32m\u001b[1m   Installed\u001b[22m\u001b[39m Xorg_xkbcomp_jll ───────────── v1.4.2+4\n",
      "\u001b[32m\u001b[1m   Installed\u001b[22m\u001b[39m Xorg_xcb_util_wm_jll ───────── v0.4.1+1\n",
      "\u001b[32m\u001b[1m   Installed\u001b[22m\u001b[39m Grisu ──────────────────────── v1.0.2\n",
      "\u001b[32m\u001b[1m   Installed\u001b[22m\u001b[39m Measures ───────────────────── v0.3.2\n",
      "\u001b[32m\u001b[1m   Installed\u001b[22m\u001b[39m Contour ────────────────────── v0.6.2\n",
      "\u001b[32m\u001b[1m   Installed\u001b[22m\u001b[39m Xorg_xcb_util_image_jll ────── v0.4.0+1\n",
      "\u001b[32m\u001b[1m   Installed\u001b[22m\u001b[39m PlotUtils ──────────────────── v1.3.4\n",
      "\u001b[32m\u001b[1m   Installed\u001b[22m\u001b[39m Xorg_libpthread_stubs_jll ──── v0.1.0+3\n",
      "\u001b[32m\u001b[1m   Installed\u001b[22m\u001b[39m Cairo_jll ──────────────────── v1.16.1+1\n",
      "\u001b[32m\u001b[1m   Installed\u001b[22m\u001b[39m Xorg_xcb_util_jll ──────────── v0.4.0+1\n",
      "\u001b[32m\u001b[1m   Installed\u001b[22m\u001b[39m Fontconfig_jll ─────────────── v2.13.93+0\n",
      "\u001b[32m\u001b[1m   Installed\u001b[22m\u001b[39m Libgpg_error_jll ───────────── v1.42.0+0\n",
      "\u001b[32m\u001b[1m   Installed\u001b[22m\u001b[39m RecipesPipeline ────────────── v0.6.11\n",
      "\u001b[32m\u001b[1m   Installed\u001b[22m\u001b[39m Xorg_libxkbfile_jll ────────── v1.1.0+4\n",
      "\u001b[32m\u001b[1m   Installed\u001b[22m\u001b[39m ColorSchemes ───────────────── v3.20.0\n",
      "\u001b[32m\u001b[1m   Installed\u001b[22m\u001b[39m Formatting ─────────────────── v0.4.2\n",
      "\u001b[32m\u001b[1m   Installed\u001b[22m\u001b[39m Xorg_libXinerama_jll ───────── v1.1.4+4\n",
      "\u001b[32m\u001b[1m   Installed\u001b[22m\u001b[39m Xorg_libXau_jll ────────────── v1.0.9+4\n",
      "\u001b[32m\u001b[1m   Installed\u001b[22m\u001b[39m IrrationalConstants ────────── v0.1.1\n",
      "\u001b[32m\u001b[1m   Installed\u001b[22m\u001b[39m Missings ───────────────────── v1.1.0\n",
      "\u001b[32m\u001b[1m   Installed\u001b[22m\u001b[39m FFMPEG ─────────────────────── v0.4.1\n",
      "\u001b[32m\u001b[1m   Installed\u001b[22m\u001b[39m Qt5Base_jll ────────────────── v5.15.3+2\n",
      "\u001b[32m\u001b[1m   Installed\u001b[22m\u001b[39m Showoff ────────────────────── v1.0.3\n",
      "\u001b[32m\u001b[1m   Installed\u001b[22m\u001b[39m Xorg_xcb_util_keysyms_jll ──── v0.4.0+1\n",
      "\u001b[32m\u001b[1m   Installed\u001b[22m\u001b[39m Bzip2_jll ──────────────────── v1.0.8+0\n",
      "\u001b[32m\u001b[1m   Installed\u001b[22m\u001b[39m xkbcommon_jll ──────────────── v1.4.1+0\n",
      "\u001b[32m\u001b[1m   Installed\u001b[22m\u001b[39m Pipe ───────────────────────── v1.3.0\n",
      "\u001b[32m\u001b[1m   Installed\u001b[22m\u001b[39m SpecialFunctions ───────────── v2.1.7\n",
      "\u001b[32m\u001b[1m   Installed\u001b[22m\u001b[39m GR ─────────────────────────── v0.71.5\n",
      "\u001b[32m\u001b[1m   Installed\u001b[22m\u001b[39m HarfBuzz_jll ───────────────── v2.8.1+1\n",
      "\u001b[32m\u001b[1m   Installed\u001b[22m\u001b[39m PlotThemes ─────────────────── v3.1.0\n",
      "\u001b[32m\u001b[1m   Installed\u001b[22m\u001b[39m NaNMath ────────────────────── v1.0.1\n",
      "\u001b[32m\u001b[1m   Installed\u001b[22m\u001b[39m fzf_jll ────────────────────── v0.29.0+0\n",
      "\u001b[32m\u001b[1m   Installed\u001b[22m\u001b[39m LZO_jll ────────────────────── v2.10.1+0\n",
      "\u001b[32m\u001b[1m   Installed\u001b[22m\u001b[39m FriBidi_jll ────────────────── v1.0.10+0\n",
      "\u001b[32m\u001b[1m   Installed\u001b[22m\u001b[39m GLFW_jll ───────────────────── v3.3.8+0\n",
      "\u001b[32m\u001b[1m   Installed\u001b[22m\u001b[39m UnicodeFun ─────────────────── v0.4.1\n",
      "\u001b[32m\u001b[1m   Installed\u001b[22m\u001b[39m x264_jll ───────────────────── v2021.5.5+0\n",
      "\u001b[32m\u001b[1m   Installed\u001b[22m\u001b[39m FreeType2_jll ──────────────── v2.10.4+0\n",
      "\u001b[32m\u001b[1m   Installed\u001b[22m\u001b[39m StatsAPI ───────────────────── v1.5.0\n",
      "\u001b[32m\u001b[1m   Installed\u001b[22m\u001b[39m JLFzf ──────────────────────── v0.1.5\n",
      "\u001b[32m\u001b[1m   Installed\u001b[22m\u001b[39m DataStructures ─────────────── v0.18.13\n",
      "\u001b[32m\u001b[1m   Installed\u001b[22m\u001b[39m Compat ─────────────────────── v4.5.0\n",
      "\u001b[32m\u001b[1m   Installed\u001b[22m\u001b[39m Colors ─────────────────────── v0.12.10\n",
      "\u001b[32m\u001b[1m   Installed\u001b[22m\u001b[39m StatsBase ──────────────────── v0.33.21\n",
      "\u001b[32m\u001b[1m   Installed\u001b[22m\u001b[39m Xorg_libxcb_jll ────────────── v1.13.0+3\n",
      "\u001b[32m\u001b[1m   Installed\u001b[22m\u001b[39m libpng_jll ─────────────────── v1.6.38+0\n",
      "\u001b[32m\u001b[1m   Installed\u001b[22m\u001b[39m libaom_jll ─────────────────── v3.4.0+0\n",
      "\u001b[32m\u001b[1m   Installed\u001b[22m\u001b[39m Xorg_libXext_jll ───────────── v1.3.4+4\n",
      "\u001b[32m\u001b[1m   Installed\u001b[22m\u001b[39m ColorTypes ─────────────────── v0.11.4\n",
      "\u001b[32m\u001b[1m   Installed\u001b[22m\u001b[39m Zstd_jll ───────────────────── v1.5.2+0\n",
      "\u001b[32m\u001b[1m   Installed\u001b[22m\u001b[39m TensorCore ─────────────────── v0.1.1\n",
      "\u001b[32m\u001b[1m   Installed\u001b[22m\u001b[39m Expat_jll ──────────────────── v2.4.8+0\n",
      "\u001b[32m\u001b[1m   Installed\u001b[22m\u001b[39m Plots ──────────────────────── v1.38.3\n",
      "\u001b[32m\u001b[1m   Installed\u001b[22m\u001b[39m Libtiff_jll ────────────────── v4.4.0+0\n",
      "\u001b[32m\u001b[1m   Installed\u001b[22m\u001b[39m ColorVectorSpace ───────────── v0.9.10\n",
      "\u001b[32m\u001b[1m   Installed\u001b[22m\u001b[39m Libffi_jll ─────────────────── v3.2.2+1\n",
      "\u001b[32m\u001b[1m   Installed\u001b[22m\u001b[39m Xorg_libXrender_jll ────────── v0.9.10+4\n",
      "\u001b[32m\u001b[1m   Installed\u001b[22m\u001b[39m Ogg_jll ────────────────────── v1.3.5+1\n",
      "\u001b[32m\u001b[1m   Installed\u001b[22m\u001b[39m Xorg_libXi_jll ─────────────── v1.7.10+4\n",
      "\u001b[32m\u001b[1m   Installed\u001b[22m\u001b[39m XSLT_jll ───────────────────── v1.1.34+0\n",
      "\u001b[32m\u001b[1m   Installed\u001b[22m\u001b[39m Reexport ───────────────────── v1.2.2\n",
      "\u001b[32m\u001b[1m   Installed\u001b[22m\u001b[39m LogExpFunctions ────────────── v0.3.20\n",
      "\u001b[32m\u001b[1m   Installed\u001b[22m\u001b[39m ChainRulesCore ─────────────── v1.15.7\n",
      "\u001b[32m\u001b[1m   Installed\u001b[22m\u001b[39m OpenSpecFun_jll ────────────── v0.5.5+0\n",
      "\u001b[32m\u001b[1m   Installed\u001b[22m\u001b[39m Xorg_libXcursor_jll ────────── v1.2.0+4\n",
      "\u001b[32m\u001b[1m   Installed\u001b[22m\u001b[39m InverseFunctions ───────────── v0.1.8\n",
      "\u001b[32m\u001b[1m   Installed\u001b[22m\u001b[39m Libuuid_jll ────────────────── v2.36.0+0\n",
      "\u001b[32m\u001b[1m   Installed\u001b[22m\u001b[39m Wayland_protocols_jll ──────── v1.25.0+0\n",
      "\u001b[32m\u001b[1m   Installed\u001b[22m\u001b[39m Xorg_xcb_util_renderutil_jll ─ v0.3.9+1\n",
      "\u001b[32m\u001b[1m   Installed\u001b[22m\u001b[39m DocStringExtensions ────────── v0.9.3\n",
      "\u001b[32m\u001b[1m   Installed\u001b[22m\u001b[39m Graphite2_jll ──────────────── v1.3.14+0\n",
      "\u001b[32m\u001b[1m   Installed\u001b[22m\u001b[39m libass_jll ─────────────────── v0.15.1+0\n",
      "\u001b[32m\u001b[1m   Installed\u001b[22m\u001b[39m MacroTools ─────────────────── v0.5.10\n",
      "\u001b[32m\u001b[1m   Installed\u001b[22m\u001b[39m Pixman_jll ─────────────────── v0.40.1+0\n",
      "\u001b[32m\u001b[1m   Installed\u001b[22m\u001b[39m XML2_jll ───────────────────── v2.10.3+0\n",
      "\u001b[32m\u001b[1m   Installed\u001b[22m\u001b[39m Gettext_jll ────────────────── v0.21.0+0\n",
      "\u001b[32m\u001b[1m   Installed\u001b[22m\u001b[39m Wayland_jll ────────────────── v1.21.0+0\n",
      "\u001b[32m\u001b[1m   Installed\u001b[22m\u001b[39m Xorg_xtrans_jll ────────────── v1.4.0+3\n",
      "\u001b[32m\u001b[1m   Installed\u001b[22m\u001b[39m Latexify ───────────────────── v0.15.18\n",
      "\u001b[32m\u001b[1m   Installed\u001b[22m\u001b[39m FFMPEG_jll ─────────────────── v4.4.2+2\n",
      "\u001b[32m\u001b[1m   Installed\u001b[22m\u001b[39m Libgcrypt_jll ──────────────── v1.8.7+0\n",
      "\u001b[32m\u001b[1m   Installed\u001b[22m\u001b[39m Xorg_xkeyboard_config_jll ──── v2.27.0+4\n",
      "\u001b[32m\u001b[1m   Installed\u001b[22m\u001b[39m Xorg_libXrandr_jll ─────────── v1.5.2+4\n",
      "\u001b[32m\u001b[1m   Installed\u001b[22m\u001b[39m FixedPointNumbers ──────────── v0.8.4\n",
      "\u001b[32m\u001b[1m   Installed\u001b[22m\u001b[39m RecipesBase ────────────────── v1.3.3\n",
      "\u001b[32m\u001b[1m   Installed\u001b[22m\u001b[39m Xorg_libXfixes_jll ─────────── v5.0.3+4\n",
      "\u001b[32m\u001b[1m   Installed\u001b[22m\u001b[39m Libiconv_jll ───────────────── v1.16.1+2\n",
      "\u001b[32m\u001b[1m   Installed\u001b[22m\u001b[39m LAME_jll ───────────────────── v3.100.1+0\n",
      "\u001b[32m\u001b[1m   Installed\u001b[22m\u001b[39m Glib_jll ───────────────────── v2.74.0+2\n",
      "\u001b[32m\u001b[1m   Installed\u001b[22m\u001b[39m LaTeXStrings ───────────────── v1.3.0\n",
      "\u001b[32m\u001b[1m   Installed\u001b[22m\u001b[39m libvorbis_jll ──────────────── v1.3.7+1\n",
      "\u001b[32m\u001b[1m   Installed\u001b[22m\u001b[39m Libglvnd_jll ───────────────── v1.6.0+0\n",
      "\u001b[32m\u001b[1m   Installed\u001b[22m\u001b[39m Requires ───────────────────── v1.3.0\n",
      "\u001b[32m\u001b[1m   Installed\u001b[22m\u001b[39m Xorg_libXdmcp_jll ──────────── v1.1.3+4\n",
      "\u001b[32m\u001b[1m   Installed\u001b[22m\u001b[39m Xorg_libX11_jll ────────────── v1.6.9+4\n",
      "\u001b[32m\u001b[1m   Installed\u001b[22m\u001b[39m Unzip ──────────────────────── v0.2.0\n",
      "\u001b[32m\u001b[1m   Installed\u001b[22m\u001b[39m SortingAlgorithms ──────────── v1.1.0\n",
      "\u001b[32m\u001b[1m   Installed\u001b[22m\u001b[39m ChangesOfVariables ─────────── v0.1.5\n",
      "\u001b[32m\u001b[1m    Updating\u001b[22m\u001b[39m `C:\\Users\\mckoc\\.julia\\environments\\v1.8\\Project.toml`\n",
      " \u001b[90m [91a5bcdd] \u001b[39m\u001b[92m+ Plots v1.38.3\u001b[39m\n",
      "\u001b[32m\u001b[1m    Updating\u001b[22m\u001b[39m `C:\\Users\\mckoc\\.julia\\environments\\v1.8\\Manifest.toml`\n",
      " \u001b[90m [d360d2e6] \u001b[39m\u001b[92m+ ChainRulesCore v1.15.7\u001b[39m\n",
      " \u001b[90m [9e997f8a] \u001b[39m\u001b[92m+ ChangesOfVariables v0.1.5\u001b[39m\n",
      " \u001b[90m [35d6a980] \u001b[39m\u001b[92m+ ColorSchemes v3.20.0\u001b[39m\n",
      " \u001b[90m [3da002f7] \u001b[39m\u001b[92m+ ColorTypes v0.11.4\u001b[39m\n",
      " \u001b[90m [c3611d14] \u001b[39m\u001b[92m+ ColorVectorSpace v0.9.10\u001b[39m\n",
      " \u001b[90m [5ae59095] \u001b[39m\u001b[92m+ Colors v0.12.10\u001b[39m\n",
      " \u001b[90m [34da2185] \u001b[39m\u001b[92m+ Compat v4.5.0\u001b[39m\n",
      " \u001b[90m [d38c429a] \u001b[39m\u001b[92m+ Contour v0.6.2\u001b[39m\n",
      " \u001b[90m [864edb3b] \u001b[39m\u001b[92m+ DataStructures v0.18.13\u001b[39m\n",
      " \u001b[90m [ffbed154] \u001b[39m\u001b[92m+ DocStringExtensions v0.9.3\u001b[39m\n",
      " \u001b[90m [c87230d0] \u001b[39m\u001b[92m+ FFMPEG v0.4.1\u001b[39m\n",
      " \u001b[90m [53c48c17] \u001b[39m\u001b[92m+ FixedPointNumbers v0.8.4\u001b[39m\n",
      " \u001b[90m [59287772] \u001b[39m\u001b[92m+ Formatting v0.4.2\u001b[39m\n",
      " \u001b[90m [28b8d3ca] \u001b[39m\u001b[92m+ GR v0.71.5\u001b[39m\n",
      " \u001b[90m [42e2da0e] \u001b[39m\u001b[92m+ Grisu v1.0.2\u001b[39m\n",
      " \u001b[90m [3587e190] \u001b[39m\u001b[92m+ InverseFunctions v0.1.8\u001b[39m\n",
      " \u001b[90m [92d709cd] \u001b[39m\u001b[92m+ IrrationalConstants v0.1.1\u001b[39m\n",
      " \u001b[90m [1019f520] \u001b[39m\u001b[92m+ JLFzf v0.1.5\u001b[39m\n",
      " \u001b[90m [b964fa9f] \u001b[39m\u001b[92m+ LaTeXStrings v1.3.0\u001b[39m\n",
      " \u001b[90m [23fbe1c1] \u001b[39m\u001b[92m+ Latexify v0.15.18\u001b[39m\n",
      " \u001b[90m [2ab3a3ac] \u001b[39m\u001b[92m+ LogExpFunctions v0.3.20\u001b[39m\n",
      " \u001b[90m [1914dd2f] \u001b[39m\u001b[92m+ MacroTools v0.5.10\u001b[39m\n",
      " \u001b[90m [442fdcdd] \u001b[39m\u001b[92m+ Measures v0.3.2\u001b[39m\n",
      " \u001b[90m [e1d29d7a] \u001b[39m\u001b[92m+ Missings v1.1.0\u001b[39m\n",
      " \u001b[90m [77ba4419] \u001b[39m\u001b[92m+ NaNMath v1.0.1\u001b[39m\n",
      " \u001b[90m [b98c9c47] \u001b[39m\u001b[92m+ Pipe v1.3.0\u001b[39m\n",
      " \u001b[90m [ccf2f8ad] \u001b[39m\u001b[92m+ PlotThemes v3.1.0\u001b[39m\n",
      " \u001b[90m [995b91a9] \u001b[39m\u001b[92m+ PlotUtils v1.3.4\u001b[39m\n",
      " \u001b[90m [91a5bcdd] \u001b[39m\u001b[92m+ Plots v1.38.3\u001b[39m\n",
      " \u001b[90m [3cdcf5f2] \u001b[39m\u001b[92m+ RecipesBase v1.3.3\u001b[39m\n",
      " \u001b[90m [01d81517] \u001b[39m\u001b[92m+ RecipesPipeline v0.6.11\u001b[39m\n",
      " \u001b[90m [189a3867] \u001b[39m\u001b[92m+ Reexport v1.2.2\u001b[39m\n",
      " \u001b[90m [ae029012] \u001b[39m\u001b[92m+ Requires v1.3.0\u001b[39m\n",
      " \u001b[90m [992d4aef] \u001b[39m\u001b[92m+ Showoff v1.0.3\u001b[39m\n",
      " \u001b[90m [a2af1166] \u001b[39m\u001b[92m+ SortingAlgorithms v1.1.0\u001b[39m\n",
      " \u001b[90m [276daf66] \u001b[39m\u001b[92m+ SpecialFunctions v2.1.7\u001b[39m\n",
      " \u001b[90m [82ae8749] \u001b[39m\u001b[92m+ StatsAPI v1.5.0\u001b[39m\n",
      " \u001b[90m [2913bbd2] \u001b[39m\u001b[92m+ StatsBase v0.33.21\u001b[39m\n",
      " \u001b[90m [62fd8b95] \u001b[39m\u001b[92m+ TensorCore v0.1.1\u001b[39m\n",
      " \u001b[90m [1cfade01] \u001b[39m\u001b[92m+ UnicodeFun v0.4.1\u001b[39m\n",
      " \u001b[90m [41fe7b60] \u001b[39m\u001b[92m+ Unzip v0.2.0\u001b[39m\n",
      " \u001b[90m [6e34b625] \u001b[39m\u001b[92m+ Bzip2_jll v1.0.8+0\u001b[39m\n",
      " \u001b[90m [83423d85] \u001b[39m\u001b[92m+ Cairo_jll v1.16.1+1\u001b[39m\n",
      " \u001b[90m [2e619515] \u001b[39m\u001b[92m+ Expat_jll v2.4.8+0\u001b[39m\n",
      " \u001b[90m [b22a6f82] \u001b[39m\u001b[92m+ FFMPEG_jll v4.4.2+2\u001b[39m\n",
      " \u001b[90m [a3f928ae] \u001b[39m\u001b[92m+ Fontconfig_jll v2.13.93+0\u001b[39m\n",
      " \u001b[90m [d7e528f0] \u001b[39m\u001b[92m+ FreeType2_jll v2.10.4+0\u001b[39m\n",
      " \u001b[90m [559328eb] \u001b[39m\u001b[92m+ FriBidi_jll v1.0.10+0\u001b[39m\n",
      " \u001b[90m [0656b61e] \u001b[39m\u001b[92m+ GLFW_jll v3.3.8+0\u001b[39m\n",
      " \u001b[90m [d2c73de3] \u001b[39m\u001b[92m+ GR_jll v0.71.5+0\u001b[39m\n",
      " \u001b[90m [78b55507] \u001b[39m\u001b[92m+ Gettext_jll v0.21.0+0\u001b[39m\n",
      " \u001b[90m [7746bdde] \u001b[39m\u001b[92m+ Glib_jll v2.74.0+2\u001b[39m\n",
      " \u001b[90m [3b182d85] \u001b[39m\u001b[92m+ Graphite2_jll v1.3.14+0\u001b[39m\n",
      " \u001b[90m [2e76f6c2] \u001b[39m\u001b[92m+ HarfBuzz_jll v2.8.1+1\u001b[39m\n",
      " \u001b[90m [aacddb02] \u001b[39m\u001b[92m+ JpegTurbo_jll v2.1.2+0\u001b[39m\n",
      " \u001b[90m [c1c5ebd0] \u001b[39m\u001b[92m+ LAME_jll v3.100.1+0\u001b[39m\n",
      " \u001b[90m [88015f11] \u001b[39m\u001b[92m+ LERC_jll v3.0.0+1\u001b[39m\n",
      " \u001b[90m [dd4b983a] \u001b[39m\u001b[92m+ LZO_jll v2.10.1+0\u001b[39m\n",
      "\u001b[33m⌅\u001b[39m\u001b[90m [e9f186c6] \u001b[39m\u001b[92m+ Libffi_jll v3.2.2+1\u001b[39m\n",
      " \u001b[90m [d4300ac3] \u001b[39m\u001b[92m+ Libgcrypt_jll v1.8.7+0\u001b[39m\n",
      " \u001b[90m [7e76a0d4] \u001b[39m\u001b[92m+ Libglvnd_jll v1.6.0+0\u001b[39m\n",
      " \u001b[90m [7add5ba3] \u001b[39m\u001b[92m+ Libgpg_error_jll v1.42.0+0\u001b[39m\n",
      " \u001b[90m [94ce4f54] \u001b[39m\u001b[92m+ Libiconv_jll v1.16.1+2\u001b[39m\n",
      " \u001b[90m [4b2f31a3] \u001b[39m\u001b[92m+ Libmount_jll v2.35.0+0\u001b[39m\n",
      " \u001b[90m [89763e89] \u001b[39m\u001b[92m+ Libtiff_jll v4.4.0+0\u001b[39m\n",
      " \u001b[90m [38a345b3] \u001b[39m\u001b[92m+ Libuuid_jll v2.36.0+0\u001b[39m\n",
      " \u001b[90m [e7412a2a] \u001b[39m\u001b[92m+ Ogg_jll v1.3.5+1\u001b[39m\n",
      " \u001b[90m [efe28fd5] \u001b[39m\u001b[92m+ OpenSpecFun_jll v0.5.5+0\u001b[39m\n",
      " \u001b[90m [91d4177d] \u001b[39m\u001b[92m+ Opus_jll v1.3.2+0\u001b[39m\n",
      " \u001b[90m [30392449] \u001b[39m\u001b[92m+ Pixman_jll v0.40.1+0\u001b[39m\n",
      " \u001b[90m [ea2cea3b] \u001b[39m\u001b[92m+ Qt5Base_jll v5.15.3+2\u001b[39m\n",
      " \u001b[90m [a2964d1f] \u001b[39m\u001b[92m+ Wayland_jll v1.21.0+0\u001b[39m\n",
      " \u001b[90m [2381bf8a] \u001b[39m\u001b[92m+ Wayland_protocols_jll v1.25.0+0\u001b[39m\n",
      " \u001b[90m [02c8fc9c] \u001b[39m\u001b[92m+ XML2_jll v2.10.3+0\u001b[39m\n",
      " \u001b[90m [aed1982a] \u001b[39m\u001b[92m+ XSLT_jll v1.1.34+0\u001b[39m\n",
      " \u001b[90m [4f6342f7] \u001b[39m\u001b[92m+ Xorg_libX11_jll v1.6.9+4\u001b[39m\n",
      " \u001b[90m [0c0b7dd1] \u001b[39m\u001b[92m+ Xorg_libXau_jll v1.0.9+4\u001b[39m\n",
      " \u001b[90m [935fb764] \u001b[39m\u001b[92m+ Xorg_libXcursor_jll v1.2.0+4\u001b[39m\n",
      " \u001b[90m [a3789734] \u001b[39m\u001b[92m+ Xorg_libXdmcp_jll v1.1.3+4\u001b[39m\n",
      " \u001b[90m [1082639a] \u001b[39m\u001b[92m+ Xorg_libXext_jll v1.3.4+4\u001b[39m\n",
      " \u001b[90m [d091e8ba] \u001b[39m\u001b[92m+ Xorg_libXfixes_jll v5.0.3+4\u001b[39m\n",
      " \u001b[90m [a51aa0fd] \u001b[39m\u001b[92m+ Xorg_libXi_jll v1.7.10+4\u001b[39m\n",
      " \u001b[90m [d1454406] \u001b[39m\u001b[92m+ Xorg_libXinerama_jll v1.1.4+4\u001b[39m\n",
      " \u001b[90m [ec84b674] \u001b[39m\u001b[92m+ Xorg_libXrandr_jll v1.5.2+4\u001b[39m\n",
      " \u001b[90m [ea2f1a96] \u001b[39m\u001b[92m+ Xorg_libXrender_jll v0.9.10+4\u001b[39m\n",
      " \u001b[90m [14d82f49] \u001b[39m\u001b[92m+ Xorg_libpthread_stubs_jll v0.1.0+3\u001b[39m\n",
      " \u001b[90m [c7cfdc94] \u001b[39m\u001b[92m+ Xorg_libxcb_jll v1.13.0+3\u001b[39m\n",
      " \u001b[90m [cc61e674] \u001b[39m\u001b[92m+ Xorg_libxkbfile_jll v1.1.0+4\u001b[39m\n",
      " \u001b[90m [12413925] \u001b[39m\u001b[92m+ Xorg_xcb_util_image_jll v0.4.0+1\u001b[39m\n",
      " \u001b[90m [2def613f] \u001b[39m\u001b[92m+ Xorg_xcb_util_jll v0.4.0+1\u001b[39m\n",
      " \u001b[90m [975044d2] \u001b[39m\u001b[92m+ Xorg_xcb_util_keysyms_jll v0.4.0+1\u001b[39m\n",
      " \u001b[90m [0d47668e] \u001b[39m\u001b[92m+ Xorg_xcb_util_renderutil_jll v0.3.9+1\u001b[39m\n",
      " \u001b[90m [c22f9ab0] \u001b[39m\u001b[92m+ Xorg_xcb_util_wm_jll v0.4.1+1\u001b[39m\n",
      " \u001b[90m [35661453] \u001b[39m\u001b[92m+ Xorg_xkbcomp_jll v1.4.2+4\u001b[39m\n",
      " \u001b[90m [33bec58e] \u001b[39m\u001b[92m+ Xorg_xkeyboard_config_jll v2.27.0+4\u001b[39m\n",
      " \u001b[90m [c5fb5394] \u001b[39m\u001b[92m+ Xorg_xtrans_jll v1.4.0+3\u001b[39m\n",
      " \u001b[90m [3161d3a3] \u001b[39m\u001b[92m+ Zstd_jll v1.5.2+0\u001b[39m\n",
      "\u001b[33m⌅\u001b[39m\u001b[90m [214eeab7] \u001b[39m\u001b[92m+ fzf_jll v0.29.0+0\u001b[39m\n",
      " \u001b[90m [a4ae2306] \u001b[39m\u001b[92m+ libaom_jll v3.4.0+0\u001b[39m\n",
      " \u001b[90m [0ac62f75] \u001b[39m\u001b[92m+ libass_jll v0.15.1+0\u001b[39m\n",
      " \u001b[90m [f638f0a6] \u001b[39m\u001b[92m+ libfdk_aac_jll v2.0.2+0\u001b[39m\n",
      " \u001b[90m [b53b4c65] \u001b[39m\u001b[92m+ libpng_jll v1.6.38+0\u001b[39m\n",
      " \u001b[90m [f27f6e37] \u001b[39m\u001b[92m+ libvorbis_jll v1.3.7+1\u001b[39m\n",
      " \u001b[90m [1270edf5] \u001b[39m\u001b[92m+ x264_jll v2021.5.5+0\u001b[39m\n",
      " \u001b[90m [dfaa095f] \u001b[39m\u001b[92m+ x265_jll v3.5.0+0\u001b[39m\n",
      " \u001b[90m [d8fb68d0] \u001b[39m\u001b[92m+ xkbcommon_jll v1.4.1+0\u001b[39m\n",
      " \u001b[90m [8bb1440f] \u001b[39m\u001b[92m+ DelimitedFiles\u001b[39m\n",
      " \u001b[90m [2f01184e] \u001b[39m\u001b[92m+ SparseArrays\u001b[39m\n",
      " \u001b[90m [10745b16] \u001b[39m\u001b[92m+ Statistics\u001b[39m\n",
      " \u001b[90m [05823500] \u001b[39m\u001b[92m+ OpenLibm_jll v0.8.1+0\u001b[39m\n",
      " \u001b[90m [efcefdf7] \u001b[39m\u001b[92m+ PCRE2_jll v10.40.0+0\u001b[39m\n",
      "\u001b[36m\u001b[1m        Info\u001b[22m\u001b[39m Packages marked with \u001b[33m⌅\u001b[39m have new versions available but compatibility constraints restrict them from upgrading. To see why use `status --outdated -m`\n",
      "\u001b[32m\u001b[1mPrecompiling\u001b[22m\u001b[39m project...\n",
      "\u001b[32m  ✓ \u001b[39m\u001b[90mStatsAPI\u001b[39m\n",
      "\u001b[32m  ✓ \u001b[39m\u001b[90mTensorCore\u001b[39m\n",
      "\u001b[32m  ✓ \u001b[39m\u001b[90mLaTeXStrings\u001b[39m\n",
      "\u001b[32m  ✓ \u001b[39m\u001b[90mContour\u001b[39m\n",
      "\u001b[32m  ✓ \u001b[39m\u001b[90mPipe\u001b[39m\n",
      "\u001b[32m  ✓ \u001b[39m\u001b[90mOpenLibm_jll\u001b[39m\n",
      "\u001b[32m  ✓ \u001b[39m\u001b[90mMeasures\u001b[39m\n",
      "\u001b[32m  ✓ \u001b[39m\u001b[90mInverseFunctions\u001b[39m\n",
      "\u001b[32m  ✓ \u001b[39m\u001b[90mFixedPointNumbers\u001b[39m\n",
      "\u001b[32m  ✓ \u001b[39m\u001b[90mGrisu\u001b[39m\n",
      "\u001b[32m  ✓ \u001b[39m\u001b[90mCompat\u001b[39m\n",
      "\u001b[32m  ✓ \u001b[39m\u001b[90mRequires\u001b[39m\n",
      "\u001b[32m  ✓ \u001b[39m\u001b[90mUnzip\u001b[39m\n",
      "\u001b[32m  ✓ \u001b[39m\u001b[90mMacroTools\u001b[39m\n",
      "\u001b[32m  ✓ \u001b[39m\u001b[90mReexport\u001b[39m\n",
      "\u001b[32m  ✓ \u001b[39m\u001b[90mDocStringExtensions\u001b[39m\n",
      "\u001b[32m  ✓ \u001b[39m\u001b[90mIrrationalConstants\u001b[39m\n",
      "\u001b[32m  ✓ \u001b[39m\u001b[90mFormatting\u001b[39m\n",
      "\u001b[32m  ✓ \u001b[39m\u001b[90mPCRE2_jll\u001b[39m\n",
      "\u001b[32m  ✓ \u001b[39m\u001b[90mMissings\u001b[39m\n",
      "\u001b[32m  ✓ \u001b[39m\u001b[90mUnicodeFun\u001b[39m\n",
      "\u001b[32m  ✓ \u001b[39m\u001b[90mGraphite2_jll\u001b[39m\n",
      "\u001b[32m  ✓ \u001b[39m\u001b[90mLibmount_jll\u001b[39m\n",
      "\u001b[32m  ✓ \u001b[39m\u001b[90mRecipesBase\u001b[39m\n",
      "\u001b[32m  ✓ \u001b[39m\u001b[90mBzip2_jll\u001b[39m\n",
      "\u001b[32m  ✓ \u001b[39m\u001b[90mXorg_libXau_jll\u001b[39m\n",
      "\u001b[32m  ✓ \u001b[39m\u001b[90mlibfdk_aac_jll\u001b[39m\n",
      "\u001b[32m  ✓ \u001b[39m\u001b[90mlibpng_jll\u001b[39m\n",
      "\u001b[32m  ✓ \u001b[39m\u001b[90mLAME_jll\u001b[39m\n",
      "\u001b[32m  ✓ \u001b[39m\u001b[90mLERC_jll\u001b[39m\n",
      "\u001b[32m  ✓ \u001b[39m\u001b[90mPixman_jll\u001b[39m\n",
      "\u001b[32m  ✓ \u001b[39m\u001b[90mfzf_jll\u001b[39m\n",
      "\u001b[32m  ✓ \u001b[39m\u001b[90mOgg_jll\u001b[39m\n",
      "\u001b[32m  ✓ \u001b[39m\u001b[90mJpegTurbo_jll\u001b[39m\n",
      "\u001b[32m  ✓ \u001b[39m\u001b[90mXorg_libXdmcp_jll\u001b[39m\n",
      "\u001b[32m  ✓ \u001b[39m\u001b[90mx265_jll\u001b[39m\n",
      "\u001b[32m  ✓ \u001b[39m\u001b[90mx264_jll\u001b[39m\n",
      "\u001b[32m  ✓ \u001b[39m\u001b[90mlibaom_jll\u001b[39m\n",
      "\u001b[32m  ✓ \u001b[39m\u001b[90mZstd_jll\u001b[39m\n",
      "\u001b[32m  ✓ \u001b[39m\u001b[90mExpat_jll\u001b[39m\n",
      "\u001b[32m  ✓ \u001b[39m\u001b[90mLZO_jll\u001b[39m\n",
      "\u001b[32m  ✓ \u001b[39m\u001b[90mXorg_xtrans_jll\u001b[39m\n",
      "\u001b[32m  ✓ \u001b[39m\u001b[90mOpus_jll\u001b[39m\n",
      "\u001b[32m  ✓ \u001b[39m\u001b[90mLibiconv_jll\u001b[39m\n",
      "\u001b[32m  ✓ \u001b[39m\u001b[90mLibffi_jll\u001b[39m\n",
      "\u001b[32m  ✓ \u001b[39m\u001b[90mLibgpg_error_jll\u001b[39m\n",
      "\u001b[32m  ✓ \u001b[39m\u001b[90mWayland_protocols_jll\u001b[39m\n",
      "\u001b[32m  ✓ \u001b[39m\u001b[90mXorg_libpthread_stubs_jll\u001b[39m\n",
      "\u001b[32m  ✓ \u001b[39m\u001b[90mOpenSpecFun_jll\u001b[39m\n",
      "\u001b[32m  ✓ \u001b[39m\u001b[90mFriBidi_jll\u001b[39m\n",
      "\u001b[32m  ✓ \u001b[39m\u001b[90mNaNMath\u001b[39m\n",
      "\u001b[32m  ✓ \u001b[39m\u001b[90mLibuuid_jll\u001b[39m\n",
      "\u001b[32m  ✓ \u001b[39m\u001b[90mShowoff\u001b[39m\n",
      "\u001b[32m  ✓ \u001b[39m\u001b[90mChainRulesCore\u001b[39m\n",
      "\u001b[32m  ✓ \u001b[39m\u001b[90mColorTypes\u001b[39m\n",
      "\u001b[32m  ✓ \u001b[39m\u001b[90mDataStructures\u001b[39m\n",
      "\u001b[32m  ✓ \u001b[39m\u001b[90mFreeType2_jll\u001b[39m\n",
      "\u001b[32m  ✓ \u001b[39m\u001b[90mJLFzf\u001b[39m\n",
      "\u001b[32m  ✓ \u001b[39m\u001b[90mLatexify\u001b[39m\n",
      "\u001b[32m  ✓ \u001b[39m\u001b[90mlibvorbis_jll\u001b[39m\n",
      "\u001b[32m  ✓ \u001b[39m\u001b[90mLibtiff_jll\u001b[39m\n",
      "\u001b[32m  ✓ \u001b[39m\u001b[90mLibgcrypt_jll\u001b[39m\n",
      "\u001b[32m  ✓ \u001b[39m\u001b[90mXML2_jll\u001b[39m\n",
      "\u001b[32m  ✓ \u001b[39m\u001b[90mChangesOfVariables\u001b[39m\n",
      "\u001b[32m  ✓ \u001b[39m\u001b[90mSortingAlgorithms\u001b[39m\n",
      "\u001b[32m  ✓ \u001b[39m\u001b[90mFontconfig_jll\u001b[39m\n",
      "\u001b[32m  ✓ \u001b[39m\u001b[90mXSLT_jll\u001b[39m\n",
      "\u001b[32m  ✓ \u001b[39m\u001b[90mGettext_jll\u001b[39m\n",
      "\u001b[32m  ✓ \u001b[39m\u001b[90mWayland_jll\u001b[39m\n",
      "\u001b[32m  ✓ \u001b[39m\u001b[90mXorg_libxcb_jll\u001b[39m\n",
      "\u001b[32m  ✓ \u001b[39m\u001b[90mLogExpFunctions\u001b[39m\n",
      "\u001b[32m  ✓ \u001b[39m\u001b[90mGlib_jll\u001b[39m\n",
      "\u001b[32m  ✓ \u001b[39m\u001b[90mColors\u001b[39m\n",
      "\u001b[32m  ✓ \u001b[39m\u001b[90mXorg_xcb_util_jll\u001b[39m\n",
      "\u001b[32m  ✓ \u001b[39m\u001b[90mXorg_libX11_jll\u001b[39m\n",
      "\u001b[32m  ✓ \u001b[39m\u001b[90mXorg_xcb_util_image_jll\u001b[39m\n",
      "\u001b[32m  ✓ \u001b[39m\u001b[90mXorg_xcb_util_keysyms_jll\u001b[39m\n",
      "\u001b[32m  ✓ \u001b[39m\u001b[90mXorg_xcb_util_renderutil_jll\u001b[39m\n",
      "\u001b[32m  ✓ \u001b[39m\u001b[90mStatsBase\u001b[39m\n",
      "\u001b[32m  ✓ \u001b[39m\u001b[90mXorg_xcb_util_wm_jll\u001b[39m\n",
      "\u001b[32m  ✓ \u001b[39m\u001b[90mXorg_libXrender_jll\u001b[39m\n",
      "\u001b[32m  ✓ \u001b[39m\u001b[90mXorg_libXext_jll\u001b[39m\n",
      "\u001b[32m  ✓ \u001b[39m\u001b[90mXorg_libXfixes_jll\u001b[39m\n",
      "\u001b[32m  ✓ \u001b[39m\u001b[90mXorg_libxkbfile_jll\u001b[39m\n",
      "\u001b[32m  ✓ \u001b[39m\u001b[90mLibglvnd_jll\u001b[39m\n",
      "\u001b[32m  ✓ \u001b[39m\u001b[90mSpecialFunctions\u001b[39m\n",
      "\u001b[32m  ✓ \u001b[39m\u001b[90mXorg_libXinerama_jll\u001b[39m\n",
      "\u001b[32m  ✓ \u001b[39m\u001b[90mXorg_libXrandr_jll\u001b[39m\n",
      "\u001b[32m  ✓ \u001b[39m\u001b[90mXorg_libXcursor_jll\u001b[39m\n",
      "\u001b[32m  ✓ \u001b[39m\u001b[90mXorg_libXi_jll\u001b[39m\n",
      "\u001b[32m  ✓ \u001b[39m\u001b[90mXorg_xkbcomp_jll\u001b[39m\n",
      "\u001b[32m  ✓ \u001b[39m\u001b[90mCairo_jll\u001b[39m\n",
      "\u001b[32m  ✓ \u001b[39m\u001b[90mGLFW_jll\u001b[39m\n",
      "\u001b[32m  ✓ \u001b[39m\u001b[90mXorg_xkeyboard_config_jll\u001b[39m\n",
      "\u001b[32m  ✓ \u001b[39m\u001b[90mxkbcommon_jll\u001b[39m\n",
      "\u001b[32m  ✓ \u001b[39m\u001b[90mHarfBuzz_jll\u001b[39m\n",
      "\u001b[32m  ✓ \u001b[39m\u001b[90mQt5Base_jll\u001b[39m\n",
      "\u001b[32m  ✓ \u001b[39m\u001b[90mColorVectorSpace\u001b[39m\n",
      "\u001b[32m  ✓ \u001b[39m\u001b[90mlibass_jll\u001b[39m\n",
      "\u001b[32m  ✓ \u001b[39m\u001b[90mFFMPEG_jll\u001b[39m\n",
      "\u001b[32m  ✓ \u001b[39m\u001b[90mFFMPEG\u001b[39m\n",
      "\u001b[32m  ✓ \u001b[39m\u001b[90mGR_jll\u001b[39m\n",
      "\u001b[32m  ✓ \u001b[39m\u001b[90mColorSchemes\u001b[39m\n",
      "\u001b[32m  ✓ \u001b[39m\u001b[90mGR\u001b[39m\n",
      "\u001b[32m  ✓ \u001b[39m\u001b[90mPlotUtils\u001b[39m\n",
      "\u001b[32m  ✓ \u001b[39m\u001b[90mRecipesPipeline\u001b[39m\n",
      "\u001b[32m  ✓ \u001b[39m\u001b[90mPlotThemes\u001b[39m\n",
      "\u001b[32m  ✓ \u001b[39mPlots\n",
      "  108 dependencies successfully precompiled in 415 seconds. 50 already precompiled.\n"
     ]
    }
   ],
   "source": [
    "using Pkg\n",
    "Pkg.add(\"Primes\")\n",
    "Pkg.add(\"Plots\")"
   ]
  },
  {
   "cell_type": "code",
   "execution_count": 136,
   "id": "54aa3824",
   "metadata": {},
   "outputs": [
    {
     "ename": "LoadError",
     "evalue": "AssertionError: #= In[136]:1 =# @isdefined Primes",
     "output_type": "error",
     "traceback": [
      "AssertionError: #= In[136]:1 =# @isdefined Primes",
      "",
      "Stacktrace:",
      " [1] top-level scope",
      "   @ In[136]:1"
     ]
    }
   ],
   "source": [
    "@assert @isdefined Primes"
   ]
  },
  {
   "cell_type": "markdown",
   "id": "639d7f7f",
   "metadata": {},
   "source": [
    "#### 7.2 \n",
    "Verify that you can now use the function `primes` to grab all prime numbers under 1,000,000 and store it in variable `primes_list`"
   ]
  },
  {
   "cell_type": "code",
   "execution_count": 141,
   "id": "e3a299fd",
   "metadata": {},
   "outputs": [
    {
     "data": {
      "text/plain": [
       "78498-element Vector{Int64}:\n",
       "      2\n",
       "      3\n",
       "      5\n",
       "      7\n",
       "     11\n",
       "     13\n",
       "     17\n",
       "     19\n",
       "     23\n",
       "     29\n",
       "     31\n",
       "     37\n",
       "     41\n",
       "      ⋮\n",
       " 999809\n",
       " 999853\n",
       " 999863\n",
       " 999883\n",
       " 999907\n",
       " 999917\n",
       " 999931\n",
       " 999953\n",
       " 999959\n",
       " 999961\n",
       " 999979\n",
       " 999983"
      ]
     },
     "execution_count": 141,
     "metadata": {},
     "output_type": "execute_result"
    }
   ],
   "source": [
    "using Primes\n",
    "primes_list= primes(1000000)"
   ]
  },
  {
   "cell_type": "code",
   "execution_count": 142,
   "id": "adf92dfc",
   "metadata": {},
   "outputs": [],
   "source": [
    "@assert primes_list == primes(1000000)"
   ]
  },
  {
   "cell_type": "markdown",
   "id": "f50d7b59",
   "metadata": {},
   "source": [
    "### Plotting\n",
    "\n",
    "#### 8.1 \n",
    "Given\n",
    "```julia\n",
    "x = -10:10\n",
    "```\n",
    "plot y vs. x for $y = x^2$.  You may want to change backends back again."
   ]
  },
  {
   "cell_type": "code",
   "execution_count": 151,
   "id": "9dd30c77",
   "metadata": {},
   "outputs": [
    {
     "data": {
      "image/svg+xml": [
       "<?xml version=\"1.0\" encoding=\"utf-8\"?>\n",
       "<svg xmlns=\"http://www.w3.org/2000/svg\" xmlns:xlink=\"http://www.w3.org/1999/xlink\" width=\"600\" height=\"400\" viewBox=\"0 0 2400 1600\">\n",
       "<defs>\n",
       "  <clipPath id=\"clip420\">\n",
       "    <rect x=\"0\" y=\"0\" width=\"2400\" height=\"1600\"/>\n",
       "  </clipPath>\n",
       "</defs>\n",
       "<path clip-path=\"url(#clip420)\" d=\"M0 1600 L2400 1600 L2400 0 L0 0  Z\" fill=\"#ffffff\" fill-rule=\"evenodd\" fill-opacity=\"1\"/>\n",
       "<defs>\n",
       "  <clipPath id=\"clip421\">\n",
       "    <rect x=\"480\" y=\"0\" width=\"1681\" height=\"1600\"/>\n",
       "  </clipPath>\n",
       "</defs>\n",
       "<path clip-path=\"url(#clip420)\" d=\"M169.121 1486.45 L2352.76 1486.45 L2352.76 47.2441 L169.121 47.2441  Z\" fill=\"#ffffff\" fill-rule=\"evenodd\" fill-opacity=\"1\"/>\n",
       "<defs>\n",
       "  <clipPath id=\"clip422\">\n",
       "    <rect x=\"169\" y=\"47\" width=\"2185\" height=\"1440\"/>\n",
       "  </clipPath>\n",
       "</defs>\n",
       "<polyline clip-path=\"url(#clip422)\" style=\"stroke:#000000; stroke-linecap:round; stroke-linejoin:round; stroke-width:2; stroke-opacity:0.1; fill:none\" points=\"230.922,1486.45 230.922,47.2441 \"/>\n",
       "<polyline clip-path=\"url(#clip422)\" style=\"stroke:#000000; stroke-linecap:round; stroke-linejoin:round; stroke-width:2; stroke-opacity:0.1; fill:none\" points=\"745.93,1486.45 745.93,47.2441 \"/>\n",
       "<polyline clip-path=\"url(#clip422)\" style=\"stroke:#000000; stroke-linecap:round; stroke-linejoin:round; stroke-width:2; stroke-opacity:0.1; fill:none\" points=\"1260.94,1486.45 1260.94,47.2441 \"/>\n",
       "<polyline clip-path=\"url(#clip422)\" style=\"stroke:#000000; stroke-linecap:round; stroke-linejoin:round; stroke-width:2; stroke-opacity:0.1; fill:none\" points=\"1775.95,1486.45 1775.95,47.2441 \"/>\n",
       "<polyline clip-path=\"url(#clip422)\" style=\"stroke:#000000; stroke-linecap:round; stroke-linejoin:round; stroke-width:2; stroke-opacity:0.1; fill:none\" points=\"2290.95,1486.45 2290.95,47.2441 \"/>\n",
       "<polyline clip-path=\"url(#clip420)\" style=\"stroke:#000000; stroke-linecap:round; stroke-linejoin:round; stroke-width:4; stroke-opacity:1; fill:none\" points=\"169.121,1486.45 2352.76,1486.45 \"/>\n",
       "<polyline clip-path=\"url(#clip420)\" style=\"stroke:#000000; stroke-linecap:round; stroke-linejoin:round; stroke-width:4; stroke-opacity:1; fill:none\" points=\"230.922,1486.45 230.922,1467.55 \"/>\n",
       "<polyline clip-path=\"url(#clip420)\" style=\"stroke:#000000; stroke-linecap:round; stroke-linejoin:round; stroke-width:4; stroke-opacity:1; fill:none\" points=\"745.93,1486.45 745.93,1467.55 \"/>\n",
       "<polyline clip-path=\"url(#clip420)\" style=\"stroke:#000000; stroke-linecap:round; stroke-linejoin:round; stroke-width:4; stroke-opacity:1; fill:none\" points=\"1260.94,1486.45 1260.94,1467.55 \"/>\n",
       "<polyline clip-path=\"url(#clip420)\" style=\"stroke:#000000; stroke-linecap:round; stroke-linejoin:round; stroke-width:4; stroke-opacity:1; fill:none\" points=\"1775.95,1486.45 1775.95,1467.55 \"/>\n",
       "<polyline clip-path=\"url(#clip420)\" style=\"stroke:#000000; stroke-linecap:round; stroke-linejoin:round; stroke-width:4; stroke-opacity:1; fill:none\" points=\"2290.95,1486.45 2290.95,1467.55 \"/>\n",
       "<path clip-path=\"url(#clip420)\" d=\"M184.985 1532.02 L214.661 1532.02 L214.661 1535.95 L184.985 1535.95 L184.985 1532.02 Z\" fill=\"#000000\" fill-rule=\"evenodd\" fill-opacity=\"1\" /><path clip-path=\"url(#clip420)\" d=\"M225.564 1544.91 L233.202 1544.91 L233.202 1518.55 L224.892 1520.21 L224.892 1515.95 L233.156 1514.29 L237.832 1514.29 L237.832 1544.91 L245.471 1544.91 L245.471 1548.85 L225.564 1548.85 L225.564 1544.91 Z\" fill=\"#000000\" fill-rule=\"evenodd\" fill-opacity=\"1\" /><path clip-path=\"url(#clip420)\" d=\"M264.915 1517.37 Q261.304 1517.37 259.475 1520.93 Q257.67 1524.47 257.67 1531.6 Q257.67 1538.71 259.475 1542.27 Q261.304 1545.82 264.915 1545.82 Q268.549 1545.82 270.355 1542.27 Q272.184 1538.71 272.184 1531.6 Q272.184 1524.47 270.355 1520.93 Q268.549 1517.37 264.915 1517.37 M264.915 1513.66 Q270.725 1513.66 273.781 1518.27 Q276.86 1522.85 276.86 1531.6 Q276.86 1540.33 273.781 1544.94 Q270.725 1549.52 264.915 1549.52 Q259.105 1549.52 256.026 1544.94 Q252.971 1540.33 252.971 1531.6 Q252.971 1522.85 256.026 1518.27 Q259.105 1513.66 264.915 1513.66 Z\" fill=\"#000000\" fill-rule=\"evenodd\" fill-opacity=\"1\" /><path clip-path=\"url(#clip420)\" d=\"M715.572 1532.02 L745.248 1532.02 L745.248 1535.95 L715.572 1535.95 L715.572 1532.02 Z\" fill=\"#000000\" fill-rule=\"evenodd\" fill-opacity=\"1\" /><path clip-path=\"url(#clip420)\" d=\"M755.386 1514.29 L773.743 1514.29 L773.743 1518.22 L759.669 1518.22 L759.669 1526.7 Q760.687 1526.35 761.706 1526.19 Q762.724 1526 763.743 1526 Q769.53 1526 772.909 1529.17 Q776.289 1532.34 776.289 1537.76 Q776.289 1543.34 772.817 1546.44 Q769.345 1549.52 763.025 1549.52 Q760.849 1549.52 758.581 1549.15 Q756.335 1548.78 753.928 1548.04 L753.928 1543.34 Q756.011 1544.47 758.234 1545.03 Q760.456 1545.58 762.933 1545.58 Q766.937 1545.58 769.275 1543.48 Q771.613 1541.37 771.613 1537.76 Q771.613 1534.15 769.275 1532.04 Q766.937 1529.94 762.933 1529.94 Q761.058 1529.94 759.183 1530.35 Q757.331 1530.77 755.386 1531.65 L755.386 1514.29 Z\" fill=\"#000000\" fill-rule=\"evenodd\" fill-opacity=\"1\" /><path clip-path=\"url(#clip420)\" d=\"M1260.94 1517.37 Q1257.33 1517.37 1255.5 1520.93 Q1253.69 1524.47 1253.69 1531.6 Q1253.69 1538.71 1255.5 1542.27 Q1257.33 1545.82 1260.94 1545.82 Q1264.57 1545.82 1266.38 1542.27 Q1268.21 1538.71 1268.21 1531.6 Q1268.21 1524.47 1266.38 1520.93 Q1264.57 1517.37 1260.94 1517.37 M1260.94 1513.66 Q1266.75 1513.66 1269.8 1518.27 Q1272.88 1522.85 1272.88 1531.6 Q1272.88 1540.33 1269.8 1544.94 Q1266.75 1549.52 1260.94 1549.52 Q1255.13 1549.52 1252.05 1544.94 Q1248.99 1540.33 1248.99 1531.6 Q1248.99 1522.85 1252.05 1518.27 Q1255.13 1513.66 1260.94 1513.66 Z\" fill=\"#000000\" fill-rule=\"evenodd\" fill-opacity=\"1\" /><path clip-path=\"url(#clip420)\" d=\"M1766.22 1514.29 L1784.58 1514.29 L1784.58 1518.22 L1770.51 1518.22 L1770.51 1526.7 Q1771.53 1526.35 1772.54 1526.19 Q1773.56 1526 1774.58 1526 Q1780.37 1526 1783.75 1529.17 Q1787.13 1532.34 1787.13 1537.76 Q1787.13 1543.34 1783.66 1546.44 Q1780.18 1549.52 1773.86 1549.52 Q1771.69 1549.52 1769.42 1549.15 Q1767.17 1548.78 1764.77 1548.04 L1764.77 1543.34 Q1766.85 1544.47 1769.07 1545.03 Q1771.29 1545.58 1773.77 1545.58 Q1777.78 1545.58 1780.11 1543.48 Q1782.45 1541.37 1782.45 1537.76 Q1782.45 1534.15 1780.11 1532.04 Q1777.78 1529.94 1773.77 1529.94 Q1771.9 1529.94 1770.02 1530.35 Q1768.17 1530.77 1766.22 1531.65 L1766.22 1514.29 Z\" fill=\"#000000\" fill-rule=\"evenodd\" fill-opacity=\"1\" /><path clip-path=\"url(#clip420)\" d=\"M2265.64 1544.91 L2273.28 1544.91 L2273.28 1518.55 L2264.97 1520.21 L2264.97 1515.95 L2273.24 1514.29 L2277.91 1514.29 L2277.91 1544.91 L2285.55 1544.91 L2285.55 1548.85 L2265.64 1548.85 L2265.64 1544.91 Z\" fill=\"#000000\" fill-rule=\"evenodd\" fill-opacity=\"1\" /><path clip-path=\"url(#clip420)\" d=\"M2304.99 1517.37 Q2301.38 1517.37 2299.55 1520.93 Q2297.75 1524.47 2297.75 1531.6 Q2297.75 1538.71 2299.55 1542.27 Q2301.38 1545.82 2304.99 1545.82 Q2308.63 1545.82 2310.43 1542.27 Q2312.26 1538.71 2312.26 1531.6 Q2312.26 1524.47 2310.43 1520.93 Q2308.63 1517.37 2304.99 1517.37 M2304.99 1513.66 Q2310.8 1513.66 2313.86 1518.27 Q2316.94 1522.85 2316.94 1531.6 Q2316.94 1540.33 2313.86 1544.94 Q2310.8 1549.52 2304.99 1549.52 Q2299.18 1549.52 2296.11 1544.94 Q2293.05 1540.33 2293.05 1531.6 Q2293.05 1522.85 2296.11 1518.27 Q2299.18 1513.66 2304.99 1513.66 Z\" fill=\"#000000\" fill-rule=\"evenodd\" fill-opacity=\"1\" /><polyline clip-path=\"url(#clip422)\" style=\"stroke:#000000; stroke-linecap:round; stroke-linejoin:round; stroke-width:2; stroke-opacity:0.1; fill:none\" points=\"169.121,1445.72 2352.76,1445.72 \"/>\n",
       "<polyline clip-path=\"url(#clip422)\" style=\"stroke:#000000; stroke-linecap:round; stroke-linejoin:round; stroke-width:2; stroke-opacity:0.1; fill:none\" points=\"169.121,1106.28 2352.76,1106.28 \"/>\n",
       "<polyline clip-path=\"url(#clip422)\" style=\"stroke:#000000; stroke-linecap:round; stroke-linejoin:round; stroke-width:2; stroke-opacity:0.1; fill:none\" points=\"169.121,766.846 2352.76,766.846 \"/>\n",
       "<polyline clip-path=\"url(#clip422)\" style=\"stroke:#000000; stroke-linecap:round; stroke-linejoin:round; stroke-width:2; stroke-opacity:0.1; fill:none\" points=\"169.121,427.411 2352.76,427.411 \"/>\n",
       "<polyline clip-path=\"url(#clip422)\" style=\"stroke:#000000; stroke-linecap:round; stroke-linejoin:round; stroke-width:2; stroke-opacity:0.1; fill:none\" points=\"169.121,87.9763 2352.76,87.9763 \"/>\n",
       "<polyline clip-path=\"url(#clip420)\" style=\"stroke:#000000; stroke-linecap:round; stroke-linejoin:round; stroke-width:4; stroke-opacity:1; fill:none\" points=\"169.121,1486.45 169.121,47.2441 \"/>\n",
       "<polyline clip-path=\"url(#clip420)\" style=\"stroke:#000000; stroke-linecap:round; stroke-linejoin:round; stroke-width:4; stroke-opacity:1; fill:none\" points=\"169.121,1445.72 188.019,1445.72 \"/>\n",
       "<polyline clip-path=\"url(#clip420)\" style=\"stroke:#000000; stroke-linecap:round; stroke-linejoin:round; stroke-width:4; stroke-opacity:1; fill:none\" points=\"169.121,1106.28 188.019,1106.28 \"/>\n",
       "<polyline clip-path=\"url(#clip420)\" style=\"stroke:#000000; stroke-linecap:round; stroke-linejoin:round; stroke-width:4; stroke-opacity:1; fill:none\" points=\"169.121,766.846 188.019,766.846 \"/>\n",
       "<polyline clip-path=\"url(#clip420)\" style=\"stroke:#000000; stroke-linecap:round; stroke-linejoin:round; stroke-width:4; stroke-opacity:1; fill:none\" points=\"169.121,427.411 188.019,427.411 \"/>\n",
       "<polyline clip-path=\"url(#clip420)\" style=\"stroke:#000000; stroke-linecap:round; stroke-linejoin:round; stroke-width:4; stroke-opacity:1; fill:none\" points=\"169.121,87.9763 188.019,87.9763 \"/>\n",
       "<path clip-path=\"url(#clip420)\" d=\"M121.177 1431.51 Q117.566 1431.51 115.737 1435.08 Q113.932 1438.62 113.932 1445.75 Q113.932 1452.86 115.737 1456.42 Q117.566 1459.96 121.177 1459.96 Q124.811 1459.96 126.617 1456.42 Q128.445 1452.86 128.445 1445.75 Q128.445 1438.62 126.617 1435.08 Q124.811 1431.51 121.177 1431.51 M121.177 1427.81 Q126.987 1427.81 130.043 1432.42 Q133.121 1437 133.121 1445.75 Q133.121 1454.48 130.043 1459.08 Q126.987 1463.67 121.177 1463.67 Q115.367 1463.67 112.288 1459.08 Q109.233 1454.48 109.233 1445.75 Q109.233 1437 112.288 1432.42 Q115.367 1427.81 121.177 1427.81 Z\" fill=\"#000000\" fill-rule=\"evenodd\" fill-opacity=\"1\" /><path clip-path=\"url(#clip420)\" d=\"M86.0382 1119.63 L102.358 1119.63 L102.358 1123.56 L80.4133 1123.56 L80.4133 1119.63 Q83.0753 1116.87 87.6586 1112.24 Q92.2651 1107.59 93.4456 1106.25 Q95.691 1103.72 96.5706 1101.99 Q97.4734 1100.23 97.4734 1098.54 Q97.4734 1095.78 95.5289 1094.05 Q93.6076 1092.31 90.5058 1092.31 Q88.3067 1092.31 85.8531 1093.07 Q83.4225 1093.84 80.6447 1095.39 L80.6447 1090.67 Q83.4688 1089.53 85.9225 1088.95 Q88.3762 1088.38 90.4132 1088.38 Q95.7836 1088.38 98.978 1091.06 Q102.172 1093.75 102.172 1098.24 Q102.172 1100.37 101.362 1102.29 Q100.575 1104.19 98.4687 1106.78 Q97.89 1107.45 94.7882 1110.67 Q91.6864 1113.86 86.0382 1119.63 Z\" fill=\"#000000\" fill-rule=\"evenodd\" fill-opacity=\"1\" /><path clip-path=\"url(#clip420)\" d=\"M112.219 1089 L130.575 1089 L130.575 1092.94 L116.501 1092.94 L116.501 1101.41 Q117.52 1101.06 118.538 1100.9 Q119.557 1100.71 120.575 1100.71 Q126.362 1100.71 129.742 1103.89 Q133.121 1107.06 133.121 1112.47 Q133.121 1118.05 129.649 1121.15 Q126.177 1124.23 119.857 1124.23 Q117.682 1124.23 115.413 1123.86 Q113.168 1123.49 110.76 1122.75 L110.76 1118.05 Q112.844 1119.19 115.066 1119.74 Q117.288 1120.3 119.765 1120.3 Q123.77 1120.3 126.107 1118.19 Q128.445 1116.08 128.445 1112.47 Q128.445 1108.86 126.107 1106.76 Q123.77 1104.65 119.765 1104.65 Q117.89 1104.65 116.015 1105.07 Q114.163 1105.48 112.219 1106.36 L112.219 1089 Z\" fill=\"#000000\" fill-rule=\"evenodd\" fill-opacity=\"1\" /><path clip-path=\"url(#clip420)\" d=\"M81.0614 749.566 L99.4178 749.566 L99.4178 753.501 L85.3438 753.501 L85.3438 761.973 Q86.3623 761.626 87.3808 761.464 Q88.3993 761.279 89.4178 761.279 Q95.2049 761.279 98.5845 764.45 Q101.964 767.621 101.964 773.038 Q101.964 778.617 98.4919 781.719 Q95.0197 784.797 88.7003 784.797 Q86.5243 784.797 84.2558 784.427 Q82.0105 784.057 79.6031 783.316 L79.6031 778.617 Q81.6864 779.751 83.9086 780.307 Q86.1308 780.862 88.6077 780.862 Q92.6123 780.862 94.9502 778.756 Q97.2882 776.649 97.2882 773.038 Q97.2882 769.427 94.9502 767.321 Q92.6123 765.214 88.6077 765.214 Q86.7327 765.214 84.8577 765.631 Q83.0058 766.047 81.0614 766.927 L81.0614 749.566 Z\" fill=\"#000000\" fill-rule=\"evenodd\" fill-opacity=\"1\" /><path clip-path=\"url(#clip420)\" d=\"M121.177 752.645 Q117.566 752.645 115.737 756.209 Q113.932 759.751 113.932 766.881 Q113.932 773.987 115.737 777.552 Q117.566 781.094 121.177 781.094 Q124.811 781.094 126.617 777.552 Q128.445 773.987 128.445 766.881 Q128.445 759.751 126.617 756.209 Q124.811 752.645 121.177 752.645 M121.177 748.941 Q126.987 748.941 130.043 753.547 Q133.121 758.131 133.121 766.881 Q133.121 775.608 130.043 780.214 Q126.987 784.797 121.177 784.797 Q115.367 784.797 112.288 780.214 Q109.233 775.608 109.233 766.881 Q109.233 758.131 112.288 753.547 Q115.367 748.941 121.177 748.941 Z\" fill=\"#000000\" fill-rule=\"evenodd\" fill-opacity=\"1\" /><path clip-path=\"url(#clip420)\" d=\"M80.8299 410.131 L103.052 410.131 L103.052 412.122 L90.5058 444.691 L85.6216 444.691 L97.4271 414.066 L80.8299 414.066 L80.8299 410.131 Z\" fill=\"#000000\" fill-rule=\"evenodd\" fill-opacity=\"1\" /><path clip-path=\"url(#clip420)\" d=\"M112.219 410.131 L130.575 410.131 L130.575 414.066 L116.501 414.066 L116.501 422.538 Q117.52 422.191 118.538 422.029 Q119.557 421.844 120.575 421.844 Q126.362 421.844 129.742 425.015 Q133.121 428.187 133.121 433.603 Q133.121 439.182 129.649 442.284 Q126.177 445.362 119.857 445.362 Q117.682 445.362 115.413 444.992 Q113.168 444.622 110.76 443.881 L110.76 439.182 Q112.844 440.316 115.066 440.872 Q117.288 441.427 119.765 441.427 Q123.77 441.427 126.107 439.321 Q128.445 437.214 128.445 433.603 Q128.445 429.992 126.107 427.886 Q123.77 425.779 119.765 425.779 Q117.89 425.779 116.015 426.196 Q114.163 426.613 112.219 427.492 L112.219 410.131 Z\" fill=\"#000000\" fill-rule=\"evenodd\" fill-opacity=\"1\" /><path clip-path=\"url(#clip420)\" d=\"M51.6634 101.321 L59.3023 101.321 L59.3023 74.9555 L50.9921 76.6222 L50.9921 72.3629 L59.256 70.6963 L63.9319 70.6963 L63.9319 101.321 L71.5707 101.321 L71.5707 105.256 L51.6634 105.256 L51.6634 101.321 Z\" fill=\"#000000\" fill-rule=\"evenodd\" fill-opacity=\"1\" /><path clip-path=\"url(#clip420)\" d=\"M91.0151 73.775 Q87.404 73.775 85.5753 77.3398 Q83.7697 80.8814 83.7697 88.011 Q83.7697 95.1174 85.5753 98.6822 Q87.404 102.224 91.0151 102.224 Q94.6493 102.224 96.4548 98.6822 Q98.2835 95.1174 98.2835 88.011 Q98.2835 80.8814 96.4548 77.3398 Q94.6493 73.775 91.0151 73.775 M91.0151 70.0713 Q96.8252 70.0713 99.8808 74.6777 Q102.959 79.261 102.959 88.011 Q102.959 96.7378 99.8808 101.344 Q96.8252 105.928 91.0151 105.928 Q85.2049 105.928 82.1262 101.344 Q79.0707 96.7378 79.0707 88.011 Q79.0707 79.261 82.1262 74.6777 Q85.2049 70.0713 91.0151 70.0713 Z\" fill=\"#000000\" fill-rule=\"evenodd\" fill-opacity=\"1\" /><path clip-path=\"url(#clip420)\" d=\"M121.177 73.775 Q117.566 73.775 115.737 77.3398 Q113.932 80.8814 113.932 88.011 Q113.932 95.1174 115.737 98.6822 Q117.566 102.224 121.177 102.224 Q124.811 102.224 126.617 98.6822 Q128.445 95.1174 128.445 88.011 Q128.445 80.8814 126.617 77.3398 Q124.811 73.775 121.177 73.775 M121.177 70.0713 Q126.987 70.0713 130.043 74.6777 Q133.121 79.261 133.121 88.011 Q133.121 96.7378 130.043 101.344 Q126.987 105.928 121.177 105.928 Q115.367 105.928 112.288 101.344 Q109.233 96.7378 109.233 88.011 Q109.233 79.261 112.288 74.6777 Q115.367 70.0713 121.177 70.0713 Z\" fill=\"#000000\" fill-rule=\"evenodd\" fill-opacity=\"1\" /><polyline clip-path=\"url(#clip422)\" style=\"stroke:#009af9; stroke-linecap:round; stroke-linejoin:round; stroke-width:4; stroke-opacity:1; fill:none\" points=\"230.922,87.9763 333.924,345.947 436.926,576.762 539.927,780.423 642.929,956.93 745.93,1106.28 848.932,1228.48 951.934,1323.52 1054.94,1391.41 1157.94,1432.14 1260.94,1445.72 1363.94,1432.14 1466.94,1391.41 1569.94,1323.52 1672.95,1228.48 1775.95,1106.28 1878.95,956.93 1981.95,780.423 2084.95,576.762 2187.95,345.947 2290.95,87.9763 \"/>\n",
       "<path clip-path=\"url(#clip420)\" d=\"M1983.04 1438.47 L2279.97 1438.47 L2279.97 1334.79 L1983.04 1334.79  Z\" fill=\"#ffffff\" fill-rule=\"evenodd\" fill-opacity=\"1\"/>\n",
       "<polyline clip-path=\"url(#clip420)\" style=\"stroke:#000000; stroke-linecap:round; stroke-linejoin:round; stroke-width:4; stroke-opacity:1; fill:none\" points=\"1983.04,1438.47 2279.97,1438.47 2279.97,1334.79 1983.04,1334.79 1983.04,1438.47 \"/>\n",
       "<polyline clip-path=\"url(#clip420)\" style=\"stroke:#009af9; stroke-linecap:round; stroke-linejoin:round; stroke-width:4; stroke-opacity:1; fill:none\" points=\"2007.3,1386.63 2152.88,1386.63 \"/>\n",
       "<path clip-path=\"url(#clip420)\" d=\"M2177.14 1367.9 L2181.4 1367.9 L2181.4 1403.91 L2177.14 1403.91 L2177.14 1367.9 Z\" fill=\"#000000\" fill-rule=\"evenodd\" fill-opacity=\"1\" /><path clip-path=\"url(#clip420)\" d=\"M2190.31 1377.99 L2194.57 1377.99 L2194.57 1403.91 L2190.31 1403.91 L2190.31 1377.99 M2190.31 1367.9 L2194.57 1367.9 L2194.57 1373.29 L2190.31 1373.29 L2190.31 1367.9 Z\" fill=\"#000000\" fill-rule=\"evenodd\" fill-opacity=\"1\" /><path clip-path=\"url(#clip420)\" d=\"M2225.03 1388.27 L2225.03 1403.91 L2220.78 1403.91 L2220.78 1388.41 Q2220.78 1384.72 2219.34 1382.9 Q2217.9 1381.07 2215.03 1381.07 Q2211.59 1381.07 2209.59 1383.27 Q2207.6 1385.47 2207.6 1389.26 L2207.6 1403.91 L2203.32 1403.91 L2203.32 1377.99 L2207.6 1377.99 L2207.6 1382.02 Q2209.13 1379.68 2211.19 1378.52 Q2213.28 1377.36 2215.98 1377.36 Q2220.45 1377.36 2222.74 1380.14 Q2225.03 1382.9 2225.03 1388.27 Z\" fill=\"#000000\" fill-rule=\"evenodd\" fill-opacity=\"1\" /><path clip-path=\"url(#clip420)\" d=\"M2255.71 1389.89 L2255.71 1391.97 L2236.12 1391.97 Q2236.4 1396.37 2238.76 1398.68 Q2241.15 1400.97 2245.38 1400.97 Q2247.84 1400.97 2250.13 1400.37 Q2252.44 1399.77 2254.71 1398.57 L2254.71 1402.59 Q2252.42 1403.57 2250.01 1404.08 Q2247.6 1404.59 2245.13 1404.59 Q2238.92 1404.59 2235.29 1400.97 Q2231.68 1397.36 2231.68 1391.21 Q2231.68 1384.84 2235.1 1381.11 Q2238.55 1377.36 2244.39 1377.36 Q2249.62 1377.36 2252.65 1380.74 Q2255.71 1384.1 2255.71 1389.89 M2251.45 1388.64 Q2251.4 1385.14 2249.48 1383.06 Q2247.58 1380.97 2244.43 1380.97 Q2240.87 1380.97 2238.71 1382.99 Q2236.59 1385 2236.26 1388.66 L2251.45 1388.64 Z\" fill=\"#000000\" fill-rule=\"evenodd\" fill-opacity=\"1\" /></svg>\n"
      ]
     },
     "execution_count": 151,
     "metadata": {},
     "output_type": "execute_result"
    }
   ],
   "source": [
    "using Plots\n",
    "x=-10:10\n",
    "f(x)=x^2\n",
    "y=f.(x)\n",
    "gr()\n",
    "plot(x,y, label=\"line\")\n"
   ]
  },
  {
   "cell_type": "markdown",
   "id": "d8d4902b",
   "metadata": {},
   "source": [
    "#### 8.2 \n",
    "Execute the following code"
   ]
  },
  {
   "cell_type": "code",
   "execution_count": 149,
   "id": "5bcdf608",
   "metadata": {},
   "outputs": [
    {
     "data": {
      "image/svg+xml": [
       "<?xml version=\"1.0\" encoding=\"utf-8\"?>\n",
       "<svg xmlns=\"http://www.w3.org/2000/svg\" xmlns:xlink=\"http://www.w3.org/1999/xlink\" width=\"600\" height=\"400\" viewBox=\"0 0 2400 1600\">\n",
       "<defs>\n",
       "  <clipPath id=\"clip380\">\n",
       "    <rect x=\"0\" y=\"0\" width=\"2400\" height=\"1600\"/>\n",
       "  </clipPath>\n",
       "</defs>\n",
       "<path clip-path=\"url(#clip380)\" d=\"M0 1600 L2400 1600 L2400 0 L0 0  Z\" fill=\"#ffffff\" fill-rule=\"evenodd\" fill-opacity=\"1\"/>\n",
       "<defs>\n",
       "  <clipPath id=\"clip381\">\n",
       "    <rect x=\"480\" y=\"0\" width=\"1681\" height=\"1600\"/>\n",
       "  </clipPath>\n",
       "</defs>\n",
       "<path clip-path=\"url(#clip380)\" d=\"M239.19 686.448 L1157.63 686.448 L1157.63 47.2441 L239.19 47.2441  Z\" fill=\"#ffffff\" fill-rule=\"evenodd\" fill-opacity=\"1\"/>\n",
       "<defs>\n",
       "  <clipPath id=\"clip382\">\n",
       "    <rect x=\"239\" y=\"47\" width=\"919\" height=\"640\"/>\n",
       "  </clipPath>\n",
       "</defs>\n",
       "<polyline clip-path=\"url(#clip382)\" style=\"stroke:#000000; stroke-linecap:round; stroke-linejoin:round; stroke-width:2; stroke-opacity:0.1; fill:none\" points=\"265.184,686.448 265.184,47.2441 \"/>\n",
       "<polyline clip-path=\"url(#clip382)\" style=\"stroke:#000000; stroke-linecap:round; stroke-linejoin:round; stroke-width:2; stroke-opacity:0.1; fill:none\" points=\"481.797,686.448 481.797,47.2441 \"/>\n",
       "<polyline clip-path=\"url(#clip382)\" style=\"stroke:#000000; stroke-linecap:round; stroke-linejoin:round; stroke-width:2; stroke-opacity:0.1; fill:none\" points=\"698.409,686.448 698.409,47.2441 \"/>\n",
       "<polyline clip-path=\"url(#clip382)\" style=\"stroke:#000000; stroke-linecap:round; stroke-linejoin:round; stroke-width:2; stroke-opacity:0.1; fill:none\" points=\"915.022,686.448 915.022,47.2441 \"/>\n",
       "<polyline clip-path=\"url(#clip382)\" style=\"stroke:#000000; stroke-linecap:round; stroke-linejoin:round; stroke-width:2; stroke-opacity:0.1; fill:none\" points=\"1131.64,686.448 1131.64,47.2441 \"/>\n",
       "<polyline clip-path=\"url(#clip380)\" style=\"stroke:#000000; stroke-linecap:round; stroke-linejoin:round; stroke-width:4; stroke-opacity:1; fill:none\" points=\"239.19,686.448 1157.63,686.448 \"/>\n",
       "<polyline clip-path=\"url(#clip380)\" style=\"stroke:#000000; stroke-linecap:round; stroke-linejoin:round; stroke-width:4; stroke-opacity:1; fill:none\" points=\"265.184,686.448 265.184,667.55 \"/>\n",
       "<polyline clip-path=\"url(#clip380)\" style=\"stroke:#000000; stroke-linecap:round; stroke-linejoin:round; stroke-width:4; stroke-opacity:1; fill:none\" points=\"481.797,686.448 481.797,667.55 \"/>\n",
       "<polyline clip-path=\"url(#clip380)\" style=\"stroke:#000000; stroke-linecap:round; stroke-linejoin:round; stroke-width:4; stroke-opacity:1; fill:none\" points=\"698.409,686.448 698.409,667.55 \"/>\n",
       "<polyline clip-path=\"url(#clip380)\" style=\"stroke:#000000; stroke-linecap:round; stroke-linejoin:round; stroke-width:4; stroke-opacity:1; fill:none\" points=\"915.022,686.448 915.022,667.55 \"/>\n",
       "<polyline clip-path=\"url(#clip380)\" style=\"stroke:#000000; stroke-linecap:round; stroke-linejoin:round; stroke-width:4; stroke-opacity:1; fill:none\" points=\"1131.64,686.448 1131.64,667.55 \"/>\n",
       "<path clip-path=\"url(#clip380)\" d=\"M219.247 732.019 L248.922 732.019 L248.922 735.954 L219.247 735.954 L219.247 732.019 Z\" fill=\"#000000\" fill-rule=\"evenodd\" fill-opacity=\"1\" /><path clip-path=\"url(#clip380)\" d=\"M259.825 744.913 L267.464 744.913 L267.464 718.547 L259.154 720.214 L259.154 715.955 L267.418 714.288 L272.094 714.288 L272.094 744.913 L279.732 744.913 L279.732 748.848 L259.825 748.848 L259.825 744.913 Z\" fill=\"#000000\" fill-rule=\"evenodd\" fill-opacity=\"1\" /><path clip-path=\"url(#clip380)\" d=\"M299.177 717.367 Q295.566 717.367 293.737 720.931 Q291.931 724.473 291.931 731.603 Q291.931 738.709 293.737 742.274 Q295.566 745.815 299.177 745.815 Q302.811 745.815 304.617 742.274 Q306.445 738.709 306.445 731.603 Q306.445 724.473 304.617 720.931 Q302.811 717.367 299.177 717.367 M299.177 713.663 Q304.987 713.663 308.042 718.269 Q311.121 722.853 311.121 731.603 Q311.121 740.329 308.042 744.936 Q304.987 749.519 299.177 749.519 Q293.367 749.519 290.288 744.936 Q287.232 740.329 287.232 731.603 Q287.232 722.853 290.288 718.269 Q293.367 713.663 299.177 713.663 Z\" fill=\"#000000\" fill-rule=\"evenodd\" fill-opacity=\"1\" /><path clip-path=\"url(#clip380)\" d=\"M451.438 732.019 L481.114 732.019 L481.114 735.954 L451.438 735.954 L451.438 732.019 Z\" fill=\"#000000\" fill-rule=\"evenodd\" fill-opacity=\"1\" /><path clip-path=\"url(#clip380)\" d=\"M491.253 714.288 L509.609 714.288 L509.609 718.223 L495.535 718.223 L495.535 726.695 Q496.554 726.348 497.572 726.186 Q498.591 726.001 499.609 726.001 Q505.396 726.001 508.776 729.172 Q512.155 732.343 512.155 737.76 Q512.155 743.339 508.683 746.44 Q505.211 749.519 498.892 749.519 Q496.716 749.519 494.447 749.149 Q492.202 748.778 489.794 748.038 L489.794 743.339 Q491.878 744.473 494.1 745.028 Q496.322 745.584 498.799 745.584 Q502.804 745.584 505.141 743.478 Q507.479 741.371 507.479 737.76 Q507.479 734.149 505.141 732.042 Q502.804 729.936 498.799 729.936 Q496.924 729.936 495.049 730.353 Q493.197 730.769 491.253 731.649 L491.253 714.288 Z\" fill=\"#000000\" fill-rule=\"evenodd\" fill-opacity=\"1\" /><path clip-path=\"url(#clip380)\" d=\"M698.409 717.367 Q694.798 717.367 692.97 720.931 Q691.164 724.473 691.164 731.603 Q691.164 738.709 692.97 742.274 Q694.798 745.815 698.409 745.815 Q702.044 745.815 703.849 742.274 Q705.678 738.709 705.678 731.603 Q705.678 724.473 703.849 720.931 Q702.044 717.367 698.409 717.367 M698.409 713.663 Q704.22 713.663 707.275 718.269 Q710.354 722.853 710.354 731.603 Q710.354 740.329 707.275 744.936 Q704.22 749.519 698.409 749.519 Q692.599 749.519 689.521 744.936 Q686.465 740.329 686.465 731.603 Q686.465 722.853 689.521 718.269 Q692.599 713.663 698.409 713.663 Z\" fill=\"#000000\" fill-rule=\"evenodd\" fill-opacity=\"1\" /><path clip-path=\"url(#clip380)\" d=\"M905.3 714.288 L923.656 714.288 L923.656 718.223 L909.582 718.223 L909.582 726.695 Q910.601 726.348 911.619 726.186 Q912.638 726.001 913.657 726.001 Q919.444 726.001 922.823 729.172 Q926.203 732.343 926.203 737.76 Q926.203 743.339 922.731 746.44 Q919.258 749.519 912.939 749.519 Q910.763 749.519 908.495 749.149 Q906.249 748.778 903.842 748.038 L903.842 743.339 Q905.925 744.473 908.147 745.028 Q910.37 745.584 912.846 745.584 Q916.851 745.584 919.189 743.478 Q921.527 741.371 921.527 737.76 Q921.527 734.149 919.189 732.042 Q916.851 729.936 912.846 729.936 Q910.971 729.936 909.096 730.353 Q907.245 730.769 905.3 731.649 L905.3 714.288 Z\" fill=\"#000000\" fill-rule=\"evenodd\" fill-opacity=\"1\" /><path clip-path=\"url(#clip380)\" d=\"M1106.32 744.913 L1113.96 744.913 L1113.96 718.547 L1105.65 720.214 L1105.65 715.955 L1113.92 714.288 L1118.59 714.288 L1118.59 744.913 L1126.23 744.913 L1126.23 748.848 L1106.32 748.848 L1106.32 744.913 Z\" fill=\"#000000\" fill-rule=\"evenodd\" fill-opacity=\"1\" /><path clip-path=\"url(#clip380)\" d=\"M1145.67 717.367 Q1142.06 717.367 1140.23 720.931 Q1138.43 724.473 1138.43 731.603 Q1138.43 738.709 1140.23 742.274 Q1142.06 745.815 1145.67 745.815 Q1149.31 745.815 1151.11 742.274 Q1152.94 738.709 1152.94 731.603 Q1152.94 724.473 1151.11 720.931 Q1149.31 717.367 1145.67 717.367 M1145.67 713.663 Q1151.48 713.663 1154.54 718.269 Q1157.62 722.853 1157.62 731.603 Q1157.62 740.329 1154.54 744.936 Q1151.48 749.519 1145.67 749.519 Q1139.86 749.519 1136.79 744.936 Q1133.73 740.329 1133.73 731.603 Q1133.73 722.853 1136.79 718.269 Q1139.86 713.663 1145.67 713.663 Z\" fill=\"#000000\" fill-rule=\"evenodd\" fill-opacity=\"1\" /><polyline clip-path=\"url(#clip382)\" style=\"stroke:#000000; stroke-linecap:round; stroke-linejoin:round; stroke-width:2; stroke-opacity:0.1; fill:none\" points=\"239.19,668.357 1157.63,668.357 \"/>\n",
       "<polyline clip-path=\"url(#clip382)\" style=\"stroke:#000000; stroke-linecap:round; stroke-linejoin:round; stroke-width:2; stroke-opacity:0.1; fill:none\" points=\"239.19,517.602 1157.63,517.602 \"/>\n",
       "<polyline clip-path=\"url(#clip382)\" style=\"stroke:#000000; stroke-linecap:round; stroke-linejoin:round; stroke-width:2; stroke-opacity:0.1; fill:none\" points=\"239.19,366.846 1157.63,366.846 \"/>\n",
       "<polyline clip-path=\"url(#clip382)\" style=\"stroke:#000000; stroke-linecap:round; stroke-linejoin:round; stroke-width:2; stroke-opacity:0.1; fill:none\" points=\"239.19,216.09 1157.63,216.09 \"/>\n",
       "<polyline clip-path=\"url(#clip382)\" style=\"stroke:#000000; stroke-linecap:round; stroke-linejoin:round; stroke-width:2; stroke-opacity:0.1; fill:none\" points=\"239.19,65.3348 1157.63,65.3348 \"/>\n",
       "<polyline clip-path=\"url(#clip380)\" style=\"stroke:#000000; stroke-linecap:round; stroke-linejoin:round; stroke-width:4; stroke-opacity:1; fill:none\" points=\"239.19,686.448 239.19,47.2441 \"/>\n",
       "<polyline clip-path=\"url(#clip380)\" style=\"stroke:#000000; stroke-linecap:round; stroke-linejoin:round; stroke-width:4; stroke-opacity:1; fill:none\" points=\"239.19,668.357 258.088,668.357 \"/>\n",
       "<polyline clip-path=\"url(#clip380)\" style=\"stroke:#000000; stroke-linecap:round; stroke-linejoin:round; stroke-width:4; stroke-opacity:1; fill:none\" points=\"239.19,517.602 258.088,517.602 \"/>\n",
       "<polyline clip-path=\"url(#clip380)\" style=\"stroke:#000000; stroke-linecap:round; stroke-linejoin:round; stroke-width:4; stroke-opacity:1; fill:none\" points=\"239.19,366.846 258.088,366.846 \"/>\n",
       "<polyline clip-path=\"url(#clip380)\" style=\"stroke:#000000; stroke-linecap:round; stroke-linejoin:round; stroke-width:4; stroke-opacity:1; fill:none\" points=\"239.19,216.09 258.088,216.09 \"/>\n",
       "<polyline clip-path=\"url(#clip380)\" style=\"stroke:#000000; stroke-linecap:round; stroke-linejoin:round; stroke-width:4; stroke-opacity:1; fill:none\" points=\"239.19,65.3348 258.088,65.3348 \"/>\n",
       "<path clip-path=\"url(#clip380)\" d=\"M111.316 668.809 L140.992 668.809 L140.992 672.744 L111.316 672.744 L111.316 668.809 Z\" fill=\"#000000\" fill-rule=\"evenodd\" fill-opacity=\"1\" /><path clip-path=\"url(#clip380)\" d=\"M151.894 681.702 L159.533 681.702 L159.533 655.336 L151.223 657.003 L151.223 652.744 L159.487 651.077 L164.163 651.077 L164.163 681.702 L171.802 681.702 L171.802 685.637 L151.894 685.637 L151.894 681.702 Z\" fill=\"#000000\" fill-rule=\"evenodd\" fill-opacity=\"1\" /><path clip-path=\"url(#clip380)\" d=\"M191.246 654.156 Q187.635 654.156 185.806 657.721 Q184.001 661.262 184.001 668.392 Q184.001 675.498 185.806 679.063 Q187.635 682.605 191.246 682.605 Q194.88 682.605 196.686 679.063 Q198.514 675.498 198.514 668.392 Q198.514 661.262 196.686 657.721 Q194.88 654.156 191.246 654.156 M191.246 650.452 Q197.056 650.452 200.112 655.059 Q203.19 659.642 203.19 668.392 Q203.19 677.119 200.112 681.725 Q197.056 686.308 191.246 686.308 Q185.436 686.308 182.357 681.725 Q179.302 677.119 179.302 668.392 Q179.302 659.642 182.357 655.059 Q185.436 650.452 191.246 650.452 Z\" fill=\"#000000\" fill-rule=\"evenodd\" fill-opacity=\"1\" /><path clip-path=\"url(#clip380)\" d=\"M142.473 518.053 L172.149 518.053 L172.149 521.988 L142.473 521.988 L142.473 518.053 Z\" fill=\"#000000\" fill-rule=\"evenodd\" fill-opacity=\"1\" /><path clip-path=\"url(#clip380)\" d=\"M182.288 500.322 L200.644 500.322 L200.644 504.257 L186.57 504.257 L186.57 512.729 Q187.589 512.382 188.607 512.22 Q189.626 512.034 190.644 512.034 Q196.431 512.034 199.811 515.206 Q203.19 518.377 203.19 523.794 Q203.19 529.372 199.718 532.474 Q196.246 535.553 189.927 535.553 Q187.751 535.553 185.482 535.183 Q183.237 534.812 180.829 534.071 L180.829 529.372 Q182.913 530.507 185.135 531.062 Q187.357 531.618 189.834 531.618 Q193.839 531.618 196.177 529.511 Q198.514 527.405 198.514 523.794 Q198.514 520.183 196.177 518.076 Q193.839 515.97 189.834 515.97 Q187.959 515.97 186.084 516.386 Q184.232 516.803 182.288 517.683 L182.288 500.322 Z\" fill=\"#000000\" fill-rule=\"evenodd\" fill-opacity=\"1\" /><path clip-path=\"url(#clip380)\" d=\"M191.246 352.645 Q187.635 352.645 185.806 356.209 Q184.001 359.751 184.001 366.881 Q184.001 373.987 185.806 377.552 Q187.635 381.094 191.246 381.094 Q194.88 381.094 196.686 377.552 Q198.514 373.987 198.514 366.881 Q198.514 359.751 196.686 356.209 Q194.88 352.645 191.246 352.645 M191.246 348.941 Q197.056 348.941 200.112 353.547 Q203.19 358.131 203.19 366.881 Q203.19 375.608 200.112 380.214 Q197.056 384.797 191.246 384.797 Q185.436 384.797 182.357 380.214 Q179.302 375.608 179.302 366.881 Q179.302 358.131 182.357 353.547 Q185.436 348.941 191.246 348.941 Z\" fill=\"#000000\" fill-rule=\"evenodd\" fill-opacity=\"1\" /><path clip-path=\"url(#clip380)\" d=\"M182.288 198.81 L200.644 198.81 L200.644 202.746 L186.57 202.746 L186.57 211.218 Q187.589 210.87 188.607 210.708 Q189.626 210.523 190.644 210.523 Q196.431 210.523 199.811 213.695 Q203.19 216.866 203.19 222.282 Q203.19 227.861 199.718 230.963 Q196.246 234.042 189.927 234.042 Q187.751 234.042 185.482 233.671 Q183.237 233.301 180.829 232.56 L180.829 227.861 Q182.913 228.995 185.135 229.551 Q187.357 230.107 189.834 230.107 Q193.839 230.107 196.177 228 Q198.514 225.894 198.514 222.282 Q198.514 218.671 196.177 216.565 Q193.839 214.458 189.834 214.458 Q187.959 214.458 186.084 214.875 Q184.232 215.292 182.288 216.171 L182.288 198.81 Z\" fill=\"#000000\" fill-rule=\"evenodd\" fill-opacity=\"1\" /><path clip-path=\"url(#clip380)\" d=\"M151.894 78.6796 L159.533 78.6796 L159.533 52.314 L151.223 53.9807 L151.223 49.7214 L159.487 48.0548 L164.163 48.0548 L164.163 78.6796 L171.802 78.6796 L171.802 82.6148 L151.894 82.6148 L151.894 78.6796 Z\" fill=\"#000000\" fill-rule=\"evenodd\" fill-opacity=\"1\" /><path clip-path=\"url(#clip380)\" d=\"M191.246 51.1335 Q187.635 51.1335 185.806 54.6983 Q184.001 58.2399 184.001 65.3695 Q184.001 72.4759 185.806 76.0407 Q187.635 79.5824 191.246 79.5824 Q194.88 79.5824 196.686 76.0407 Q198.514 72.4759 198.514 65.3695 Q198.514 58.2399 196.686 54.6983 Q194.88 51.1335 191.246 51.1335 M191.246 47.4298 Q197.056 47.4298 200.112 52.0362 Q203.19 56.6195 203.19 65.3695 Q203.19 74.0963 200.112 78.7028 Q197.056 83.2861 191.246 83.2861 Q185.436 83.2861 182.357 78.7028 Q179.302 74.0963 179.302 65.3695 Q179.302 56.6195 182.357 52.0362 Q185.436 47.4298 191.246 47.4298 Z\" fill=\"#000000\" fill-rule=\"evenodd\" fill-opacity=\"1\" /><polyline clip-path=\"url(#clip382)\" style=\"stroke:#009af9; stroke-linecap:round; stroke-linejoin:round; stroke-width:4; stroke-opacity:1; fill:none\" points=\"265.184,668.357 308.506,638.206 351.829,608.055 395.152,577.904 438.474,547.753 481.797,517.602 525.119,487.45 568.442,457.299 611.764,427.148 655.087,396.997 698.409,366.846 741.732,336.695 785.055,306.544 828.377,276.393 871.7,246.241 915.022,216.09 958.345,185.939 1001.67,155.788 1044.99,125.637 1088.31,95.4859 1131.64,65.3348 \"/>\n",
       "<path clip-path=\"url(#clip380)\" d=\"M1434.32 686.448 L2352.76 686.448 L2352.76 47.2441 L1434.32 47.2441  Z\" fill=\"#ffffff\" fill-rule=\"evenodd\" fill-opacity=\"1\"/>\n",
       "<defs>\n",
       "  <clipPath id=\"clip383\">\n",
       "    <rect x=\"1434\" y=\"47\" width=\"919\" height=\"640\"/>\n",
       "  </clipPath>\n",
       "</defs>\n",
       "<polyline clip-path=\"url(#clip383)\" style=\"stroke:#000000; stroke-linecap:round; stroke-linejoin:round; stroke-width:2; stroke-opacity:0.1; fill:none\" points=\"1460.31,686.448 1460.31,47.2441 \"/>\n",
       "<polyline clip-path=\"url(#clip383)\" style=\"stroke:#000000; stroke-linecap:round; stroke-linejoin:round; stroke-width:2; stroke-opacity:0.1; fill:none\" points=\"1676.92,686.448 1676.92,47.2441 \"/>\n",
       "<polyline clip-path=\"url(#clip383)\" style=\"stroke:#000000; stroke-linecap:round; stroke-linejoin:round; stroke-width:2; stroke-opacity:0.1; fill:none\" points=\"1893.54,686.448 1893.54,47.2441 \"/>\n",
       "<polyline clip-path=\"url(#clip383)\" style=\"stroke:#000000; stroke-linecap:round; stroke-linejoin:round; stroke-width:2; stroke-opacity:0.1; fill:none\" points=\"2110.15,686.448 2110.15,47.2441 \"/>\n",
       "<polyline clip-path=\"url(#clip383)\" style=\"stroke:#000000; stroke-linecap:round; stroke-linejoin:round; stroke-width:2; stroke-opacity:0.1; fill:none\" points=\"2326.76,686.448 2326.76,47.2441 \"/>\n",
       "<polyline clip-path=\"url(#clip380)\" style=\"stroke:#000000; stroke-linecap:round; stroke-linejoin:round; stroke-width:4; stroke-opacity:1; fill:none\" points=\"1434.32,686.448 2352.76,686.448 \"/>\n",
       "<polyline clip-path=\"url(#clip380)\" style=\"stroke:#000000; stroke-linecap:round; stroke-linejoin:round; stroke-width:4; stroke-opacity:1; fill:none\" points=\"1460.31,686.448 1460.31,667.55 \"/>\n",
       "<polyline clip-path=\"url(#clip380)\" style=\"stroke:#000000; stroke-linecap:round; stroke-linejoin:round; stroke-width:4; stroke-opacity:1; fill:none\" points=\"1676.92,686.448 1676.92,667.55 \"/>\n",
       "<polyline clip-path=\"url(#clip380)\" style=\"stroke:#000000; stroke-linecap:round; stroke-linejoin:round; stroke-width:4; stroke-opacity:1; fill:none\" points=\"1893.54,686.448 1893.54,667.55 \"/>\n",
       "<polyline clip-path=\"url(#clip380)\" style=\"stroke:#000000; stroke-linecap:round; stroke-linejoin:round; stroke-width:4; stroke-opacity:1; fill:none\" points=\"2110.15,686.448 2110.15,667.55 \"/>\n",
       "<polyline clip-path=\"url(#clip380)\" style=\"stroke:#000000; stroke-linecap:round; stroke-linejoin:round; stroke-width:4; stroke-opacity:1; fill:none\" points=\"2326.76,686.448 2326.76,667.55 \"/>\n",
       "<path clip-path=\"url(#clip380)\" d=\"M1414.37 732.019 L1444.05 732.019 L1444.05 735.954 L1414.37 735.954 L1414.37 732.019 Z\" fill=\"#000000\" fill-rule=\"evenodd\" fill-opacity=\"1\" /><path clip-path=\"url(#clip380)\" d=\"M1454.95 744.913 L1462.59 744.913 L1462.59 718.547 L1454.28 720.214 L1454.28 715.955 L1462.55 714.288 L1467.22 714.288 L1467.22 744.913 L1474.86 744.913 L1474.86 748.848 L1454.95 748.848 L1454.95 744.913 Z\" fill=\"#000000\" fill-rule=\"evenodd\" fill-opacity=\"1\" /><path clip-path=\"url(#clip380)\" d=\"M1494.3 717.367 Q1490.69 717.367 1488.86 720.931 Q1487.06 724.473 1487.06 731.603 Q1487.06 738.709 1488.86 742.274 Q1490.69 745.815 1494.3 745.815 Q1497.94 745.815 1499.74 742.274 Q1501.57 738.709 1501.57 731.603 Q1501.57 724.473 1499.74 720.931 Q1497.94 717.367 1494.3 717.367 M1494.3 713.663 Q1500.11 713.663 1503.17 718.269 Q1506.25 722.853 1506.25 731.603 Q1506.25 740.329 1503.17 744.936 Q1500.11 749.519 1494.3 749.519 Q1488.49 749.519 1485.42 744.936 Q1482.36 740.329 1482.36 731.603 Q1482.36 722.853 1485.42 718.269 Q1488.49 713.663 1494.3 713.663 Z\" fill=\"#000000\" fill-rule=\"evenodd\" fill-opacity=\"1\" /><path clip-path=\"url(#clip380)\" d=\"M1646.57 732.019 L1676.24 732.019 L1676.24 735.954 L1646.57 735.954 L1646.57 732.019 Z\" fill=\"#000000\" fill-rule=\"evenodd\" fill-opacity=\"1\" /><path clip-path=\"url(#clip380)\" d=\"M1686.38 714.288 L1704.74 714.288 L1704.74 718.223 L1690.66 718.223 L1690.66 726.695 Q1691.68 726.348 1692.7 726.186 Q1693.72 726.001 1694.74 726.001 Q1700.52 726.001 1703.9 729.172 Q1707.28 732.343 1707.28 737.76 Q1707.28 743.339 1703.81 746.44 Q1700.34 749.519 1694.02 749.519 Q1691.84 749.519 1689.57 749.149 Q1687.33 748.778 1684.92 748.038 L1684.92 743.339 Q1687.01 744.473 1689.23 745.028 Q1691.45 745.584 1693.93 745.584 Q1697.93 745.584 1700.27 743.478 Q1702.61 741.371 1702.61 737.76 Q1702.61 734.149 1700.27 732.042 Q1697.93 729.936 1693.93 729.936 Q1692.05 729.936 1690.18 730.353 Q1688.32 730.769 1686.38 731.649 L1686.38 714.288 Z\" fill=\"#000000\" fill-rule=\"evenodd\" fill-opacity=\"1\" /><path clip-path=\"url(#clip380)\" d=\"M1893.54 717.367 Q1889.93 717.367 1888.1 720.931 Q1886.29 724.473 1886.29 731.603 Q1886.29 738.709 1888.1 742.274 Q1889.93 745.815 1893.54 745.815 Q1897.17 745.815 1898.98 742.274 Q1900.81 738.709 1900.81 731.603 Q1900.81 724.473 1898.98 720.931 Q1897.17 717.367 1893.54 717.367 M1893.54 713.663 Q1899.35 713.663 1902.4 718.269 Q1905.48 722.853 1905.48 731.603 Q1905.48 740.329 1902.4 744.936 Q1899.35 749.519 1893.54 749.519 Q1887.73 749.519 1884.65 744.936 Q1881.59 740.329 1881.59 731.603 Q1881.59 722.853 1884.65 718.269 Q1887.73 713.663 1893.54 713.663 Z\" fill=\"#000000\" fill-rule=\"evenodd\" fill-opacity=\"1\" /><path clip-path=\"url(#clip380)\" d=\"M2100.43 714.288 L2118.78 714.288 L2118.78 718.223 L2104.71 718.223 L2104.71 726.695 Q2105.73 726.348 2106.75 726.186 Q2107.77 726.001 2108.78 726.001 Q2114.57 726.001 2117.95 729.172 Q2121.33 732.343 2121.33 737.76 Q2121.33 743.339 2117.86 746.44 Q2114.39 749.519 2108.07 749.519 Q2105.89 749.519 2103.62 749.149 Q2101.38 748.778 2098.97 748.038 L2098.97 743.339 Q2101.05 744.473 2103.27 745.028 Q2105.5 745.584 2107.97 745.584 Q2111.98 745.584 2114.32 743.478 Q2116.65 741.371 2116.65 737.76 Q2116.65 734.149 2114.32 732.042 Q2111.98 729.936 2107.97 729.936 Q2106.1 729.936 2104.22 730.353 Q2102.37 730.769 2100.43 731.649 L2100.43 714.288 Z\" fill=\"#000000\" fill-rule=\"evenodd\" fill-opacity=\"1\" /><path clip-path=\"url(#clip380)\" d=\"M2301.45 744.913 L2309.09 744.913 L2309.09 718.547 L2300.78 720.214 L2300.78 715.955 L2309.04 714.288 L2313.72 714.288 L2313.72 744.913 L2321.36 744.913 L2321.36 748.848 L2301.45 748.848 L2301.45 744.913 Z\" fill=\"#000000\" fill-rule=\"evenodd\" fill-opacity=\"1\" /><path clip-path=\"url(#clip380)\" d=\"M2340.8 717.367 Q2337.19 717.367 2335.36 720.931 Q2333.56 724.473 2333.56 731.603 Q2333.56 738.709 2335.36 742.274 Q2337.19 745.815 2340.8 745.815 Q2344.44 745.815 2346.24 742.274 Q2348.07 738.709 2348.07 731.603 Q2348.07 724.473 2346.24 720.931 Q2344.44 717.367 2340.8 717.367 M2340.8 713.663 Q2346.61 713.663 2349.67 718.269 Q2352.75 722.853 2352.75 731.603 Q2352.75 740.329 2349.67 744.936 Q2346.61 749.519 2340.8 749.519 Q2334.99 749.519 2331.91 744.936 Q2328.86 740.329 2328.86 731.603 Q2328.86 722.853 2331.91 718.269 Q2334.99 713.663 2340.8 713.663 Z\" fill=\"#000000\" fill-rule=\"evenodd\" fill-opacity=\"1\" /><polyline clip-path=\"url(#clip383)\" style=\"stroke:#000000; stroke-linecap:round; stroke-linejoin:round; stroke-width:2; stroke-opacity:0.1; fill:none\" points=\"1434.32,668.357 2352.76,668.357 \"/>\n",
       "<polyline clip-path=\"url(#clip383)\" style=\"stroke:#000000; stroke-linecap:round; stroke-linejoin:round; stroke-width:2; stroke-opacity:0.1; fill:none\" points=\"1434.32,517.602 2352.76,517.602 \"/>\n",
       "<polyline clip-path=\"url(#clip383)\" style=\"stroke:#000000; stroke-linecap:round; stroke-linejoin:round; stroke-width:2; stroke-opacity:0.1; fill:none\" points=\"1434.32,366.846 2352.76,366.846 \"/>\n",
       "<polyline clip-path=\"url(#clip383)\" style=\"stroke:#000000; stroke-linecap:round; stroke-linejoin:round; stroke-width:2; stroke-opacity:0.1; fill:none\" points=\"1434.32,216.09 2352.76,216.09 \"/>\n",
       "<polyline clip-path=\"url(#clip383)\" style=\"stroke:#000000; stroke-linecap:round; stroke-linejoin:round; stroke-width:2; stroke-opacity:0.1; fill:none\" points=\"1434.32,65.3348 2352.76,65.3348 \"/>\n",
       "<polyline clip-path=\"url(#clip380)\" style=\"stroke:#000000; stroke-linecap:round; stroke-linejoin:round; stroke-width:4; stroke-opacity:1; fill:none\" points=\"1434.32,686.448 1434.32,47.2441 \"/>\n",
       "<polyline clip-path=\"url(#clip380)\" style=\"stroke:#000000; stroke-linecap:round; stroke-linejoin:round; stroke-width:4; stroke-opacity:1; fill:none\" points=\"1434.32,668.357 1453.22,668.357 \"/>\n",
       "<polyline clip-path=\"url(#clip380)\" style=\"stroke:#000000; stroke-linecap:round; stroke-linejoin:round; stroke-width:4; stroke-opacity:1; fill:none\" points=\"1434.32,517.602 1453.22,517.602 \"/>\n",
       "<polyline clip-path=\"url(#clip380)\" style=\"stroke:#000000; stroke-linecap:round; stroke-linejoin:round; stroke-width:4; stroke-opacity:1; fill:none\" points=\"1434.32,366.846 1453.22,366.846 \"/>\n",
       "<polyline clip-path=\"url(#clip380)\" style=\"stroke:#000000; stroke-linecap:round; stroke-linejoin:round; stroke-width:4; stroke-opacity:1; fill:none\" points=\"1434.32,216.09 1453.22,216.09 \"/>\n",
       "<polyline clip-path=\"url(#clip380)\" style=\"stroke:#000000; stroke-linecap:round; stroke-linejoin:round; stroke-width:4; stroke-opacity:1; fill:none\" points=\"1434.32,65.3348 1453.22,65.3348 \"/>\n",
       "<path clip-path=\"url(#clip380)\" d=\"M1386.37 654.156 Q1382.76 654.156 1380.93 657.721 Q1379.13 661.262 1379.13 668.392 Q1379.13 675.498 1380.93 679.063 Q1382.76 682.605 1386.37 682.605 Q1390.01 682.605 1391.81 679.063 Q1393.64 675.498 1393.64 668.392 Q1393.64 661.262 1391.81 657.721 Q1390.01 654.156 1386.37 654.156 M1386.37 650.452 Q1392.18 650.452 1395.24 655.059 Q1398.32 659.642 1398.32 668.392 Q1398.32 677.119 1395.24 681.725 Q1392.18 686.308 1386.37 686.308 Q1380.56 686.308 1377.48 681.725 Q1374.43 677.119 1374.43 668.392 Q1374.43 659.642 1377.48 655.059 Q1380.56 650.452 1386.37 650.452 Z\" fill=\"#000000\" fill-rule=\"evenodd\" fill-opacity=\"1\" /><path clip-path=\"url(#clip380)\" d=\"M1351.23 530.946 L1367.55 530.946 L1367.55 534.882 L1345.61 534.882 L1345.61 530.946 Q1348.27 528.192 1352.86 523.562 Q1357.46 518.909 1358.64 517.567 Q1360.89 515.044 1361.77 513.308 Q1362.67 511.548 1362.67 509.859 Q1362.67 507.104 1360.73 505.368 Q1358.8 503.632 1355.7 503.632 Q1353.5 503.632 1351.05 504.396 Q1348.62 505.16 1345.84 506.71 L1345.84 501.988 Q1348.67 500.854 1351.12 500.275 Q1353.57 499.697 1355.61 499.697 Q1360.98 499.697 1364.17 502.382 Q1367.37 505.067 1367.37 509.558 Q1367.37 511.687 1366.56 513.609 Q1365.77 515.507 1363.67 518.099 Q1363.09 518.771 1359.98 521.988 Q1356.88 525.183 1351.23 530.946 Z\" fill=\"#000000\" fill-rule=\"evenodd\" fill-opacity=\"1\" /><path clip-path=\"url(#clip380)\" d=\"M1377.42 500.322 L1395.77 500.322 L1395.77 504.257 L1381.7 504.257 L1381.7 512.729 Q1382.72 512.382 1383.73 512.22 Q1384.75 512.034 1385.77 512.034 Q1391.56 512.034 1394.94 515.206 Q1398.32 518.377 1398.32 523.794 Q1398.32 529.372 1394.85 532.474 Q1391.37 535.553 1385.05 535.553 Q1382.88 535.553 1380.61 535.183 Q1378.36 534.812 1375.96 534.071 L1375.96 529.372 Q1378.04 530.507 1380.26 531.062 Q1382.48 531.618 1384.96 531.618 Q1388.97 531.618 1391.3 529.511 Q1393.64 527.405 1393.64 523.794 Q1393.64 520.183 1391.3 518.076 Q1388.97 515.97 1384.96 515.97 Q1383.09 515.97 1381.21 516.386 Q1379.36 516.803 1377.42 517.683 L1377.42 500.322 Z\" fill=\"#000000\" fill-rule=\"evenodd\" fill-opacity=\"1\" /><path clip-path=\"url(#clip380)\" d=\"M1346.26 349.566 L1364.61 349.566 L1364.61 353.501 L1350.54 353.501 L1350.54 361.973 Q1351.56 361.626 1352.58 361.464 Q1353.6 361.279 1354.61 361.279 Q1360.4 361.279 1363.78 364.45 Q1367.16 367.621 1367.16 373.038 Q1367.16 378.617 1363.69 381.719 Q1360.22 384.797 1353.9 384.797 Q1351.72 384.797 1349.45 384.427 Q1347.21 384.057 1344.8 383.316 L1344.8 378.617 Q1346.88 379.751 1349.11 380.307 Q1351.33 380.862 1353.8 380.862 Q1357.81 380.862 1360.15 378.756 Q1362.48 376.649 1362.48 373.038 Q1362.48 369.427 1360.15 367.321 Q1357.81 365.214 1353.8 365.214 Q1351.93 365.214 1350.05 365.631 Q1348.2 366.047 1346.26 366.927 L1346.26 349.566 Z\" fill=\"#000000\" fill-rule=\"evenodd\" fill-opacity=\"1\" /><path clip-path=\"url(#clip380)\" d=\"M1386.37 352.645 Q1382.76 352.645 1380.93 356.209 Q1379.13 359.751 1379.13 366.881 Q1379.13 373.987 1380.93 377.552 Q1382.76 381.094 1386.37 381.094 Q1390.01 381.094 1391.81 377.552 Q1393.64 373.987 1393.64 366.881 Q1393.64 359.751 1391.81 356.209 Q1390.01 352.645 1386.37 352.645 M1386.37 348.941 Q1392.18 348.941 1395.24 353.547 Q1398.32 358.131 1398.32 366.881 Q1398.32 375.608 1395.24 380.214 Q1392.18 384.797 1386.37 384.797 Q1380.56 384.797 1377.48 380.214 Q1374.43 375.608 1374.43 366.881 Q1374.43 358.131 1377.48 353.547 Q1380.56 348.941 1386.37 348.941 Z\" fill=\"#000000\" fill-rule=\"evenodd\" fill-opacity=\"1\" /><path clip-path=\"url(#clip380)\" d=\"M1346.03 198.81 L1368.25 198.81 L1368.25 200.801 L1355.7 233.37 L1350.82 233.37 L1362.62 202.746 L1346.03 202.746 L1346.03 198.81 Z\" fill=\"#000000\" fill-rule=\"evenodd\" fill-opacity=\"1\" /><path clip-path=\"url(#clip380)\" d=\"M1377.42 198.81 L1395.77 198.81 L1395.77 202.746 L1381.7 202.746 L1381.7 211.218 Q1382.72 210.87 1383.73 210.708 Q1384.75 210.523 1385.77 210.523 Q1391.56 210.523 1394.94 213.695 Q1398.32 216.866 1398.32 222.282 Q1398.32 227.861 1394.85 230.963 Q1391.37 234.042 1385.05 234.042 Q1382.88 234.042 1380.61 233.671 Q1378.36 233.301 1375.96 232.56 L1375.96 227.861 Q1378.04 228.995 1380.26 229.551 Q1382.48 230.107 1384.96 230.107 Q1388.97 230.107 1391.3 228 Q1393.64 225.894 1393.64 222.282 Q1393.64 218.671 1391.3 216.565 Q1388.97 214.458 1384.96 214.458 Q1383.09 214.458 1381.21 214.875 Q1379.36 215.292 1377.42 216.171 L1377.42 198.81 Z\" fill=\"#000000\" fill-rule=\"evenodd\" fill-opacity=\"1\" /><path clip-path=\"url(#clip380)\" d=\"M1316.86 78.6796 L1324.5 78.6796 L1324.5 52.314 L1316.19 53.9807 L1316.19 49.7214 L1324.45 48.0548 L1329.13 48.0548 L1329.13 78.6796 L1336.77 78.6796 L1336.77 82.6148 L1316.86 82.6148 L1316.86 78.6796 Z\" fill=\"#000000\" fill-rule=\"evenodd\" fill-opacity=\"1\" /><path clip-path=\"url(#clip380)\" d=\"M1356.21 51.1335 Q1352.6 51.1335 1350.77 54.6983 Q1348.97 58.2399 1348.97 65.3695 Q1348.97 72.4759 1350.77 76.0407 Q1352.6 79.5824 1356.21 79.5824 Q1359.85 79.5824 1361.65 76.0407 Q1363.48 72.4759 1363.48 65.3695 Q1363.48 58.2399 1361.65 54.6983 Q1359.85 51.1335 1356.21 51.1335 M1356.21 47.4298 Q1362.02 47.4298 1365.08 52.0362 Q1368.16 56.6195 1368.16 65.3695 Q1368.16 74.0963 1365.08 78.7028 Q1362.02 83.2861 1356.21 83.2861 Q1350.4 83.2861 1347.32 78.7028 Q1344.27 74.0963 1344.27 65.3695 Q1344.27 56.6195 1347.32 52.0362 Q1350.4 47.4298 1356.21 47.4298 Z\" fill=\"#000000\" fill-rule=\"evenodd\" fill-opacity=\"1\" /><path clip-path=\"url(#clip380)\" d=\"M1386.37 51.1335 Q1382.76 51.1335 1380.93 54.6983 Q1379.13 58.2399 1379.13 65.3695 Q1379.13 72.4759 1380.93 76.0407 Q1382.76 79.5824 1386.37 79.5824 Q1390.01 79.5824 1391.81 76.0407 Q1393.64 72.4759 1393.64 65.3695 Q1393.64 58.2399 1391.81 54.6983 Q1390.01 51.1335 1386.37 51.1335 M1386.37 47.4298 Q1392.18 47.4298 1395.24 52.0362 Q1398.32 56.6195 1398.32 65.3695 Q1398.32 74.0963 1395.24 78.7028 Q1392.18 83.2861 1386.37 83.2861 Q1380.56 83.2861 1377.48 78.7028 Q1374.43 74.0963 1374.43 65.3695 Q1374.43 56.6195 1377.48 52.0362 Q1380.56 47.4298 1386.37 47.4298 Z\" fill=\"#000000\" fill-rule=\"evenodd\" fill-opacity=\"1\" /><polyline clip-path=\"url(#clip383)\" style=\"stroke:#009af9; stroke-linecap:round; stroke-linejoin:round; stroke-width:4; stroke-opacity:1; fill:none\" points=\"1460.31,65.3348 1503.63,179.909 1546.96,282.423 1590.28,372.876 1633.6,451.269 1676.92,517.602 1720.25,571.874 1763.57,614.085 1806.89,644.236 1850.21,662.327 1893.54,668.357 1936.86,662.327 1980.18,644.236 2023.5,614.085 2066.83,571.874 2110.15,517.602 2153.47,451.269 2196.79,372.876 2240.12,282.423 2283.44,179.909 2326.76,65.3348 \"/>\n",
       "<path clip-path=\"url(#clip380)\" d=\"M239.19 1486.45 L1157.63 1486.45 L1157.63 847.244 L239.19 847.244  Z\" fill=\"#ffffff\" fill-rule=\"evenodd\" fill-opacity=\"1\"/>\n",
       "<defs>\n",
       "  <clipPath id=\"clip384\">\n",
       "    <rect x=\"239\" y=\"847\" width=\"919\" height=\"640\"/>\n",
       "  </clipPath>\n",
       "</defs>\n",
       "<polyline clip-path=\"url(#clip384)\" style=\"stroke:#000000; stroke-linecap:round; stroke-linejoin:round; stroke-width:2; stroke-opacity:0.1; fill:none\" points=\"265.184,1486.45 265.184,847.244 \"/>\n",
       "<polyline clip-path=\"url(#clip384)\" style=\"stroke:#000000; stroke-linecap:round; stroke-linejoin:round; stroke-width:2; stroke-opacity:0.1; fill:none\" points=\"481.797,1486.45 481.797,847.244 \"/>\n",
       "<polyline clip-path=\"url(#clip384)\" style=\"stroke:#000000; stroke-linecap:round; stroke-linejoin:round; stroke-width:2; stroke-opacity:0.1; fill:none\" points=\"698.409,1486.45 698.409,847.244 \"/>\n",
       "<polyline clip-path=\"url(#clip384)\" style=\"stroke:#000000; stroke-linecap:round; stroke-linejoin:round; stroke-width:2; stroke-opacity:0.1; fill:none\" points=\"915.022,1486.45 915.022,847.244 \"/>\n",
       "<polyline clip-path=\"url(#clip384)\" style=\"stroke:#000000; stroke-linecap:round; stroke-linejoin:round; stroke-width:2; stroke-opacity:0.1; fill:none\" points=\"1131.64,1486.45 1131.64,847.244 \"/>\n",
       "<polyline clip-path=\"url(#clip380)\" style=\"stroke:#000000; stroke-linecap:round; stroke-linejoin:round; stroke-width:4; stroke-opacity:1; fill:none\" points=\"239.19,1486.45 1157.63,1486.45 \"/>\n",
       "<polyline clip-path=\"url(#clip380)\" style=\"stroke:#000000; stroke-linecap:round; stroke-linejoin:round; stroke-width:4; stroke-opacity:1; fill:none\" points=\"265.184,1486.45 265.184,1467.55 \"/>\n",
       "<polyline clip-path=\"url(#clip380)\" style=\"stroke:#000000; stroke-linecap:round; stroke-linejoin:round; stroke-width:4; stroke-opacity:1; fill:none\" points=\"481.797,1486.45 481.797,1467.55 \"/>\n",
       "<polyline clip-path=\"url(#clip380)\" style=\"stroke:#000000; stroke-linecap:round; stroke-linejoin:round; stroke-width:4; stroke-opacity:1; fill:none\" points=\"698.409,1486.45 698.409,1467.55 \"/>\n",
       "<polyline clip-path=\"url(#clip380)\" style=\"stroke:#000000; stroke-linecap:round; stroke-linejoin:round; stroke-width:4; stroke-opacity:1; fill:none\" points=\"915.022,1486.45 915.022,1467.55 \"/>\n",
       "<polyline clip-path=\"url(#clip380)\" style=\"stroke:#000000; stroke-linecap:round; stroke-linejoin:round; stroke-width:4; stroke-opacity:1; fill:none\" points=\"1131.64,1486.45 1131.64,1467.55 \"/>\n",
       "<path clip-path=\"url(#clip380)\" d=\"M219.247 1532.02 L248.922 1532.02 L248.922 1535.95 L219.247 1535.95 L219.247 1532.02 Z\" fill=\"#000000\" fill-rule=\"evenodd\" fill-opacity=\"1\" /><path clip-path=\"url(#clip380)\" d=\"M259.825 1544.91 L267.464 1544.91 L267.464 1518.55 L259.154 1520.21 L259.154 1515.95 L267.418 1514.29 L272.094 1514.29 L272.094 1544.91 L279.732 1544.91 L279.732 1548.85 L259.825 1548.85 L259.825 1544.91 Z\" fill=\"#000000\" fill-rule=\"evenodd\" fill-opacity=\"1\" /><path clip-path=\"url(#clip380)\" d=\"M299.177 1517.37 Q295.566 1517.37 293.737 1520.93 Q291.931 1524.47 291.931 1531.6 Q291.931 1538.71 293.737 1542.27 Q295.566 1545.82 299.177 1545.82 Q302.811 1545.82 304.617 1542.27 Q306.445 1538.71 306.445 1531.6 Q306.445 1524.47 304.617 1520.93 Q302.811 1517.37 299.177 1517.37 M299.177 1513.66 Q304.987 1513.66 308.042 1518.27 Q311.121 1522.85 311.121 1531.6 Q311.121 1540.33 308.042 1544.94 Q304.987 1549.52 299.177 1549.52 Q293.367 1549.52 290.288 1544.94 Q287.232 1540.33 287.232 1531.6 Q287.232 1522.85 290.288 1518.27 Q293.367 1513.66 299.177 1513.66 Z\" fill=\"#000000\" fill-rule=\"evenodd\" fill-opacity=\"1\" /><path clip-path=\"url(#clip380)\" d=\"M451.438 1532.02 L481.114 1532.02 L481.114 1535.95 L451.438 1535.95 L451.438 1532.02 Z\" fill=\"#000000\" fill-rule=\"evenodd\" fill-opacity=\"1\" /><path clip-path=\"url(#clip380)\" d=\"M491.253 1514.29 L509.609 1514.29 L509.609 1518.22 L495.535 1518.22 L495.535 1526.7 Q496.554 1526.35 497.572 1526.19 Q498.591 1526 499.609 1526 Q505.396 1526 508.776 1529.17 Q512.155 1532.34 512.155 1537.76 Q512.155 1543.34 508.683 1546.44 Q505.211 1549.52 498.892 1549.52 Q496.716 1549.52 494.447 1549.15 Q492.202 1548.78 489.794 1548.04 L489.794 1543.34 Q491.878 1544.47 494.1 1545.03 Q496.322 1545.58 498.799 1545.58 Q502.804 1545.58 505.141 1543.48 Q507.479 1541.37 507.479 1537.76 Q507.479 1534.15 505.141 1532.04 Q502.804 1529.94 498.799 1529.94 Q496.924 1529.94 495.049 1530.35 Q493.197 1530.77 491.253 1531.65 L491.253 1514.29 Z\" fill=\"#000000\" fill-rule=\"evenodd\" fill-opacity=\"1\" /><path clip-path=\"url(#clip380)\" d=\"M698.409 1517.37 Q694.798 1517.37 692.97 1520.93 Q691.164 1524.47 691.164 1531.6 Q691.164 1538.71 692.97 1542.27 Q694.798 1545.82 698.409 1545.82 Q702.044 1545.82 703.849 1542.27 Q705.678 1538.71 705.678 1531.6 Q705.678 1524.47 703.849 1520.93 Q702.044 1517.37 698.409 1517.37 M698.409 1513.66 Q704.22 1513.66 707.275 1518.27 Q710.354 1522.85 710.354 1531.6 Q710.354 1540.33 707.275 1544.94 Q704.22 1549.52 698.409 1549.52 Q692.599 1549.52 689.521 1544.94 Q686.465 1540.33 686.465 1531.6 Q686.465 1522.85 689.521 1518.27 Q692.599 1513.66 698.409 1513.66 Z\" fill=\"#000000\" fill-rule=\"evenodd\" fill-opacity=\"1\" /><path clip-path=\"url(#clip380)\" d=\"M905.3 1514.29 L923.656 1514.29 L923.656 1518.22 L909.582 1518.22 L909.582 1526.7 Q910.601 1526.35 911.619 1526.19 Q912.638 1526 913.657 1526 Q919.444 1526 922.823 1529.17 Q926.203 1532.34 926.203 1537.76 Q926.203 1543.34 922.731 1546.44 Q919.258 1549.52 912.939 1549.52 Q910.763 1549.52 908.495 1549.15 Q906.249 1548.78 903.842 1548.04 L903.842 1543.34 Q905.925 1544.47 908.147 1545.03 Q910.37 1545.58 912.846 1545.58 Q916.851 1545.58 919.189 1543.48 Q921.527 1541.37 921.527 1537.76 Q921.527 1534.15 919.189 1532.04 Q916.851 1529.94 912.846 1529.94 Q910.971 1529.94 909.096 1530.35 Q907.245 1530.77 905.3 1531.65 L905.3 1514.29 Z\" fill=\"#000000\" fill-rule=\"evenodd\" fill-opacity=\"1\" /><path clip-path=\"url(#clip380)\" d=\"M1106.32 1544.91 L1113.96 1544.91 L1113.96 1518.55 L1105.65 1520.21 L1105.65 1515.95 L1113.92 1514.29 L1118.59 1514.29 L1118.59 1544.91 L1126.23 1544.91 L1126.23 1548.85 L1106.32 1548.85 L1106.32 1544.91 Z\" fill=\"#000000\" fill-rule=\"evenodd\" fill-opacity=\"1\" /><path clip-path=\"url(#clip380)\" d=\"M1145.67 1517.37 Q1142.06 1517.37 1140.23 1520.93 Q1138.43 1524.47 1138.43 1531.6 Q1138.43 1538.71 1140.23 1542.27 Q1142.06 1545.82 1145.67 1545.82 Q1149.31 1545.82 1151.11 1542.27 Q1152.94 1538.71 1152.94 1531.6 Q1152.94 1524.47 1151.11 1520.93 Q1149.31 1517.37 1145.67 1517.37 M1145.67 1513.66 Q1151.48 1513.66 1154.54 1518.27 Q1157.62 1522.85 1157.62 1531.6 Q1157.62 1540.33 1154.54 1544.94 Q1151.48 1549.52 1145.67 1549.52 Q1139.86 1549.52 1136.79 1544.94 Q1133.73 1540.33 1133.73 1531.6 Q1133.73 1522.85 1136.79 1518.27 Q1139.86 1513.66 1145.67 1513.66 Z\" fill=\"#000000\" fill-rule=\"evenodd\" fill-opacity=\"1\" /><polyline clip-path=\"url(#clip384)\" style=\"stroke:#000000; stroke-linecap:round; stroke-linejoin:round; stroke-width:2; stroke-opacity:0.1; fill:none\" points=\"239.19,1468.36 1157.63,1468.36 \"/>\n",
       "<polyline clip-path=\"url(#clip384)\" style=\"stroke:#000000; stroke-linecap:round; stroke-linejoin:round; stroke-width:2; stroke-opacity:0.1; fill:none\" points=\"239.19,1317.6 1157.63,1317.6 \"/>\n",
       "<polyline clip-path=\"url(#clip384)\" style=\"stroke:#000000; stroke-linecap:round; stroke-linejoin:round; stroke-width:2; stroke-opacity:0.1; fill:none\" points=\"239.19,1166.85 1157.63,1166.85 \"/>\n",
       "<polyline clip-path=\"url(#clip384)\" style=\"stroke:#000000; stroke-linecap:round; stroke-linejoin:round; stroke-width:2; stroke-opacity:0.1; fill:none\" points=\"239.19,1016.09 1157.63,1016.09 \"/>\n",
       "<polyline clip-path=\"url(#clip384)\" style=\"stroke:#000000; stroke-linecap:round; stroke-linejoin:round; stroke-width:2; stroke-opacity:0.1; fill:none\" points=\"239.19,865.335 1157.63,865.335 \"/>\n",
       "<polyline clip-path=\"url(#clip380)\" style=\"stroke:#000000; stroke-linecap:round; stroke-linejoin:round; stroke-width:4; stroke-opacity:1; fill:none\" points=\"239.19,1486.45 239.19,847.244 \"/>\n",
       "<polyline clip-path=\"url(#clip380)\" style=\"stroke:#000000; stroke-linecap:round; stroke-linejoin:round; stroke-width:4; stroke-opacity:1; fill:none\" points=\"239.19,1468.36 258.088,1468.36 \"/>\n",
       "<polyline clip-path=\"url(#clip380)\" style=\"stroke:#000000; stroke-linecap:round; stroke-linejoin:round; stroke-width:4; stroke-opacity:1; fill:none\" points=\"239.19,1317.6 258.088,1317.6 \"/>\n",
       "<polyline clip-path=\"url(#clip380)\" style=\"stroke:#000000; stroke-linecap:round; stroke-linejoin:round; stroke-width:4; stroke-opacity:1; fill:none\" points=\"239.19,1166.85 258.088,1166.85 \"/>\n",
       "<polyline clip-path=\"url(#clip380)\" style=\"stroke:#000000; stroke-linecap:round; stroke-linejoin:round; stroke-width:4; stroke-opacity:1; fill:none\" points=\"239.19,1016.09 258.088,1016.09 \"/>\n",
       "<polyline clip-path=\"url(#clip380)\" style=\"stroke:#000000; stroke-linecap:round; stroke-linejoin:round; stroke-width:4; stroke-opacity:1; fill:none\" points=\"239.19,865.335 258.088,865.335 \"/>\n",
       "<path clip-path=\"url(#clip380)\" d=\"M50.9921 1468.81 L80.6679 1468.81 L80.6679 1472.74 L50.9921 1472.74 L50.9921 1468.81 Z\" fill=\"#000000\" fill-rule=\"evenodd\" fill-opacity=\"1\" /><path clip-path=\"url(#clip380)\" d=\"M91.5706 1481.7 L99.2095 1481.7 L99.2095 1455.34 L90.8993 1457 L90.8993 1452.74 L99.1632 1451.08 L103.839 1451.08 L103.839 1481.7 L111.478 1481.7 L111.478 1485.64 L91.5706 1485.64 L91.5706 1481.7 Z\" fill=\"#000000\" fill-rule=\"evenodd\" fill-opacity=\"1\" /><path clip-path=\"url(#clip380)\" d=\"M130.922 1454.16 Q127.311 1454.16 125.482 1457.72 Q123.677 1461.26 123.677 1468.39 Q123.677 1475.5 125.482 1479.06 Q127.311 1482.6 130.922 1482.6 Q134.556 1482.6 136.362 1479.06 Q138.191 1475.5 138.191 1468.39 Q138.191 1461.26 136.362 1457.72 Q134.556 1454.16 130.922 1454.16 M130.922 1450.45 Q136.732 1450.45 139.788 1455.06 Q142.867 1459.64 142.867 1468.39 Q142.867 1477.12 139.788 1481.73 Q136.732 1486.31 130.922 1486.31 Q125.112 1486.31 122.033 1481.73 Q118.978 1477.12 118.978 1468.39 Q118.978 1459.64 122.033 1455.06 Q125.112 1450.45 130.922 1450.45 Z\" fill=\"#000000\" fill-rule=\"evenodd\" fill-opacity=\"1\" /><path clip-path=\"url(#clip380)\" d=\"M161.084 1454.16 Q157.473 1454.16 155.644 1457.72 Q153.839 1461.26 153.839 1468.39 Q153.839 1475.5 155.644 1479.06 Q157.473 1482.6 161.084 1482.6 Q164.718 1482.6 166.524 1479.06 Q168.353 1475.5 168.353 1468.39 Q168.353 1461.26 166.524 1457.72 Q164.718 1454.16 161.084 1454.16 M161.084 1450.45 Q166.894 1450.45 169.95 1455.06 Q173.029 1459.64 173.029 1468.39 Q173.029 1477.12 169.95 1481.73 Q166.894 1486.31 161.084 1486.31 Q155.274 1486.31 152.195 1481.73 Q149.14 1477.12 149.14 1468.39 Q149.14 1459.64 152.195 1455.06 Q155.274 1450.45 161.084 1450.45 Z\" fill=\"#000000\" fill-rule=\"evenodd\" fill-opacity=\"1\" /><path clip-path=\"url(#clip380)\" d=\"M191.246 1454.16 Q187.635 1454.16 185.806 1457.72 Q184.001 1461.26 184.001 1468.39 Q184.001 1475.5 185.806 1479.06 Q187.635 1482.6 191.246 1482.6 Q194.88 1482.6 196.686 1479.06 Q198.514 1475.5 198.514 1468.39 Q198.514 1461.26 196.686 1457.72 Q194.88 1454.16 191.246 1454.16 M191.246 1450.45 Q197.056 1450.45 200.112 1455.06 Q203.19 1459.64 203.19 1468.39 Q203.19 1477.12 200.112 1481.73 Q197.056 1486.31 191.246 1486.31 Q185.436 1486.31 182.357 1481.73 Q179.302 1477.12 179.302 1468.39 Q179.302 1459.64 182.357 1455.06 Q185.436 1450.45 191.246 1450.45 Z\" fill=\"#000000\" fill-rule=\"evenodd\" fill-opacity=\"1\" /><path clip-path=\"url(#clip380)\" d=\"M81.154 1318.05 L110.83 1318.05 L110.83 1321.99 L81.154 1321.99 L81.154 1318.05 Z\" fill=\"#000000\" fill-rule=\"evenodd\" fill-opacity=\"1\" /><path clip-path=\"url(#clip380)\" d=\"M120.969 1300.32 L139.325 1300.32 L139.325 1304.26 L125.251 1304.26 L125.251 1312.73 Q126.27 1312.38 127.288 1312.22 Q128.307 1312.03 129.325 1312.03 Q135.112 1312.03 138.492 1315.21 Q141.871 1318.38 141.871 1323.79 Q141.871 1329.37 138.399 1332.47 Q134.927 1335.55 128.607 1335.55 Q126.432 1335.55 124.163 1335.18 Q121.918 1334.81 119.51 1334.07 L119.51 1329.37 Q121.594 1330.51 123.816 1331.06 Q126.038 1331.62 128.515 1331.62 Q132.519 1331.62 134.857 1329.51 Q137.195 1327.4 137.195 1323.79 Q137.195 1320.18 134.857 1318.08 Q132.519 1315.97 128.515 1315.97 Q126.64 1315.97 124.765 1316.39 Q122.913 1316.8 120.969 1317.68 L120.969 1300.32 Z\" fill=\"#000000\" fill-rule=\"evenodd\" fill-opacity=\"1\" /><path clip-path=\"url(#clip380)\" d=\"M161.084 1303.4 Q157.473 1303.4 155.644 1306.97 Q153.839 1310.51 153.839 1317.64 Q153.839 1324.74 155.644 1328.31 Q157.473 1331.85 161.084 1331.85 Q164.718 1331.85 166.524 1328.31 Q168.353 1324.74 168.353 1317.64 Q168.353 1310.51 166.524 1306.97 Q164.718 1303.4 161.084 1303.4 M161.084 1299.7 Q166.894 1299.7 169.95 1304.3 Q173.029 1308.89 173.029 1317.64 Q173.029 1326.36 169.95 1330.97 Q166.894 1335.55 161.084 1335.55 Q155.274 1335.55 152.195 1330.97 Q149.14 1326.36 149.14 1317.64 Q149.14 1308.89 152.195 1304.3 Q155.274 1299.7 161.084 1299.7 Z\" fill=\"#000000\" fill-rule=\"evenodd\" fill-opacity=\"1\" /><path clip-path=\"url(#clip380)\" d=\"M191.246 1303.4 Q187.635 1303.4 185.806 1306.97 Q184.001 1310.51 184.001 1317.64 Q184.001 1324.74 185.806 1328.31 Q187.635 1331.85 191.246 1331.85 Q194.88 1331.85 196.686 1328.31 Q198.514 1324.74 198.514 1317.64 Q198.514 1310.51 196.686 1306.97 Q194.88 1303.4 191.246 1303.4 M191.246 1299.7 Q197.056 1299.7 200.112 1304.3 Q203.19 1308.89 203.19 1317.64 Q203.19 1326.36 200.112 1330.97 Q197.056 1335.55 191.246 1335.55 Q185.436 1335.55 182.357 1330.97 Q179.302 1326.36 179.302 1317.64 Q179.302 1308.89 182.357 1304.3 Q185.436 1299.7 191.246 1299.7 Z\" fill=\"#000000\" fill-rule=\"evenodd\" fill-opacity=\"1\" /><path clip-path=\"url(#clip380)\" d=\"M191.246 1152.64 Q187.635 1152.64 185.806 1156.21 Q184.001 1159.75 184.001 1166.88 Q184.001 1173.99 185.806 1177.55 Q187.635 1181.09 191.246 1181.09 Q194.88 1181.09 196.686 1177.55 Q198.514 1173.99 198.514 1166.88 Q198.514 1159.75 196.686 1156.21 Q194.88 1152.64 191.246 1152.64 M191.246 1148.94 Q197.056 1148.94 200.112 1153.55 Q203.19 1158.13 203.19 1166.88 Q203.19 1175.61 200.112 1180.21 Q197.056 1184.8 191.246 1184.8 Q185.436 1184.8 182.357 1180.21 Q179.302 1175.61 179.302 1166.88 Q179.302 1158.13 182.357 1153.55 Q185.436 1148.94 191.246 1148.94 Z\" fill=\"#000000\" fill-rule=\"evenodd\" fill-opacity=\"1\" /><path clip-path=\"url(#clip380)\" d=\"M120.969 998.81 L139.325 998.81 L139.325 1002.75 L125.251 1002.75 L125.251 1011.22 Q126.27 1010.87 127.288 1010.71 Q128.307 1010.52 129.325 1010.52 Q135.112 1010.52 138.492 1013.69 Q141.871 1016.87 141.871 1022.28 Q141.871 1027.86 138.399 1030.96 Q134.927 1034.04 128.607 1034.04 Q126.432 1034.04 124.163 1033.67 Q121.918 1033.3 119.51 1032.56 L119.51 1027.86 Q121.594 1029 123.816 1029.55 Q126.038 1030.11 128.515 1030.11 Q132.519 1030.11 134.857 1028 Q137.195 1025.89 137.195 1022.28 Q137.195 1018.67 134.857 1016.56 Q132.519 1014.46 128.515 1014.46 Q126.64 1014.46 124.765 1014.88 Q122.913 1015.29 120.969 1016.17 L120.969 998.81 Z\" fill=\"#000000\" fill-rule=\"evenodd\" fill-opacity=\"1\" /><path clip-path=\"url(#clip380)\" d=\"M161.084 1001.89 Q157.473 1001.89 155.644 1005.45 Q153.839 1009 153.839 1016.13 Q153.839 1023.23 155.644 1026.8 Q157.473 1030.34 161.084 1030.34 Q164.718 1030.34 166.524 1026.8 Q168.353 1023.23 168.353 1016.13 Q168.353 1009 166.524 1005.45 Q164.718 1001.89 161.084 1001.89 M161.084 998.185 Q166.894 998.185 169.95 1002.79 Q173.029 1007.38 173.029 1016.13 Q173.029 1024.85 169.95 1029.46 Q166.894 1034.04 161.084 1034.04 Q155.274 1034.04 152.195 1029.46 Q149.14 1024.85 149.14 1016.13 Q149.14 1007.38 152.195 1002.79 Q155.274 998.185 161.084 998.185 Z\" fill=\"#000000\" fill-rule=\"evenodd\" fill-opacity=\"1\" /><path clip-path=\"url(#clip380)\" d=\"M191.246 1001.89 Q187.635 1001.89 185.806 1005.45 Q184.001 1009 184.001 1016.13 Q184.001 1023.23 185.806 1026.8 Q187.635 1030.34 191.246 1030.34 Q194.88 1030.34 196.686 1026.8 Q198.514 1023.23 198.514 1016.13 Q198.514 1009 196.686 1005.45 Q194.88 1001.89 191.246 1001.89 M191.246 998.185 Q197.056 998.185 200.112 1002.79 Q203.19 1007.38 203.19 1016.13 Q203.19 1024.85 200.112 1029.46 Q197.056 1034.04 191.246 1034.04 Q185.436 1034.04 182.357 1029.46 Q179.302 1024.85 179.302 1016.13 Q179.302 1007.38 182.357 1002.79 Q185.436 998.185 191.246 998.185 Z\" fill=\"#000000\" fill-rule=\"evenodd\" fill-opacity=\"1\" /><path clip-path=\"url(#clip380)\" d=\"M91.5706 878.68 L99.2095 878.68 L99.2095 852.314 L90.8993 853.981 L90.8993 849.721 L99.1632 848.055 L103.839 848.055 L103.839 878.68 L111.478 878.68 L111.478 882.615 L91.5706 882.615 L91.5706 878.68 Z\" fill=\"#000000\" fill-rule=\"evenodd\" fill-opacity=\"1\" /><path clip-path=\"url(#clip380)\" d=\"M130.922 851.133 Q127.311 851.133 125.482 854.698 Q123.677 858.24 123.677 865.369 Q123.677 872.476 125.482 876.041 Q127.311 879.582 130.922 879.582 Q134.556 879.582 136.362 876.041 Q138.191 872.476 138.191 865.369 Q138.191 858.24 136.362 854.698 Q134.556 851.133 130.922 851.133 M130.922 847.43 Q136.732 847.43 139.788 852.036 Q142.867 856.62 142.867 865.369 Q142.867 874.096 139.788 878.703 Q136.732 883.286 130.922 883.286 Q125.112 883.286 122.033 878.703 Q118.978 874.096 118.978 865.369 Q118.978 856.62 122.033 852.036 Q125.112 847.43 130.922 847.43 Z\" fill=\"#000000\" fill-rule=\"evenodd\" fill-opacity=\"1\" /><path clip-path=\"url(#clip380)\" d=\"M161.084 851.133 Q157.473 851.133 155.644 854.698 Q153.839 858.24 153.839 865.369 Q153.839 872.476 155.644 876.041 Q157.473 879.582 161.084 879.582 Q164.718 879.582 166.524 876.041 Q168.353 872.476 168.353 865.369 Q168.353 858.24 166.524 854.698 Q164.718 851.133 161.084 851.133 M161.084 847.43 Q166.894 847.43 169.95 852.036 Q173.029 856.62 173.029 865.369 Q173.029 874.096 169.95 878.703 Q166.894 883.286 161.084 883.286 Q155.274 883.286 152.195 878.703 Q149.14 874.096 149.14 865.369 Q149.14 856.62 152.195 852.036 Q155.274 847.43 161.084 847.43 Z\" fill=\"#000000\" fill-rule=\"evenodd\" fill-opacity=\"1\" /><path clip-path=\"url(#clip380)\" d=\"M191.246 851.133 Q187.635 851.133 185.806 854.698 Q184.001 858.24 184.001 865.369 Q184.001 872.476 185.806 876.041 Q187.635 879.582 191.246 879.582 Q194.88 879.582 196.686 876.041 Q198.514 872.476 198.514 865.369 Q198.514 858.24 196.686 854.698 Q194.88 851.133 191.246 851.133 M191.246 847.43 Q197.056 847.43 200.112 852.036 Q203.19 856.62 203.19 865.369 Q203.19 874.096 200.112 878.703 Q197.056 883.286 191.246 883.286 Q185.436 883.286 182.357 878.703 Q179.302 874.096 179.302 865.369 Q179.302 856.62 182.357 852.036 Q185.436 847.43 191.246 847.43 Z\" fill=\"#000000\" fill-rule=\"evenodd\" fill-opacity=\"1\" /><polyline clip-path=\"url(#clip384)\" style=\"stroke:#009af9; stroke-linecap:round; stroke-linejoin:round; stroke-width:4; stroke-opacity:1; fill:none\" points=\"265.184,1468.36 308.506,1386.65 351.829,1321.22 395.152,1270.26 438.474,1231.97 481.797,1204.53 525.119,1186.14 568.442,1174.99 611.764,1169.26 655.087,1167.15 698.409,1166.85 741.732,1166.54 785.055,1164.43 828.377,1158.71 871.7,1147.55 915.022,1129.16 958.345,1101.72 1001.67,1063.43 1044.99,1012.47 1088.31,947.044 1131.64,865.335 \"/>\n",
       "<path clip-path=\"url(#clip380)\" d=\"M1434.32 1486.45 L2352.76 1486.45 L2352.76 847.244 L1434.32 847.244  Z\" fill=\"#ffffff\" fill-rule=\"evenodd\" fill-opacity=\"1\"/>\n",
       "<defs>\n",
       "  <clipPath id=\"clip385\">\n",
       "    <rect x=\"1434\" y=\"847\" width=\"919\" height=\"640\"/>\n",
       "  </clipPath>\n",
       "</defs>\n",
       "<polyline clip-path=\"url(#clip385)\" style=\"stroke:#000000; stroke-linecap:round; stroke-linejoin:round; stroke-width:2; stroke-opacity:0.1; fill:none\" points=\"1460.31,1486.45 1460.31,847.244 \"/>\n",
       "<polyline clip-path=\"url(#clip385)\" style=\"stroke:#000000; stroke-linecap:round; stroke-linejoin:round; stroke-width:2; stroke-opacity:0.1; fill:none\" points=\"1676.92,1486.45 1676.92,847.244 \"/>\n",
       "<polyline clip-path=\"url(#clip385)\" style=\"stroke:#000000; stroke-linecap:round; stroke-linejoin:round; stroke-width:2; stroke-opacity:0.1; fill:none\" points=\"1893.54,1486.45 1893.54,847.244 \"/>\n",
       "<polyline clip-path=\"url(#clip385)\" style=\"stroke:#000000; stroke-linecap:round; stroke-linejoin:round; stroke-width:2; stroke-opacity:0.1; fill:none\" points=\"2110.15,1486.45 2110.15,847.244 \"/>\n",
       "<polyline clip-path=\"url(#clip385)\" style=\"stroke:#000000; stroke-linecap:round; stroke-linejoin:round; stroke-width:2; stroke-opacity:0.1; fill:none\" points=\"2326.76,1486.45 2326.76,847.244 \"/>\n",
       "<polyline clip-path=\"url(#clip380)\" style=\"stroke:#000000; stroke-linecap:round; stroke-linejoin:round; stroke-width:4; stroke-opacity:1; fill:none\" points=\"1434.32,1486.45 2352.76,1486.45 \"/>\n",
       "<polyline clip-path=\"url(#clip380)\" style=\"stroke:#000000; stroke-linecap:round; stroke-linejoin:round; stroke-width:4; stroke-opacity:1; fill:none\" points=\"1460.31,1486.45 1460.31,1467.55 \"/>\n",
       "<polyline clip-path=\"url(#clip380)\" style=\"stroke:#000000; stroke-linecap:round; stroke-linejoin:round; stroke-width:4; stroke-opacity:1; fill:none\" points=\"1676.92,1486.45 1676.92,1467.55 \"/>\n",
       "<polyline clip-path=\"url(#clip380)\" style=\"stroke:#000000; stroke-linecap:round; stroke-linejoin:round; stroke-width:4; stroke-opacity:1; fill:none\" points=\"1893.54,1486.45 1893.54,1467.55 \"/>\n",
       "<polyline clip-path=\"url(#clip380)\" style=\"stroke:#000000; stroke-linecap:round; stroke-linejoin:round; stroke-width:4; stroke-opacity:1; fill:none\" points=\"2110.15,1486.45 2110.15,1467.55 \"/>\n",
       "<polyline clip-path=\"url(#clip380)\" style=\"stroke:#000000; stroke-linecap:round; stroke-linejoin:round; stroke-width:4; stroke-opacity:1; fill:none\" points=\"2326.76,1486.45 2326.76,1467.55 \"/>\n",
       "<path clip-path=\"url(#clip380)\" d=\"M1414.37 1532.02 L1444.05 1532.02 L1444.05 1535.95 L1414.37 1535.95 L1414.37 1532.02 Z\" fill=\"#000000\" fill-rule=\"evenodd\" fill-opacity=\"1\" /><path clip-path=\"url(#clip380)\" d=\"M1454.95 1544.91 L1462.59 1544.91 L1462.59 1518.55 L1454.28 1520.21 L1454.28 1515.95 L1462.55 1514.29 L1467.22 1514.29 L1467.22 1544.91 L1474.86 1544.91 L1474.86 1548.85 L1454.95 1548.85 L1454.95 1544.91 Z\" fill=\"#000000\" fill-rule=\"evenodd\" fill-opacity=\"1\" /><path clip-path=\"url(#clip380)\" d=\"M1494.3 1517.37 Q1490.69 1517.37 1488.86 1520.93 Q1487.06 1524.47 1487.06 1531.6 Q1487.06 1538.71 1488.86 1542.27 Q1490.69 1545.82 1494.3 1545.82 Q1497.94 1545.82 1499.74 1542.27 Q1501.57 1538.71 1501.57 1531.6 Q1501.57 1524.47 1499.74 1520.93 Q1497.94 1517.37 1494.3 1517.37 M1494.3 1513.66 Q1500.11 1513.66 1503.17 1518.27 Q1506.25 1522.85 1506.25 1531.6 Q1506.25 1540.33 1503.17 1544.94 Q1500.11 1549.52 1494.3 1549.52 Q1488.49 1549.52 1485.42 1544.94 Q1482.36 1540.33 1482.36 1531.6 Q1482.36 1522.85 1485.42 1518.27 Q1488.49 1513.66 1494.3 1513.66 Z\" fill=\"#000000\" fill-rule=\"evenodd\" fill-opacity=\"1\" /><path clip-path=\"url(#clip380)\" d=\"M1646.57 1532.02 L1676.24 1532.02 L1676.24 1535.95 L1646.57 1535.95 L1646.57 1532.02 Z\" fill=\"#000000\" fill-rule=\"evenodd\" fill-opacity=\"1\" /><path clip-path=\"url(#clip380)\" d=\"M1686.38 1514.29 L1704.74 1514.29 L1704.74 1518.22 L1690.66 1518.22 L1690.66 1526.7 Q1691.68 1526.35 1692.7 1526.19 Q1693.72 1526 1694.74 1526 Q1700.52 1526 1703.9 1529.17 Q1707.28 1532.34 1707.28 1537.76 Q1707.28 1543.34 1703.81 1546.44 Q1700.34 1549.52 1694.02 1549.52 Q1691.84 1549.52 1689.57 1549.15 Q1687.33 1548.78 1684.92 1548.04 L1684.92 1543.34 Q1687.01 1544.47 1689.23 1545.03 Q1691.45 1545.58 1693.93 1545.58 Q1697.93 1545.58 1700.27 1543.48 Q1702.61 1541.37 1702.61 1537.76 Q1702.61 1534.15 1700.27 1532.04 Q1697.93 1529.94 1693.93 1529.94 Q1692.05 1529.94 1690.18 1530.35 Q1688.32 1530.77 1686.38 1531.65 L1686.38 1514.29 Z\" fill=\"#000000\" fill-rule=\"evenodd\" fill-opacity=\"1\" /><path clip-path=\"url(#clip380)\" d=\"M1893.54 1517.37 Q1889.93 1517.37 1888.1 1520.93 Q1886.29 1524.47 1886.29 1531.6 Q1886.29 1538.71 1888.1 1542.27 Q1889.93 1545.82 1893.54 1545.82 Q1897.17 1545.82 1898.98 1542.27 Q1900.81 1538.71 1900.81 1531.6 Q1900.81 1524.47 1898.98 1520.93 Q1897.17 1517.37 1893.54 1517.37 M1893.54 1513.66 Q1899.35 1513.66 1902.4 1518.27 Q1905.48 1522.85 1905.48 1531.6 Q1905.48 1540.33 1902.4 1544.94 Q1899.35 1549.52 1893.54 1549.52 Q1887.73 1549.52 1884.65 1544.94 Q1881.59 1540.33 1881.59 1531.6 Q1881.59 1522.85 1884.65 1518.27 Q1887.73 1513.66 1893.54 1513.66 Z\" fill=\"#000000\" fill-rule=\"evenodd\" fill-opacity=\"1\" /><path clip-path=\"url(#clip380)\" d=\"M2100.43 1514.29 L2118.78 1514.29 L2118.78 1518.22 L2104.71 1518.22 L2104.71 1526.7 Q2105.73 1526.35 2106.75 1526.19 Q2107.77 1526 2108.78 1526 Q2114.57 1526 2117.95 1529.17 Q2121.33 1532.34 2121.33 1537.76 Q2121.33 1543.34 2117.86 1546.44 Q2114.39 1549.52 2108.07 1549.52 Q2105.89 1549.52 2103.62 1549.15 Q2101.38 1548.78 2098.97 1548.04 L2098.97 1543.34 Q2101.05 1544.47 2103.27 1545.03 Q2105.5 1545.58 2107.97 1545.58 Q2111.98 1545.58 2114.32 1543.48 Q2116.65 1541.37 2116.65 1537.76 Q2116.65 1534.15 2114.32 1532.04 Q2111.98 1529.94 2107.97 1529.94 Q2106.1 1529.94 2104.22 1530.35 Q2102.37 1530.77 2100.43 1531.65 L2100.43 1514.29 Z\" fill=\"#000000\" fill-rule=\"evenodd\" fill-opacity=\"1\" /><path clip-path=\"url(#clip380)\" d=\"M2301.45 1544.91 L2309.09 1544.91 L2309.09 1518.55 L2300.78 1520.21 L2300.78 1515.95 L2309.04 1514.29 L2313.72 1514.29 L2313.72 1544.91 L2321.36 1544.91 L2321.36 1548.85 L2301.45 1548.85 L2301.45 1544.91 Z\" fill=\"#000000\" fill-rule=\"evenodd\" fill-opacity=\"1\" /><path clip-path=\"url(#clip380)\" d=\"M2340.8 1517.37 Q2337.19 1517.37 2335.36 1520.93 Q2333.56 1524.47 2333.56 1531.6 Q2333.56 1538.71 2335.36 1542.27 Q2337.19 1545.82 2340.8 1545.82 Q2344.44 1545.82 2346.24 1542.27 Q2348.07 1538.71 2348.07 1531.6 Q2348.07 1524.47 2346.24 1520.93 Q2344.44 1517.37 2340.8 1517.37 M2340.8 1513.66 Q2346.61 1513.66 2349.67 1518.27 Q2352.75 1522.85 2352.75 1531.6 Q2352.75 1540.33 2349.67 1544.94 Q2346.61 1549.52 2340.8 1549.52 Q2334.99 1549.52 2331.91 1544.94 Q2328.86 1540.33 2328.86 1531.6 Q2328.86 1522.85 2331.91 1518.27 Q2334.99 1513.66 2340.8 1513.66 Z\" fill=\"#000000\" fill-rule=\"evenodd\" fill-opacity=\"1\" /><polyline clip-path=\"url(#clip385)\" style=\"stroke:#000000; stroke-linecap:round; stroke-linejoin:round; stroke-width:2; stroke-opacity:0.1; fill:none\" points=\"1434.32,1468.36 2352.76,1468.36 \"/>\n",
       "<polyline clip-path=\"url(#clip385)\" style=\"stroke:#000000; stroke-linecap:round; stroke-linejoin:round; stroke-width:2; stroke-opacity:0.1; fill:none\" points=\"1434.32,1317.6 2352.76,1317.6 \"/>\n",
       "<polyline clip-path=\"url(#clip385)\" style=\"stroke:#000000; stroke-linecap:round; stroke-linejoin:round; stroke-width:2; stroke-opacity:0.1; fill:none\" points=\"1434.32,1166.85 2352.76,1166.85 \"/>\n",
       "<polyline clip-path=\"url(#clip385)\" style=\"stroke:#000000; stroke-linecap:round; stroke-linejoin:round; stroke-width:2; stroke-opacity:0.1; fill:none\" points=\"1434.32,1016.09 2352.76,1016.09 \"/>\n",
       "<polyline clip-path=\"url(#clip385)\" style=\"stroke:#000000; stroke-linecap:round; stroke-linejoin:round; stroke-width:2; stroke-opacity:0.1; fill:none\" points=\"1434.32,865.335 2352.76,865.335 \"/>\n",
       "<polyline clip-path=\"url(#clip380)\" style=\"stroke:#000000; stroke-linecap:round; stroke-linejoin:round; stroke-width:4; stroke-opacity:1; fill:none\" points=\"1434.32,1486.45 1434.32,847.244 \"/>\n",
       "<polyline clip-path=\"url(#clip380)\" style=\"stroke:#000000; stroke-linecap:round; stroke-linejoin:round; stroke-width:4; stroke-opacity:1; fill:none\" points=\"1434.32,1468.36 1453.22,1468.36 \"/>\n",
       "<polyline clip-path=\"url(#clip380)\" style=\"stroke:#000000; stroke-linecap:round; stroke-linejoin:round; stroke-width:4; stroke-opacity:1; fill:none\" points=\"1434.32,1317.6 1453.22,1317.6 \"/>\n",
       "<polyline clip-path=\"url(#clip380)\" style=\"stroke:#000000; stroke-linecap:round; stroke-linejoin:round; stroke-width:4; stroke-opacity:1; fill:none\" points=\"1434.32,1166.85 1453.22,1166.85 \"/>\n",
       "<polyline clip-path=\"url(#clip380)\" style=\"stroke:#000000; stroke-linecap:round; stroke-linejoin:round; stroke-width:4; stroke-opacity:1; fill:none\" points=\"1434.32,1016.09 1453.22,1016.09 \"/>\n",
       "<polyline clip-path=\"url(#clip380)\" style=\"stroke:#000000; stroke-linecap:round; stroke-linejoin:round; stroke-width:4; stroke-opacity:1; fill:none\" points=\"1434.32,865.335 1453.22,865.335 \"/>\n",
       "<path clip-path=\"url(#clip380)\" d=\"M1386.37 1454.16 Q1382.76 1454.16 1380.93 1457.72 Q1379.13 1461.26 1379.13 1468.39 Q1379.13 1475.5 1380.93 1479.06 Q1382.76 1482.6 1386.37 1482.6 Q1390.01 1482.6 1391.81 1479.06 Q1393.64 1475.5 1393.64 1468.39 Q1393.64 1461.26 1391.81 1457.72 Q1390.01 1454.16 1386.37 1454.16 M1386.37 1450.45 Q1392.18 1450.45 1395.24 1455.06 Q1398.32 1459.64 1398.32 1468.39 Q1398.32 1477.12 1395.24 1481.73 Q1392.18 1486.31 1386.37 1486.31 Q1380.56 1486.31 1377.48 1481.73 Q1374.43 1477.12 1374.43 1468.39 Q1374.43 1459.64 1377.48 1455.06 Q1380.56 1450.45 1386.37 1450.45 Z\" fill=\"#000000\" fill-rule=\"evenodd\" fill-opacity=\"1\" /><path clip-path=\"url(#clip380)\" d=\"M1289.92 1330.95 L1306.23 1330.95 L1306.23 1334.88 L1284.29 1334.88 L1284.29 1330.95 Q1286.95 1328.19 1291.54 1323.56 Q1296.14 1318.91 1297.32 1317.57 Q1299.57 1315.04 1300.45 1313.31 Q1301.35 1311.55 1301.35 1309.86 Q1301.35 1307.1 1299.41 1305.37 Q1297.48 1303.63 1294.38 1303.63 Q1292.18 1303.63 1289.73 1304.4 Q1287.3 1305.16 1284.52 1306.71 L1284.52 1301.99 Q1287.35 1300.85 1289.8 1300.28 Q1292.25 1299.7 1294.29 1299.7 Q1299.66 1299.7 1302.86 1302.38 Q1306.05 1305.07 1306.05 1309.56 Q1306.05 1311.69 1305.24 1313.61 Q1304.45 1315.51 1302.35 1318.1 Q1301.77 1318.77 1298.67 1321.99 Q1295.56 1325.18 1289.92 1330.95 Z\" fill=\"#000000\" fill-rule=\"evenodd\" fill-opacity=\"1\" /><path clip-path=\"url(#clip380)\" d=\"M1316.1 1300.32 L1334.45 1300.32 L1334.45 1304.26 L1320.38 1304.26 L1320.38 1312.73 Q1321.4 1312.38 1322.42 1312.22 Q1323.43 1312.03 1324.45 1312.03 Q1330.24 1312.03 1333.62 1315.21 Q1337 1318.38 1337 1323.79 Q1337 1329.37 1333.53 1332.47 Q1330.05 1335.55 1323.73 1335.55 Q1321.56 1335.55 1319.29 1335.18 Q1317.05 1334.81 1314.64 1334.07 L1314.64 1329.37 Q1316.72 1330.51 1318.94 1331.06 Q1321.17 1331.62 1323.64 1331.62 Q1327.65 1331.62 1329.98 1329.51 Q1332.32 1327.4 1332.32 1323.79 Q1332.32 1320.18 1329.98 1318.08 Q1327.65 1315.97 1323.64 1315.97 Q1321.77 1315.97 1319.89 1316.39 Q1318.04 1316.8 1316.1 1317.68 L1316.1 1300.32 Z\" fill=\"#000000\" fill-rule=\"evenodd\" fill-opacity=\"1\" /><path clip-path=\"url(#clip380)\" d=\"M1356.21 1303.4 Q1352.6 1303.4 1350.77 1306.97 Q1348.97 1310.51 1348.97 1317.64 Q1348.97 1324.74 1350.77 1328.31 Q1352.6 1331.85 1356.21 1331.85 Q1359.85 1331.85 1361.65 1328.31 Q1363.48 1324.74 1363.48 1317.64 Q1363.48 1310.51 1361.65 1306.97 Q1359.85 1303.4 1356.21 1303.4 M1356.21 1299.7 Q1362.02 1299.7 1365.08 1304.3 Q1368.16 1308.89 1368.16 1317.64 Q1368.16 1326.36 1365.08 1330.97 Q1362.02 1335.55 1356.21 1335.55 Q1350.4 1335.55 1347.32 1330.97 Q1344.27 1326.36 1344.27 1317.64 Q1344.27 1308.89 1347.32 1304.3 Q1350.4 1299.7 1356.21 1299.7 Z\" fill=\"#000000\" fill-rule=\"evenodd\" fill-opacity=\"1\" /><path clip-path=\"url(#clip380)\" d=\"M1386.37 1303.4 Q1382.76 1303.4 1380.93 1306.97 Q1379.13 1310.51 1379.13 1317.64 Q1379.13 1324.74 1380.93 1328.31 Q1382.76 1331.85 1386.37 1331.85 Q1390.01 1331.85 1391.81 1328.31 Q1393.64 1324.74 1393.64 1317.64 Q1393.64 1310.51 1391.81 1306.97 Q1390.01 1303.4 1386.37 1303.4 M1386.37 1299.7 Q1392.18 1299.7 1395.24 1304.3 Q1398.32 1308.89 1398.32 1317.64 Q1398.32 1326.36 1395.24 1330.97 Q1392.18 1335.55 1386.37 1335.55 Q1380.56 1335.55 1377.48 1330.97 Q1374.43 1326.36 1374.43 1317.64 Q1374.43 1308.89 1377.48 1304.3 Q1380.56 1299.7 1386.37 1299.7 Z\" fill=\"#000000\" fill-rule=\"evenodd\" fill-opacity=\"1\" /><path clip-path=\"url(#clip380)\" d=\"M1285.93 1149.57 L1304.29 1149.57 L1304.29 1153.5 L1290.22 1153.5 L1290.22 1161.97 Q1291.23 1161.63 1292.25 1161.46 Q1293.27 1161.28 1294.29 1161.28 Q1300.08 1161.28 1303.46 1164.45 Q1306.84 1167.62 1306.84 1173.04 Q1306.84 1178.62 1303.36 1181.72 Q1299.89 1184.8 1293.57 1184.8 Q1291.4 1184.8 1289.13 1184.43 Q1286.88 1184.06 1284.48 1183.32 L1284.48 1178.62 Q1286.56 1179.75 1288.78 1180.31 Q1291 1180.86 1293.48 1180.86 Q1297.48 1180.86 1299.82 1178.76 Q1302.16 1176.65 1302.16 1173.04 Q1302.16 1169.43 1299.82 1167.32 Q1297.48 1165.21 1293.48 1165.21 Q1291.61 1165.21 1289.73 1165.63 Q1287.88 1166.05 1285.93 1166.93 L1285.93 1149.57 Z\" fill=\"#000000\" fill-rule=\"evenodd\" fill-opacity=\"1\" /><path clip-path=\"url(#clip380)\" d=\"M1326.05 1152.64 Q1322.44 1152.64 1320.61 1156.21 Q1318.8 1159.75 1318.8 1166.88 Q1318.8 1173.99 1320.61 1177.55 Q1322.44 1181.09 1326.05 1181.09 Q1329.68 1181.09 1331.49 1177.55 Q1333.32 1173.99 1333.32 1166.88 Q1333.32 1159.75 1331.49 1156.21 Q1329.68 1152.64 1326.05 1152.64 M1326.05 1148.94 Q1331.86 1148.94 1334.92 1153.55 Q1337.99 1158.13 1337.99 1166.88 Q1337.99 1175.61 1334.92 1180.21 Q1331.86 1184.8 1326.05 1184.8 Q1320.24 1184.8 1317.16 1180.21 Q1314.11 1175.61 1314.11 1166.88 Q1314.11 1158.13 1317.16 1153.55 Q1320.24 1148.94 1326.05 1148.94 Z\" fill=\"#000000\" fill-rule=\"evenodd\" fill-opacity=\"1\" /><path clip-path=\"url(#clip380)\" d=\"M1356.21 1152.64 Q1352.6 1152.64 1350.77 1156.21 Q1348.97 1159.75 1348.97 1166.88 Q1348.97 1173.99 1350.77 1177.55 Q1352.6 1181.09 1356.21 1181.09 Q1359.85 1181.09 1361.65 1177.55 Q1363.48 1173.99 1363.48 1166.88 Q1363.48 1159.75 1361.65 1156.21 Q1359.85 1152.64 1356.21 1152.64 M1356.21 1148.94 Q1362.02 1148.94 1365.08 1153.55 Q1368.16 1158.13 1368.16 1166.88 Q1368.16 1175.61 1365.08 1180.21 Q1362.02 1184.8 1356.21 1184.8 Q1350.4 1184.8 1347.32 1180.21 Q1344.27 1175.61 1344.27 1166.88 Q1344.27 1158.13 1347.32 1153.55 Q1350.4 1148.94 1356.21 1148.94 Z\" fill=\"#000000\" fill-rule=\"evenodd\" fill-opacity=\"1\" /><path clip-path=\"url(#clip380)\" d=\"M1386.37 1152.64 Q1382.76 1152.64 1380.93 1156.21 Q1379.13 1159.75 1379.13 1166.88 Q1379.13 1173.99 1380.93 1177.55 Q1382.76 1181.09 1386.37 1181.09 Q1390.01 1181.09 1391.81 1177.55 Q1393.64 1173.99 1393.64 1166.88 Q1393.64 1159.75 1391.81 1156.21 Q1390.01 1152.64 1386.37 1152.64 M1386.37 1148.94 Q1392.18 1148.94 1395.24 1153.55 Q1398.32 1158.13 1398.32 1166.88 Q1398.32 1175.61 1395.24 1180.21 Q1392.18 1184.8 1386.37 1184.8 Q1380.56 1184.8 1377.48 1180.21 Q1374.43 1175.61 1374.43 1166.88 Q1374.43 1158.13 1377.48 1153.55 Q1380.56 1148.94 1386.37 1148.94 Z\" fill=\"#000000\" fill-rule=\"evenodd\" fill-opacity=\"1\" /><path clip-path=\"url(#clip380)\" d=\"M1284.71 998.81 L1306.93 998.81 L1306.93 1000.8 L1294.38 1033.37 L1289.5 1033.37 L1301.3 1002.75 L1284.71 1002.75 L1284.71 998.81 Z\" fill=\"#000000\" fill-rule=\"evenodd\" fill-opacity=\"1\" /><path clip-path=\"url(#clip380)\" d=\"M1316.1 998.81 L1334.45 998.81 L1334.45 1002.75 L1320.38 1002.75 L1320.38 1011.22 Q1321.4 1010.87 1322.42 1010.71 Q1323.43 1010.52 1324.45 1010.52 Q1330.24 1010.52 1333.62 1013.69 Q1337 1016.87 1337 1022.28 Q1337 1027.86 1333.53 1030.96 Q1330.05 1034.04 1323.73 1034.04 Q1321.56 1034.04 1319.29 1033.67 Q1317.05 1033.3 1314.64 1032.56 L1314.64 1027.86 Q1316.72 1029 1318.94 1029.55 Q1321.17 1030.11 1323.64 1030.11 Q1327.65 1030.11 1329.98 1028 Q1332.32 1025.89 1332.32 1022.28 Q1332.32 1018.67 1329.98 1016.56 Q1327.65 1014.46 1323.64 1014.46 Q1321.77 1014.46 1319.89 1014.88 Q1318.04 1015.29 1316.1 1016.17 L1316.1 998.81 Z\" fill=\"#000000\" fill-rule=\"evenodd\" fill-opacity=\"1\" /><path clip-path=\"url(#clip380)\" d=\"M1356.21 1001.89 Q1352.6 1001.89 1350.77 1005.45 Q1348.97 1009 1348.97 1016.13 Q1348.97 1023.23 1350.77 1026.8 Q1352.6 1030.34 1356.21 1030.34 Q1359.85 1030.34 1361.65 1026.8 Q1363.48 1023.23 1363.48 1016.13 Q1363.48 1009 1361.65 1005.45 Q1359.85 1001.89 1356.21 1001.89 M1356.21 998.185 Q1362.02 998.185 1365.08 1002.79 Q1368.16 1007.38 1368.16 1016.13 Q1368.16 1024.85 1365.08 1029.46 Q1362.02 1034.04 1356.21 1034.04 Q1350.4 1034.04 1347.32 1029.46 Q1344.27 1024.85 1344.27 1016.13 Q1344.27 1007.38 1347.32 1002.79 Q1350.4 998.185 1356.21 998.185 Z\" fill=\"#000000\" fill-rule=\"evenodd\" fill-opacity=\"1\" /><path clip-path=\"url(#clip380)\" d=\"M1386.37 1001.89 Q1382.76 1001.89 1380.93 1005.45 Q1379.13 1009 1379.13 1016.13 Q1379.13 1023.23 1380.93 1026.8 Q1382.76 1030.34 1386.37 1030.34 Q1390.01 1030.34 1391.81 1026.8 Q1393.64 1023.23 1393.64 1016.13 Q1393.64 1009 1391.81 1005.45 Q1390.01 1001.89 1386.37 1001.89 M1386.37 998.185 Q1392.18 998.185 1395.24 1002.79 Q1398.32 1007.38 1398.32 1016.13 Q1398.32 1024.85 1395.24 1029.46 Q1392.18 1034.04 1386.37 1034.04 Q1380.56 1034.04 1377.48 1029.46 Q1374.43 1024.85 1374.43 1016.13 Q1374.43 1007.38 1377.48 1002.79 Q1380.56 998.185 1386.37 998.185 Z\" fill=\"#000000\" fill-rule=\"evenodd\" fill-opacity=\"1\" /><path clip-path=\"url(#clip380)\" d=\"M1256.54 878.68 L1264.17 878.68 L1264.17 852.314 L1255.86 853.981 L1255.86 849.721 L1264.13 848.055 L1268.8 848.055 L1268.8 878.68 L1276.44 878.68 L1276.44 882.615 L1256.54 882.615 L1256.54 878.68 Z\" fill=\"#000000\" fill-rule=\"evenodd\" fill-opacity=\"1\" /><path clip-path=\"url(#clip380)\" d=\"M1295.89 851.133 Q1292.28 851.133 1290.45 854.698 Q1288.64 858.24 1288.64 865.369 Q1288.64 872.476 1290.45 876.041 Q1292.28 879.582 1295.89 879.582 Q1299.52 879.582 1301.33 876.041 Q1303.16 872.476 1303.16 865.369 Q1303.16 858.24 1301.33 854.698 Q1299.52 851.133 1295.89 851.133 M1295.89 847.43 Q1301.7 847.43 1304.75 852.036 Q1307.83 856.62 1307.83 865.369 Q1307.83 874.096 1304.75 878.703 Q1301.7 883.286 1295.89 883.286 Q1290.08 883.286 1287 878.703 Q1283.94 874.096 1283.94 865.369 Q1283.94 856.62 1287 852.036 Q1290.08 847.43 1295.89 847.43 Z\" fill=\"#000000\" fill-rule=\"evenodd\" fill-opacity=\"1\" /><path clip-path=\"url(#clip380)\" d=\"M1326.05 851.133 Q1322.44 851.133 1320.61 854.698 Q1318.8 858.24 1318.8 865.369 Q1318.8 872.476 1320.61 876.041 Q1322.44 879.582 1326.05 879.582 Q1329.68 879.582 1331.49 876.041 Q1333.32 872.476 1333.32 865.369 Q1333.32 858.24 1331.49 854.698 Q1329.68 851.133 1326.05 851.133 M1326.05 847.43 Q1331.86 847.43 1334.92 852.036 Q1337.99 856.62 1337.99 865.369 Q1337.99 874.096 1334.92 878.703 Q1331.86 883.286 1326.05 883.286 Q1320.24 883.286 1317.16 878.703 Q1314.11 874.096 1314.11 865.369 Q1314.11 856.62 1317.16 852.036 Q1320.24 847.43 1326.05 847.43 Z\" fill=\"#000000\" fill-rule=\"evenodd\" fill-opacity=\"1\" /><path clip-path=\"url(#clip380)\" d=\"M1356.21 851.133 Q1352.6 851.133 1350.77 854.698 Q1348.97 858.24 1348.97 865.369 Q1348.97 872.476 1350.77 876.041 Q1352.6 879.582 1356.21 879.582 Q1359.85 879.582 1361.65 876.041 Q1363.48 872.476 1363.48 865.369 Q1363.48 858.24 1361.65 854.698 Q1359.85 851.133 1356.21 851.133 M1356.21 847.43 Q1362.02 847.43 1365.08 852.036 Q1368.16 856.62 1368.16 865.369 Q1368.16 874.096 1365.08 878.703 Q1362.02 883.286 1356.21 883.286 Q1350.4 883.286 1347.32 878.703 Q1344.27 874.096 1344.27 865.369 Q1344.27 856.62 1347.32 852.036 Q1350.4 847.43 1356.21 847.43 Z\" fill=\"#000000\" fill-rule=\"evenodd\" fill-opacity=\"1\" /><path clip-path=\"url(#clip380)\" d=\"M1386.37 851.133 Q1382.76 851.133 1380.93 854.698 Q1379.13 858.24 1379.13 865.369 Q1379.13 872.476 1380.93 876.041 Q1382.76 879.582 1386.37 879.582 Q1390.01 879.582 1391.81 876.041 Q1393.64 872.476 1393.64 865.369 Q1393.64 858.24 1391.81 854.698 Q1390.01 851.133 1386.37 851.133 M1386.37 847.43 Q1392.18 847.43 1395.24 852.036 Q1398.32 856.62 1398.32 865.369 Q1398.32 874.096 1395.24 878.703 Q1392.18 883.286 1386.37 883.286 Q1380.56 883.286 1377.48 878.703 Q1374.43 874.096 1374.43 865.369 Q1374.43 856.62 1377.48 852.036 Q1380.56 847.43 1386.37 847.43 Z\" fill=\"#000000\" fill-rule=\"evenodd\" fill-opacity=\"1\" /><polyline clip-path=\"url(#clip385)\" style=\"stroke:#009af9; stroke-linecap:round; stroke-linejoin:round; stroke-width:4; stroke-opacity:1; fill:none\" points=\"1460.31,865.335 1503.63,1072.71 1546.96,1221.36 1590.28,1323.57 1633.6,1390.21 1676.92,1430.67 1720.25,1452.92 1763.57,1463.47 1806.89,1467.39 1850.21,1468.3 1893.54,1468.36 1936.86,1468.3 1980.18,1467.39 2023.5,1463.47 2066.83,1452.92 2110.15,1430.67 2153.47,1390.21 2196.79,1323.57 2240.12,1221.36 2283.44,1072.71 2326.76,865.335 \"/>\n",
       "</svg>\n"
      ]
     },
     "execution_count": 149,
     "metadata": {},
     "output_type": "execute_result"
    }
   ],
   "source": [
    "p1 = plot(x, x)\n",
    "p2 = plot(x, x.^2)\n",
    "p3 = plot(x, x.^3)\n",
    "p4 = plot(x, x.^4)\n",
    "plot(p1, p2, p3, p4, layout = (2, 2), legend = false)"
   ]
  },
  {
   "cell_type": "markdown",
   "id": "29acabb5",
   "metadata": {},
   "source": [
    "and then create a $4x1$ plot that uses `p1`, `p2`, `p3`, and `p4` as subplots."
   ]
  },
  {
   "cell_type": "code",
   "execution_count": 152,
   "id": "74e165f7",
   "metadata": {},
   "outputs": [
    {
     "data": {
      "image/svg+xml": [
       "<?xml version=\"1.0\" encoding=\"utf-8\"?>\n",
       "<svg xmlns=\"http://www.w3.org/2000/svg\" xmlns:xlink=\"http://www.w3.org/1999/xlink\" width=\"600\" height=\"400\" viewBox=\"0 0 2400 1600\">\n",
       "<defs>\n",
       "  <clipPath id=\"clip460\">\n",
       "    <rect x=\"0\" y=\"0\" width=\"2400\" height=\"1600\"/>\n",
       "  </clipPath>\n",
       "</defs>\n",
       "<path clip-path=\"url(#clip460)\" d=\"M0 1600 L2400 1600 L2400 0 L0 0  Z\" fill=\"#ffffff\" fill-rule=\"evenodd\" fill-opacity=\"1\"/>\n",
       "<defs>\n",
       "  <clipPath id=\"clip461\">\n",
       "    <rect x=\"480\" y=\"0\" width=\"1681\" height=\"1600\"/>\n",
       "  </clipPath>\n",
       "</defs>\n",
       "<path clip-path=\"url(#clip460)\" d=\"M239.19 286.448 L2352.76 286.448 L2352.76 47.2441 L239.19 47.2441  Z\" fill=\"#ffffff\" fill-rule=\"evenodd\" fill-opacity=\"1\"/>\n",
       "<defs>\n",
       "  <clipPath id=\"clip462\">\n",
       "    <rect x=\"239\" y=\"47\" width=\"2115\" height=\"240\"/>\n",
       "  </clipPath>\n",
       "</defs>\n",
       "<polyline clip-path=\"url(#clip462)\" style=\"stroke:#000000; stroke-linecap:round; stroke-linejoin:round; stroke-width:2; stroke-opacity:0.1; fill:none\" points=\"299.008,286.448 299.008,47.2441 \"/>\n",
       "<polyline clip-path=\"url(#clip462)\" style=\"stroke:#000000; stroke-linecap:round; stroke-linejoin:round; stroke-width:2; stroke-opacity:0.1; fill:none\" points=\"797.491,286.448 797.491,47.2441 \"/>\n",
       "<polyline clip-path=\"url(#clip462)\" style=\"stroke:#000000; stroke-linecap:round; stroke-linejoin:round; stroke-width:2; stroke-opacity:0.1; fill:none\" points=\"1295.97,286.448 1295.97,47.2441 \"/>\n",
       "<polyline clip-path=\"url(#clip462)\" style=\"stroke:#000000; stroke-linecap:round; stroke-linejoin:round; stroke-width:2; stroke-opacity:0.1; fill:none\" points=\"1794.46,286.448 1794.46,47.2441 \"/>\n",
       "<polyline clip-path=\"url(#clip462)\" style=\"stroke:#000000; stroke-linecap:round; stroke-linejoin:round; stroke-width:2; stroke-opacity:0.1; fill:none\" points=\"2292.94,286.448 2292.94,47.2441 \"/>\n",
       "<polyline clip-path=\"url(#clip460)\" style=\"stroke:#000000; stroke-linecap:round; stroke-linejoin:round; stroke-width:4; stroke-opacity:1; fill:none\" points=\"239.19,286.448 2352.76,286.448 \"/>\n",
       "<polyline clip-path=\"url(#clip460)\" style=\"stroke:#000000; stroke-linecap:round; stroke-linejoin:round; stroke-width:4; stroke-opacity:1; fill:none\" points=\"299.008,286.448 299.008,267.55 \"/>\n",
       "<polyline clip-path=\"url(#clip460)\" style=\"stroke:#000000; stroke-linecap:round; stroke-linejoin:round; stroke-width:4; stroke-opacity:1; fill:none\" points=\"797.491,286.448 797.491,267.55 \"/>\n",
       "<polyline clip-path=\"url(#clip460)\" style=\"stroke:#000000; stroke-linecap:round; stroke-linejoin:round; stroke-width:4; stroke-opacity:1; fill:none\" points=\"1295.97,286.448 1295.97,267.55 \"/>\n",
       "<polyline clip-path=\"url(#clip460)\" style=\"stroke:#000000; stroke-linecap:round; stroke-linejoin:round; stroke-width:4; stroke-opacity:1; fill:none\" points=\"1794.46,286.448 1794.46,267.55 \"/>\n",
       "<polyline clip-path=\"url(#clip460)\" style=\"stroke:#000000; stroke-linecap:round; stroke-linejoin:round; stroke-width:4; stroke-opacity:1; fill:none\" points=\"2292.94,286.448 2292.94,267.55 \"/>\n",
       "<path clip-path=\"url(#clip460)\" d=\"M253.071 332.019 L282.747 332.019 L282.747 335.954 L253.071 335.954 L253.071 332.019 Z\" fill=\"#000000\" fill-rule=\"evenodd\" fill-opacity=\"1\" /><path clip-path=\"url(#clip460)\" d=\"M293.65 344.913 L301.288 344.913 L301.288 318.547 L292.978 320.214 L292.978 315.955 L301.242 314.288 L305.918 314.288 L305.918 344.913 L313.557 344.913 L313.557 348.848 L293.65 348.848 L293.65 344.913 Z\" fill=\"#000000\" fill-rule=\"evenodd\" fill-opacity=\"1\" /><path clip-path=\"url(#clip460)\" d=\"M333.001 317.367 Q329.39 317.367 327.561 320.931 Q325.756 324.473 325.756 331.603 Q325.756 338.709 327.561 342.274 Q329.39 345.815 333.001 345.815 Q336.635 345.815 338.441 342.274 Q340.27 338.709 340.27 331.603 Q340.27 324.473 338.441 320.931 Q336.635 317.367 333.001 317.367 M333.001 313.663 Q338.811 313.663 341.867 318.269 Q344.946 322.853 344.946 331.603 Q344.946 340.329 341.867 344.936 Q338.811 349.519 333.001 349.519 Q327.191 349.519 324.112 344.936 Q321.057 340.329 321.057 331.603 Q321.057 322.853 324.112 318.269 Q327.191 313.663 333.001 313.663 Z\" fill=\"#000000\" fill-rule=\"evenodd\" fill-opacity=\"1\" /><path clip-path=\"url(#clip460)\" d=\"M767.132 332.019 L796.808 332.019 L796.808 335.954 L767.132 335.954 L767.132 332.019 Z\" fill=\"#000000\" fill-rule=\"evenodd\" fill-opacity=\"1\" /><path clip-path=\"url(#clip460)\" d=\"M806.947 314.288 L825.303 314.288 L825.303 318.223 L811.229 318.223 L811.229 326.695 Q812.248 326.348 813.266 326.186 Q814.285 326.001 815.303 326.001 Q821.09 326.001 824.47 329.172 Q827.849 332.343 827.849 337.76 Q827.849 343.339 824.377 346.44 Q820.905 349.519 814.586 349.519 Q812.41 349.519 810.141 349.149 Q807.896 348.778 805.488 348.038 L805.488 343.339 Q807.572 344.473 809.794 345.028 Q812.016 345.584 814.493 345.584 Q818.498 345.584 820.835 343.478 Q823.173 341.371 823.173 337.76 Q823.173 334.149 820.835 332.042 Q818.498 329.936 814.493 329.936 Q812.618 329.936 810.743 330.353 Q808.891 330.769 806.947 331.649 L806.947 314.288 Z\" fill=\"#000000\" fill-rule=\"evenodd\" fill-opacity=\"1\" /><path clip-path=\"url(#clip460)\" d=\"M1295.97 317.367 Q1292.36 317.367 1290.53 320.931 Q1288.73 324.473 1288.73 331.603 Q1288.73 338.709 1290.53 342.274 Q1292.36 345.815 1295.97 345.815 Q1299.61 345.815 1301.41 342.274 Q1303.24 338.709 1303.24 331.603 Q1303.24 324.473 1301.41 320.931 Q1299.61 317.367 1295.97 317.367 M1295.97 313.663 Q1301.78 313.663 1304.84 318.269 Q1307.92 322.853 1307.92 331.603 Q1307.92 340.329 1304.84 344.936 Q1301.78 349.519 1295.97 349.519 Q1290.16 349.519 1287.08 344.936 Q1284.03 340.329 1284.03 331.603 Q1284.03 322.853 1287.08 318.269 Q1290.16 313.663 1295.97 313.663 Z\" fill=\"#000000\" fill-rule=\"evenodd\" fill-opacity=\"1\" /><path clip-path=\"url(#clip460)\" d=\"M1784.73 314.288 L1803.09 314.288 L1803.09 318.223 L1789.02 318.223 L1789.02 326.695 Q1790.03 326.348 1791.05 326.186 Q1792.07 326.001 1793.09 326.001 Q1798.88 326.001 1802.26 329.172 Q1805.64 332.343 1805.64 337.76 Q1805.64 343.339 1802.16 346.44 Q1798.69 349.519 1792.37 349.519 Q1790.2 349.519 1787.93 349.149 Q1785.68 348.778 1783.28 348.038 L1783.28 343.339 Q1785.36 344.473 1787.58 345.028 Q1789.8 345.584 1792.28 345.584 Q1796.28 345.584 1798.62 343.478 Q1800.96 341.371 1800.96 337.76 Q1800.96 334.149 1798.62 332.042 Q1796.28 329.936 1792.28 329.936 Q1790.4 329.936 1788.53 330.353 Q1786.68 330.769 1784.73 331.649 L1784.73 314.288 Z\" fill=\"#000000\" fill-rule=\"evenodd\" fill-opacity=\"1\" /><path clip-path=\"url(#clip460)\" d=\"M2267.63 344.913 L2275.26 344.913 L2275.26 318.547 L2266.95 320.214 L2266.95 315.955 L2275.22 314.288 L2279.89 314.288 L2279.89 344.913 L2287.53 344.913 L2287.53 348.848 L2267.63 348.848 L2267.63 344.913 Z\" fill=\"#000000\" fill-rule=\"evenodd\" fill-opacity=\"1\" /><path clip-path=\"url(#clip460)\" d=\"M2306.98 317.367 Q2303.37 317.367 2301.54 320.931 Q2299.73 324.473 2299.73 331.603 Q2299.73 338.709 2301.54 342.274 Q2303.37 345.815 2306.98 345.815 Q2310.61 345.815 2312.42 342.274 Q2314.25 338.709 2314.25 331.603 Q2314.25 324.473 2312.42 320.931 Q2310.61 317.367 2306.98 317.367 M2306.98 313.663 Q2312.79 313.663 2315.84 318.269 Q2318.92 322.853 2318.92 331.603 Q2318.92 340.329 2315.84 344.936 Q2312.79 349.519 2306.98 349.519 Q2301.17 349.519 2298.09 344.936 Q2295.03 340.329 2295.03 331.603 Q2295.03 322.853 2298.09 318.269 Q2301.17 313.663 2306.98 313.663 Z\" fill=\"#000000\" fill-rule=\"evenodd\" fill-opacity=\"1\" /><polyline clip-path=\"url(#clip462)\" style=\"stroke:#000000; stroke-linecap:round; stroke-linejoin:round; stroke-width:2; stroke-opacity:0.1; fill:none\" points=\"239.19,279.678 2352.76,279.678 \"/>\n",
       "<polyline clip-path=\"url(#clip462)\" style=\"stroke:#000000; stroke-linecap:round; stroke-linejoin:round; stroke-width:2; stroke-opacity:0.1; fill:none\" points=\"239.19,223.262 2352.76,223.262 \"/>\n",
       "<polyline clip-path=\"url(#clip462)\" style=\"stroke:#000000; stroke-linecap:round; stroke-linejoin:round; stroke-width:2; stroke-opacity:0.1; fill:none\" points=\"239.19,166.846 2352.76,166.846 \"/>\n",
       "<polyline clip-path=\"url(#clip462)\" style=\"stroke:#000000; stroke-linecap:round; stroke-linejoin:round; stroke-width:2; stroke-opacity:0.1; fill:none\" points=\"239.19,110.43 2352.76,110.43 \"/>\n",
       "<polyline clip-path=\"url(#clip462)\" style=\"stroke:#000000; stroke-linecap:round; stroke-linejoin:round; stroke-width:2; stroke-opacity:0.1; fill:none\" points=\"239.19,54.014 2352.76,54.014 \"/>\n",
       "<polyline clip-path=\"url(#clip460)\" style=\"stroke:#000000; stroke-linecap:round; stroke-linejoin:round; stroke-width:4; stroke-opacity:1; fill:none\" points=\"239.19,286.448 239.19,47.2441 \"/>\n",
       "<polyline clip-path=\"url(#clip460)\" style=\"stroke:#000000; stroke-linecap:round; stroke-linejoin:round; stroke-width:4; stroke-opacity:1; fill:none\" points=\"239.19,279.678 258.088,279.678 \"/>\n",
       "<polyline clip-path=\"url(#clip460)\" style=\"stroke:#000000; stroke-linecap:round; stroke-linejoin:round; stroke-width:4; stroke-opacity:1; fill:none\" points=\"239.19,223.262 258.088,223.262 \"/>\n",
       "<polyline clip-path=\"url(#clip460)\" style=\"stroke:#000000; stroke-linecap:round; stroke-linejoin:round; stroke-width:4; stroke-opacity:1; fill:none\" points=\"239.19,166.846 258.088,166.846 \"/>\n",
       "<polyline clip-path=\"url(#clip460)\" style=\"stroke:#000000; stroke-linecap:round; stroke-linejoin:round; stroke-width:4; stroke-opacity:1; fill:none\" points=\"239.19,110.43 258.088,110.43 \"/>\n",
       "<polyline clip-path=\"url(#clip460)\" style=\"stroke:#000000; stroke-linecap:round; stroke-linejoin:round; stroke-width:4; stroke-opacity:1; fill:none\" points=\"239.19,54.014 258.088,54.014 \"/>\n",
       "<path clip-path=\"url(#clip460)\" d=\"M111.316 280.129 L140.992 280.129 L140.992 284.065 L111.316 284.065 L111.316 280.129 Z\" fill=\"#000000\" fill-rule=\"evenodd\" fill-opacity=\"1\" /><path clip-path=\"url(#clip460)\" d=\"M151.894 293.023 L159.533 293.023 L159.533 266.657 L151.223 268.324 L151.223 264.065 L159.487 262.398 L164.163 262.398 L164.163 293.023 L171.802 293.023 L171.802 296.958 L151.894 296.958 L151.894 293.023 Z\" fill=\"#000000\" fill-rule=\"evenodd\" fill-opacity=\"1\" /><path clip-path=\"url(#clip460)\" d=\"M191.246 265.477 Q187.635 265.477 185.806 269.041 Q184.001 272.583 184.001 279.713 Q184.001 286.819 185.806 290.384 Q187.635 293.926 191.246 293.926 Q194.88 293.926 196.686 290.384 Q198.514 286.819 198.514 279.713 Q198.514 272.583 196.686 269.041 Q194.88 265.477 191.246 265.477 M191.246 261.773 Q197.056 261.773 200.112 266.379 Q203.19 270.963 203.19 279.713 Q203.19 288.439 200.112 293.046 Q197.056 297.629 191.246 297.629 Q185.436 297.629 182.357 293.046 Q179.302 288.439 179.302 279.713 Q179.302 270.963 182.357 266.379 Q185.436 261.773 191.246 261.773 Z\" fill=\"#000000\" fill-rule=\"evenodd\" fill-opacity=\"1\" /><path clip-path=\"url(#clip460)\" d=\"M142.473 223.713 L172.149 223.713 L172.149 227.649 L142.473 227.649 L142.473 223.713 Z\" fill=\"#000000\" fill-rule=\"evenodd\" fill-opacity=\"1\" /><path clip-path=\"url(#clip460)\" d=\"M182.288 205.982 L200.644 205.982 L200.644 209.917 L186.57 209.917 L186.57 218.389 Q187.589 218.042 188.607 217.88 Q189.626 217.695 190.644 217.695 Q196.431 217.695 199.811 220.866 Q203.19 224.037 203.19 229.454 Q203.19 235.033 199.718 238.135 Q196.246 241.213 189.927 241.213 Q187.751 241.213 185.482 240.843 Q183.237 240.473 180.829 239.732 L180.829 235.033 Q182.913 236.167 185.135 236.723 Q187.357 237.278 189.834 237.278 Q193.839 237.278 196.177 235.172 Q198.514 233.065 198.514 229.454 Q198.514 225.843 196.177 223.737 Q193.839 221.63 189.834 221.63 Q187.959 221.63 186.084 222.047 Q184.232 222.463 182.288 223.343 L182.288 205.982 Z\" fill=\"#000000\" fill-rule=\"evenodd\" fill-opacity=\"1\" /><path clip-path=\"url(#clip460)\" d=\"M191.246 152.645 Q187.635 152.645 185.806 156.209 Q184.001 159.751 184.001 166.881 Q184.001 173.987 185.806 177.552 Q187.635 181.094 191.246 181.094 Q194.88 181.094 196.686 177.552 Q198.514 173.987 198.514 166.881 Q198.514 159.751 196.686 156.209 Q194.88 152.645 191.246 152.645 M191.246 148.941 Q197.056 148.941 200.112 153.547 Q203.19 158.131 203.19 166.881 Q203.19 175.608 200.112 180.214 Q197.056 184.797 191.246 184.797 Q185.436 184.797 182.357 180.214 Q179.302 175.608 179.302 166.881 Q179.302 158.131 182.357 153.547 Q185.436 148.941 191.246 148.941 Z\" fill=\"#000000\" fill-rule=\"evenodd\" fill-opacity=\"1\" /><path clip-path=\"url(#clip460)\" d=\"M182.288 93.15 L200.644 93.15 L200.644 97.0852 L186.57 97.0852 L186.57 105.557 Q187.589 105.21 188.607 105.048 Q189.626 104.863 190.644 104.863 Q196.431 104.863 199.811 108.034 Q203.19 111.205 203.19 116.622 Q203.19 122.201 199.718 125.303 Q196.246 128.381 189.927 128.381 Q187.751 128.381 185.482 128.011 Q183.237 127.641 180.829 126.9 L180.829 122.201 Q182.913 123.335 185.135 123.891 Q187.357 124.446 189.834 124.446 Q193.839 124.446 196.177 122.34 Q198.514 120.233 198.514 116.622 Q198.514 113.011 196.177 110.905 Q193.839 108.798 189.834 108.798 Q187.959 108.798 186.084 109.215 Q184.232 109.631 182.288 110.511 L182.288 93.15 Z\" fill=\"#000000\" fill-rule=\"evenodd\" fill-opacity=\"1\" /><path clip-path=\"url(#clip460)\" d=\"M151.894 67.3588 L159.533 67.3588 L159.533 40.9932 L151.223 42.6599 L151.223 38.4007 L159.487 36.734 L164.163 36.734 L164.163 67.3588 L171.802 67.3588 L171.802 71.294 L151.894 71.294 L151.894 67.3588 Z\" fill=\"#000000\" fill-rule=\"evenodd\" fill-opacity=\"1\" /><path clip-path=\"url(#clip460)\" d=\"M191.246 39.8127 Q187.635 39.8127 185.806 43.3775 Q184.001 46.9191 184.001 54.0487 Q184.001 61.1552 185.806 64.72 Q187.635 68.2616 191.246 68.2616 Q194.88 68.2616 196.686 64.72 Q198.514 61.1552 198.514 54.0487 Q198.514 46.9191 196.686 43.3775 Q194.88 39.8127 191.246 39.8127 M191.246 36.109 Q197.056 36.109 200.112 40.7155 Q203.19 45.2988 203.19 54.0487 Q203.19 62.7755 200.112 67.382 Q197.056 71.9653 191.246 71.9653 Q185.436 71.9653 182.357 67.382 Q179.302 62.7755 179.302 54.0487 Q179.302 45.2988 182.357 40.7155 Q185.436 36.109 191.246 36.109 Z\" fill=\"#000000\" fill-rule=\"evenodd\" fill-opacity=\"1\" /><polyline clip-path=\"url(#clip462)\" style=\"stroke:#009af9; stroke-linecap:round; stroke-linejoin:round; stroke-width:4; stroke-opacity:1; fill:none\" points=\"299.008,279.678 398.705,268.395 498.401,257.112 598.098,245.828 697.794,234.545 797.491,223.262 897.187,211.979 996.884,200.696 1096.58,189.412 1196.28,178.129 1295.97,166.846 1395.67,155.563 1495.37,144.28 1595.06,132.996 1694.76,121.713 1794.46,110.43 1894.15,99.1468 1993.85,87.8636 2093.55,76.5804 2193.24,65.2972 2292.94,54.014 \"/>\n",
       "<path clip-path=\"url(#clip460)\" d=\"M239.19 686.448 L2352.76 686.448 L2352.76 447.244 L239.19 447.244  Z\" fill=\"#ffffff\" fill-rule=\"evenodd\" fill-opacity=\"1\"/>\n",
       "<defs>\n",
       "  <clipPath id=\"clip463\">\n",
       "    <rect x=\"239\" y=\"447\" width=\"2115\" height=\"240\"/>\n",
       "  </clipPath>\n",
       "</defs>\n",
       "<polyline clip-path=\"url(#clip463)\" style=\"stroke:#000000; stroke-linecap:round; stroke-linejoin:round; stroke-width:2; stroke-opacity:0.1; fill:none\" points=\"299.008,686.448 299.008,447.244 \"/>\n",
       "<polyline clip-path=\"url(#clip463)\" style=\"stroke:#000000; stroke-linecap:round; stroke-linejoin:round; stroke-width:2; stroke-opacity:0.1; fill:none\" points=\"797.491,686.448 797.491,447.244 \"/>\n",
       "<polyline clip-path=\"url(#clip463)\" style=\"stroke:#000000; stroke-linecap:round; stroke-linejoin:round; stroke-width:2; stroke-opacity:0.1; fill:none\" points=\"1295.97,686.448 1295.97,447.244 \"/>\n",
       "<polyline clip-path=\"url(#clip463)\" style=\"stroke:#000000; stroke-linecap:round; stroke-linejoin:round; stroke-width:2; stroke-opacity:0.1; fill:none\" points=\"1794.46,686.448 1794.46,447.244 \"/>\n",
       "<polyline clip-path=\"url(#clip463)\" style=\"stroke:#000000; stroke-linecap:round; stroke-linejoin:round; stroke-width:2; stroke-opacity:0.1; fill:none\" points=\"2292.94,686.448 2292.94,447.244 \"/>\n",
       "<polyline clip-path=\"url(#clip460)\" style=\"stroke:#000000; stroke-linecap:round; stroke-linejoin:round; stroke-width:4; stroke-opacity:1; fill:none\" points=\"239.19,686.448 2352.76,686.448 \"/>\n",
       "<polyline clip-path=\"url(#clip460)\" style=\"stroke:#000000; stroke-linecap:round; stroke-linejoin:round; stroke-width:4; stroke-opacity:1; fill:none\" points=\"299.008,686.448 299.008,667.55 \"/>\n",
       "<polyline clip-path=\"url(#clip460)\" style=\"stroke:#000000; stroke-linecap:round; stroke-linejoin:round; stroke-width:4; stroke-opacity:1; fill:none\" points=\"797.491,686.448 797.491,667.55 \"/>\n",
       "<polyline clip-path=\"url(#clip460)\" style=\"stroke:#000000; stroke-linecap:round; stroke-linejoin:round; stroke-width:4; stroke-opacity:1; fill:none\" points=\"1295.97,686.448 1295.97,667.55 \"/>\n",
       "<polyline clip-path=\"url(#clip460)\" style=\"stroke:#000000; stroke-linecap:round; stroke-linejoin:round; stroke-width:4; stroke-opacity:1; fill:none\" points=\"1794.46,686.448 1794.46,667.55 \"/>\n",
       "<polyline clip-path=\"url(#clip460)\" style=\"stroke:#000000; stroke-linecap:round; stroke-linejoin:round; stroke-width:4; stroke-opacity:1; fill:none\" points=\"2292.94,686.448 2292.94,667.55 \"/>\n",
       "<path clip-path=\"url(#clip460)\" d=\"M253.071 732.019 L282.747 732.019 L282.747 735.954 L253.071 735.954 L253.071 732.019 Z\" fill=\"#000000\" fill-rule=\"evenodd\" fill-opacity=\"1\" /><path clip-path=\"url(#clip460)\" d=\"M293.65 744.913 L301.288 744.913 L301.288 718.547 L292.978 720.214 L292.978 715.955 L301.242 714.288 L305.918 714.288 L305.918 744.913 L313.557 744.913 L313.557 748.848 L293.65 748.848 L293.65 744.913 Z\" fill=\"#000000\" fill-rule=\"evenodd\" fill-opacity=\"1\" /><path clip-path=\"url(#clip460)\" d=\"M333.001 717.367 Q329.39 717.367 327.561 720.931 Q325.756 724.473 325.756 731.603 Q325.756 738.709 327.561 742.274 Q329.39 745.815 333.001 745.815 Q336.635 745.815 338.441 742.274 Q340.27 738.709 340.27 731.603 Q340.27 724.473 338.441 720.931 Q336.635 717.367 333.001 717.367 M333.001 713.663 Q338.811 713.663 341.867 718.269 Q344.946 722.853 344.946 731.603 Q344.946 740.329 341.867 744.936 Q338.811 749.519 333.001 749.519 Q327.191 749.519 324.112 744.936 Q321.057 740.329 321.057 731.603 Q321.057 722.853 324.112 718.269 Q327.191 713.663 333.001 713.663 Z\" fill=\"#000000\" fill-rule=\"evenodd\" fill-opacity=\"1\" /><path clip-path=\"url(#clip460)\" d=\"M767.132 732.019 L796.808 732.019 L796.808 735.954 L767.132 735.954 L767.132 732.019 Z\" fill=\"#000000\" fill-rule=\"evenodd\" fill-opacity=\"1\" /><path clip-path=\"url(#clip460)\" d=\"M806.947 714.288 L825.303 714.288 L825.303 718.223 L811.229 718.223 L811.229 726.695 Q812.248 726.348 813.266 726.186 Q814.285 726.001 815.303 726.001 Q821.09 726.001 824.47 729.172 Q827.849 732.343 827.849 737.76 Q827.849 743.339 824.377 746.44 Q820.905 749.519 814.586 749.519 Q812.41 749.519 810.141 749.149 Q807.896 748.778 805.488 748.038 L805.488 743.339 Q807.572 744.473 809.794 745.028 Q812.016 745.584 814.493 745.584 Q818.498 745.584 820.835 743.478 Q823.173 741.371 823.173 737.76 Q823.173 734.149 820.835 732.042 Q818.498 729.936 814.493 729.936 Q812.618 729.936 810.743 730.353 Q808.891 730.769 806.947 731.649 L806.947 714.288 Z\" fill=\"#000000\" fill-rule=\"evenodd\" fill-opacity=\"1\" /><path clip-path=\"url(#clip460)\" d=\"M1295.97 717.367 Q1292.36 717.367 1290.53 720.931 Q1288.73 724.473 1288.73 731.603 Q1288.73 738.709 1290.53 742.274 Q1292.36 745.815 1295.97 745.815 Q1299.61 745.815 1301.41 742.274 Q1303.24 738.709 1303.24 731.603 Q1303.24 724.473 1301.41 720.931 Q1299.61 717.367 1295.97 717.367 M1295.97 713.663 Q1301.78 713.663 1304.84 718.269 Q1307.92 722.853 1307.92 731.603 Q1307.92 740.329 1304.84 744.936 Q1301.78 749.519 1295.97 749.519 Q1290.16 749.519 1287.08 744.936 Q1284.03 740.329 1284.03 731.603 Q1284.03 722.853 1287.08 718.269 Q1290.16 713.663 1295.97 713.663 Z\" fill=\"#000000\" fill-rule=\"evenodd\" fill-opacity=\"1\" /><path clip-path=\"url(#clip460)\" d=\"M1784.73 714.288 L1803.09 714.288 L1803.09 718.223 L1789.02 718.223 L1789.02 726.695 Q1790.03 726.348 1791.05 726.186 Q1792.07 726.001 1793.09 726.001 Q1798.88 726.001 1802.26 729.172 Q1805.64 732.343 1805.64 737.76 Q1805.64 743.339 1802.16 746.44 Q1798.69 749.519 1792.37 749.519 Q1790.2 749.519 1787.93 749.149 Q1785.68 748.778 1783.28 748.038 L1783.28 743.339 Q1785.36 744.473 1787.58 745.028 Q1789.8 745.584 1792.28 745.584 Q1796.28 745.584 1798.62 743.478 Q1800.96 741.371 1800.96 737.76 Q1800.96 734.149 1798.62 732.042 Q1796.28 729.936 1792.28 729.936 Q1790.4 729.936 1788.53 730.353 Q1786.68 730.769 1784.73 731.649 L1784.73 714.288 Z\" fill=\"#000000\" fill-rule=\"evenodd\" fill-opacity=\"1\" /><path clip-path=\"url(#clip460)\" d=\"M2267.63 744.913 L2275.26 744.913 L2275.26 718.547 L2266.95 720.214 L2266.95 715.955 L2275.22 714.288 L2279.89 714.288 L2279.89 744.913 L2287.53 744.913 L2287.53 748.848 L2267.63 748.848 L2267.63 744.913 Z\" fill=\"#000000\" fill-rule=\"evenodd\" fill-opacity=\"1\" /><path clip-path=\"url(#clip460)\" d=\"M2306.98 717.367 Q2303.37 717.367 2301.54 720.931 Q2299.73 724.473 2299.73 731.603 Q2299.73 738.709 2301.54 742.274 Q2303.37 745.815 2306.98 745.815 Q2310.61 745.815 2312.42 742.274 Q2314.25 738.709 2314.25 731.603 Q2314.25 724.473 2312.42 720.931 Q2310.61 717.367 2306.98 717.367 M2306.98 713.663 Q2312.79 713.663 2315.84 718.269 Q2318.92 722.853 2318.92 731.603 Q2318.92 740.329 2315.84 744.936 Q2312.79 749.519 2306.98 749.519 Q2301.17 749.519 2298.09 744.936 Q2295.03 740.329 2295.03 731.603 Q2295.03 722.853 2298.09 718.269 Q2301.17 713.663 2306.98 713.663 Z\" fill=\"#000000\" fill-rule=\"evenodd\" fill-opacity=\"1\" /><polyline clip-path=\"url(#clip463)\" style=\"stroke:#000000; stroke-linecap:round; stroke-linejoin:round; stroke-width:2; stroke-opacity:0.1; fill:none\" points=\"239.19,679.678 2352.76,679.678 \"/>\n",
       "<polyline clip-path=\"url(#clip463)\" style=\"stroke:#000000; stroke-linecap:round; stroke-linejoin:round; stroke-width:2; stroke-opacity:0.1; fill:none\" points=\"239.19,623.262 2352.76,623.262 \"/>\n",
       "<polyline clip-path=\"url(#clip463)\" style=\"stroke:#000000; stroke-linecap:round; stroke-linejoin:round; stroke-width:2; stroke-opacity:0.1; fill:none\" points=\"239.19,566.846 2352.76,566.846 \"/>\n",
       "<polyline clip-path=\"url(#clip463)\" style=\"stroke:#000000; stroke-linecap:round; stroke-linejoin:round; stroke-width:2; stroke-opacity:0.1; fill:none\" points=\"239.19,510.43 2352.76,510.43 \"/>\n",
       "<polyline clip-path=\"url(#clip463)\" style=\"stroke:#000000; stroke-linecap:round; stroke-linejoin:round; stroke-width:2; stroke-opacity:0.1; fill:none\" points=\"239.19,454.014 2352.76,454.014 \"/>\n",
       "<polyline clip-path=\"url(#clip460)\" style=\"stroke:#000000; stroke-linecap:round; stroke-linejoin:round; stroke-width:4; stroke-opacity:1; fill:none\" points=\"239.19,686.448 239.19,447.244 \"/>\n",
       "<polyline clip-path=\"url(#clip460)\" style=\"stroke:#000000; stroke-linecap:round; stroke-linejoin:round; stroke-width:4; stroke-opacity:1; fill:none\" points=\"239.19,679.678 258.088,679.678 \"/>\n",
       "<polyline clip-path=\"url(#clip460)\" style=\"stroke:#000000; stroke-linecap:round; stroke-linejoin:round; stroke-width:4; stroke-opacity:1; fill:none\" points=\"239.19,623.262 258.088,623.262 \"/>\n",
       "<polyline clip-path=\"url(#clip460)\" style=\"stroke:#000000; stroke-linecap:round; stroke-linejoin:round; stroke-width:4; stroke-opacity:1; fill:none\" points=\"239.19,566.846 258.088,566.846 \"/>\n",
       "<polyline clip-path=\"url(#clip460)\" style=\"stroke:#000000; stroke-linecap:round; stroke-linejoin:round; stroke-width:4; stroke-opacity:1; fill:none\" points=\"239.19,510.43 258.088,510.43 \"/>\n",
       "<polyline clip-path=\"url(#clip460)\" style=\"stroke:#000000; stroke-linecap:round; stroke-linejoin:round; stroke-width:4; stroke-opacity:1; fill:none\" points=\"239.19,454.014 258.088,454.014 \"/>\n",
       "<path clip-path=\"url(#clip460)\" d=\"M191.246 665.477 Q187.635 665.477 185.806 669.041 Q184.001 672.583 184.001 679.713 Q184.001 686.819 185.806 690.384 Q187.635 693.926 191.246 693.926 Q194.88 693.926 196.686 690.384 Q198.514 686.819 198.514 679.713 Q198.514 672.583 196.686 669.041 Q194.88 665.477 191.246 665.477 M191.246 661.773 Q197.056 661.773 200.112 666.379 Q203.19 670.963 203.19 679.713 Q203.19 688.439 200.112 693.046 Q197.056 697.629 191.246 697.629 Q185.436 697.629 182.357 693.046 Q179.302 688.439 179.302 679.713 Q179.302 670.963 182.357 666.379 Q185.436 661.773 191.246 661.773 Z\" fill=\"#000000\" fill-rule=\"evenodd\" fill-opacity=\"1\" /><path clip-path=\"url(#clip460)\" d=\"M156.107 636.607 L172.427 636.607 L172.427 640.542 L150.482 640.542 L150.482 636.607 Q153.144 633.852 157.728 629.223 Q162.334 624.57 163.515 623.227 Q165.76 620.704 166.64 618.968 Q167.542 617.209 167.542 615.519 Q167.542 612.764 165.598 611.028 Q163.677 609.292 160.575 609.292 Q158.376 609.292 155.922 610.056 Q153.492 610.82 150.714 612.371 L150.714 607.649 Q153.538 606.514 155.992 605.936 Q158.445 605.357 160.482 605.357 Q165.853 605.357 169.047 608.042 Q172.241 610.727 172.241 615.218 Q172.241 617.348 171.431 619.269 Q170.644 621.167 168.538 623.76 Q167.959 624.431 164.857 627.649 Q161.755 630.843 156.107 636.607 Z\" fill=\"#000000\" fill-rule=\"evenodd\" fill-opacity=\"1\" /><path clip-path=\"url(#clip460)\" d=\"M182.288 605.982 L200.644 605.982 L200.644 609.917 L186.57 609.917 L186.57 618.389 Q187.589 618.042 188.607 617.88 Q189.626 617.695 190.644 617.695 Q196.431 617.695 199.811 620.866 Q203.19 624.037 203.19 629.454 Q203.19 635.033 199.718 638.135 Q196.246 641.213 189.927 641.213 Q187.751 641.213 185.482 640.843 Q183.237 640.473 180.829 639.732 L180.829 635.033 Q182.913 636.167 185.135 636.723 Q187.357 637.278 189.834 637.278 Q193.839 637.278 196.177 635.172 Q198.514 633.065 198.514 629.454 Q198.514 625.843 196.177 623.737 Q193.839 621.63 189.834 621.63 Q187.959 621.63 186.084 622.047 Q184.232 622.463 182.288 623.343 L182.288 605.982 Z\" fill=\"#000000\" fill-rule=\"evenodd\" fill-opacity=\"1\" /><path clip-path=\"url(#clip460)\" d=\"M151.13 549.566 L169.487 549.566 L169.487 553.501 L155.413 553.501 L155.413 561.973 Q156.431 561.626 157.45 561.464 Q158.468 561.279 159.487 561.279 Q165.274 561.279 168.654 564.45 Q172.033 567.621 172.033 573.038 Q172.033 578.617 168.561 581.719 Q165.089 584.797 158.769 584.797 Q156.593 584.797 154.325 584.427 Q152.08 584.057 149.672 583.316 L149.672 578.617 Q151.755 579.751 153.978 580.307 Q156.2 580.862 158.677 580.862 Q162.681 580.862 165.019 578.756 Q167.357 576.649 167.357 573.038 Q167.357 569.427 165.019 567.321 Q162.681 565.214 158.677 565.214 Q156.802 565.214 154.927 565.631 Q153.075 566.047 151.13 566.927 L151.13 549.566 Z\" fill=\"#000000\" fill-rule=\"evenodd\" fill-opacity=\"1\" /><path clip-path=\"url(#clip460)\" d=\"M191.246 552.645 Q187.635 552.645 185.806 556.209 Q184.001 559.751 184.001 566.881 Q184.001 573.987 185.806 577.552 Q187.635 581.094 191.246 581.094 Q194.88 581.094 196.686 577.552 Q198.514 573.987 198.514 566.881 Q198.514 559.751 196.686 556.209 Q194.88 552.645 191.246 552.645 M191.246 548.941 Q197.056 548.941 200.112 553.547 Q203.19 558.131 203.19 566.881 Q203.19 575.608 200.112 580.214 Q197.056 584.797 191.246 584.797 Q185.436 584.797 182.357 580.214 Q179.302 575.608 179.302 566.881 Q179.302 558.131 182.357 553.547 Q185.436 548.941 191.246 548.941 Z\" fill=\"#000000\" fill-rule=\"evenodd\" fill-opacity=\"1\" /><path clip-path=\"url(#clip460)\" d=\"M150.899 493.15 L173.121 493.15 L173.121 495.141 L160.575 527.71 L155.691 527.71 L167.496 497.085 L150.899 497.085 L150.899 493.15 Z\" fill=\"#000000\" fill-rule=\"evenodd\" fill-opacity=\"1\" /><path clip-path=\"url(#clip460)\" d=\"M182.288 493.15 L200.644 493.15 L200.644 497.085 L186.57 497.085 L186.57 505.557 Q187.589 505.21 188.607 505.048 Q189.626 504.863 190.644 504.863 Q196.431 504.863 199.811 508.034 Q203.19 511.205 203.19 516.622 Q203.19 522.201 199.718 525.303 Q196.246 528.381 189.927 528.381 Q187.751 528.381 185.482 528.011 Q183.237 527.641 180.829 526.9 L180.829 522.201 Q182.913 523.335 185.135 523.891 Q187.357 524.446 189.834 524.446 Q193.839 524.446 196.177 522.34 Q198.514 520.233 198.514 516.622 Q198.514 513.011 196.177 510.905 Q193.839 508.798 189.834 508.798 Q187.959 508.798 186.084 509.215 Q184.232 509.631 182.288 510.511 L182.288 493.15 Z\" fill=\"#000000\" fill-rule=\"evenodd\" fill-opacity=\"1\" /><path clip-path=\"url(#clip460)\" d=\"M121.732 467.359 L129.371 467.359 L129.371 440.993 L121.061 442.66 L121.061 438.401 L129.325 436.734 L134.001 436.734 L134.001 467.359 L141.64 467.359 L141.64 471.294 L121.732 471.294 L121.732 467.359 Z\" fill=\"#000000\" fill-rule=\"evenodd\" fill-opacity=\"1\" /><path clip-path=\"url(#clip460)\" d=\"M161.084 439.813 Q157.473 439.813 155.644 443.377 Q153.839 446.919 153.839 454.049 Q153.839 461.155 155.644 464.72 Q157.473 468.262 161.084 468.262 Q164.718 468.262 166.524 464.72 Q168.353 461.155 168.353 454.049 Q168.353 446.919 166.524 443.377 Q164.718 439.813 161.084 439.813 M161.084 436.109 Q166.894 436.109 169.95 440.715 Q173.029 445.299 173.029 454.049 Q173.029 462.776 169.95 467.382 Q166.894 471.965 161.084 471.965 Q155.274 471.965 152.195 467.382 Q149.14 462.776 149.14 454.049 Q149.14 445.299 152.195 440.715 Q155.274 436.109 161.084 436.109 Z\" fill=\"#000000\" fill-rule=\"evenodd\" fill-opacity=\"1\" /><path clip-path=\"url(#clip460)\" d=\"M191.246 439.813 Q187.635 439.813 185.806 443.377 Q184.001 446.919 184.001 454.049 Q184.001 461.155 185.806 464.72 Q187.635 468.262 191.246 468.262 Q194.88 468.262 196.686 464.72 Q198.514 461.155 198.514 454.049 Q198.514 446.919 196.686 443.377 Q194.88 439.813 191.246 439.813 M191.246 436.109 Q197.056 436.109 200.112 440.715 Q203.19 445.299 203.19 454.049 Q203.19 462.776 200.112 467.382 Q197.056 471.965 191.246 471.965 Q185.436 471.965 182.357 467.382 Q179.302 462.776 179.302 454.049 Q179.302 445.299 182.357 440.715 Q185.436 436.109 191.246 436.109 Z\" fill=\"#000000\" fill-rule=\"evenodd\" fill-opacity=\"1\" /><polyline clip-path=\"url(#clip463)\" style=\"stroke:#009af9; stroke-linecap:round; stroke-linejoin:round; stroke-width:4; stroke-opacity:1; fill:none\" points=\"299.008,454.014 398.705,496.89 498.401,535.253 598.098,569.103 697.794,598.439 797.491,623.262 897.187,643.572 996.884,659.368 1096.58,670.651 1196.28,677.421 1295.97,679.678 1395.67,677.421 1495.37,670.651 1595.06,659.368 1694.76,643.572 1794.46,623.262 1894.15,598.439 1993.85,569.103 2093.55,535.253 2193.24,496.89 2292.94,454.014 \"/>\n",
       "<path clip-path=\"url(#clip460)\" d=\"M239.19 1086.45 L2352.76 1086.45 L2352.76 847.244 L239.19 847.244  Z\" fill=\"#ffffff\" fill-rule=\"evenodd\" fill-opacity=\"1\"/>\n",
       "<defs>\n",
       "  <clipPath id=\"clip464\">\n",
       "    <rect x=\"239\" y=\"847\" width=\"2115\" height=\"240\"/>\n",
       "  </clipPath>\n",
       "</defs>\n",
       "<polyline clip-path=\"url(#clip464)\" style=\"stroke:#000000; stroke-linecap:round; stroke-linejoin:round; stroke-width:2; stroke-opacity:0.1; fill:none\" points=\"299.008,1086.45 299.008,847.244 \"/>\n",
       "<polyline clip-path=\"url(#clip464)\" style=\"stroke:#000000; stroke-linecap:round; stroke-linejoin:round; stroke-width:2; stroke-opacity:0.1; fill:none\" points=\"797.491,1086.45 797.491,847.244 \"/>\n",
       "<polyline clip-path=\"url(#clip464)\" style=\"stroke:#000000; stroke-linecap:round; stroke-linejoin:round; stroke-width:2; stroke-opacity:0.1; fill:none\" points=\"1295.97,1086.45 1295.97,847.244 \"/>\n",
       "<polyline clip-path=\"url(#clip464)\" style=\"stroke:#000000; stroke-linecap:round; stroke-linejoin:round; stroke-width:2; stroke-opacity:0.1; fill:none\" points=\"1794.46,1086.45 1794.46,847.244 \"/>\n",
       "<polyline clip-path=\"url(#clip464)\" style=\"stroke:#000000; stroke-linecap:round; stroke-linejoin:round; stroke-width:2; stroke-opacity:0.1; fill:none\" points=\"2292.94,1086.45 2292.94,847.244 \"/>\n",
       "<polyline clip-path=\"url(#clip460)\" style=\"stroke:#000000; stroke-linecap:round; stroke-linejoin:round; stroke-width:4; stroke-opacity:1; fill:none\" points=\"239.19,1086.45 2352.76,1086.45 \"/>\n",
       "<polyline clip-path=\"url(#clip460)\" style=\"stroke:#000000; stroke-linecap:round; stroke-linejoin:round; stroke-width:4; stroke-opacity:1; fill:none\" points=\"299.008,1086.45 299.008,1067.55 \"/>\n",
       "<polyline clip-path=\"url(#clip460)\" style=\"stroke:#000000; stroke-linecap:round; stroke-linejoin:round; stroke-width:4; stroke-opacity:1; fill:none\" points=\"797.491,1086.45 797.491,1067.55 \"/>\n",
       "<polyline clip-path=\"url(#clip460)\" style=\"stroke:#000000; stroke-linecap:round; stroke-linejoin:round; stroke-width:4; stroke-opacity:1; fill:none\" points=\"1295.97,1086.45 1295.97,1067.55 \"/>\n",
       "<polyline clip-path=\"url(#clip460)\" style=\"stroke:#000000; stroke-linecap:round; stroke-linejoin:round; stroke-width:4; stroke-opacity:1; fill:none\" points=\"1794.46,1086.45 1794.46,1067.55 \"/>\n",
       "<polyline clip-path=\"url(#clip460)\" style=\"stroke:#000000; stroke-linecap:round; stroke-linejoin:round; stroke-width:4; stroke-opacity:1; fill:none\" points=\"2292.94,1086.45 2292.94,1067.55 \"/>\n",
       "<path clip-path=\"url(#clip460)\" d=\"M253.071 1132.02 L282.747 1132.02 L282.747 1135.95 L253.071 1135.95 L253.071 1132.02 Z\" fill=\"#000000\" fill-rule=\"evenodd\" fill-opacity=\"1\" /><path clip-path=\"url(#clip460)\" d=\"M293.65 1144.91 L301.288 1144.91 L301.288 1118.55 L292.978 1120.21 L292.978 1115.95 L301.242 1114.29 L305.918 1114.29 L305.918 1144.91 L313.557 1144.91 L313.557 1148.85 L293.65 1148.85 L293.65 1144.91 Z\" fill=\"#000000\" fill-rule=\"evenodd\" fill-opacity=\"1\" /><path clip-path=\"url(#clip460)\" d=\"M333.001 1117.37 Q329.39 1117.37 327.561 1120.93 Q325.756 1124.47 325.756 1131.6 Q325.756 1138.71 327.561 1142.27 Q329.39 1145.82 333.001 1145.82 Q336.635 1145.82 338.441 1142.27 Q340.27 1138.71 340.27 1131.6 Q340.27 1124.47 338.441 1120.93 Q336.635 1117.37 333.001 1117.37 M333.001 1113.66 Q338.811 1113.66 341.867 1118.27 Q344.946 1122.85 344.946 1131.6 Q344.946 1140.33 341.867 1144.94 Q338.811 1149.52 333.001 1149.52 Q327.191 1149.52 324.112 1144.94 Q321.057 1140.33 321.057 1131.6 Q321.057 1122.85 324.112 1118.27 Q327.191 1113.66 333.001 1113.66 Z\" fill=\"#000000\" fill-rule=\"evenodd\" fill-opacity=\"1\" /><path clip-path=\"url(#clip460)\" d=\"M767.132 1132.02 L796.808 1132.02 L796.808 1135.95 L767.132 1135.95 L767.132 1132.02 Z\" fill=\"#000000\" fill-rule=\"evenodd\" fill-opacity=\"1\" /><path clip-path=\"url(#clip460)\" d=\"M806.947 1114.29 L825.303 1114.29 L825.303 1118.22 L811.229 1118.22 L811.229 1126.7 Q812.248 1126.35 813.266 1126.19 Q814.285 1126 815.303 1126 Q821.09 1126 824.47 1129.17 Q827.849 1132.34 827.849 1137.76 Q827.849 1143.34 824.377 1146.44 Q820.905 1149.52 814.586 1149.52 Q812.41 1149.52 810.141 1149.15 Q807.896 1148.78 805.488 1148.04 L805.488 1143.34 Q807.572 1144.47 809.794 1145.03 Q812.016 1145.58 814.493 1145.58 Q818.498 1145.58 820.835 1143.48 Q823.173 1141.37 823.173 1137.76 Q823.173 1134.15 820.835 1132.04 Q818.498 1129.94 814.493 1129.94 Q812.618 1129.94 810.743 1130.35 Q808.891 1130.77 806.947 1131.65 L806.947 1114.29 Z\" fill=\"#000000\" fill-rule=\"evenodd\" fill-opacity=\"1\" /><path clip-path=\"url(#clip460)\" d=\"M1295.97 1117.37 Q1292.36 1117.37 1290.53 1120.93 Q1288.73 1124.47 1288.73 1131.6 Q1288.73 1138.71 1290.53 1142.27 Q1292.36 1145.82 1295.97 1145.82 Q1299.61 1145.82 1301.41 1142.27 Q1303.24 1138.71 1303.24 1131.6 Q1303.24 1124.47 1301.41 1120.93 Q1299.61 1117.37 1295.97 1117.37 M1295.97 1113.66 Q1301.78 1113.66 1304.84 1118.27 Q1307.92 1122.85 1307.92 1131.6 Q1307.92 1140.33 1304.84 1144.94 Q1301.78 1149.52 1295.97 1149.52 Q1290.16 1149.52 1287.08 1144.94 Q1284.03 1140.33 1284.03 1131.6 Q1284.03 1122.85 1287.08 1118.27 Q1290.16 1113.66 1295.97 1113.66 Z\" fill=\"#000000\" fill-rule=\"evenodd\" fill-opacity=\"1\" /><path clip-path=\"url(#clip460)\" d=\"M1784.73 1114.29 L1803.09 1114.29 L1803.09 1118.22 L1789.02 1118.22 L1789.02 1126.7 Q1790.03 1126.35 1791.05 1126.19 Q1792.07 1126 1793.09 1126 Q1798.88 1126 1802.26 1129.17 Q1805.64 1132.34 1805.64 1137.76 Q1805.64 1143.34 1802.16 1146.44 Q1798.69 1149.52 1792.37 1149.52 Q1790.2 1149.52 1787.93 1149.15 Q1785.68 1148.78 1783.28 1148.04 L1783.28 1143.34 Q1785.36 1144.47 1787.58 1145.03 Q1789.8 1145.58 1792.28 1145.58 Q1796.28 1145.58 1798.62 1143.48 Q1800.96 1141.37 1800.96 1137.76 Q1800.96 1134.15 1798.62 1132.04 Q1796.28 1129.94 1792.28 1129.94 Q1790.4 1129.94 1788.53 1130.35 Q1786.68 1130.77 1784.73 1131.65 L1784.73 1114.29 Z\" fill=\"#000000\" fill-rule=\"evenodd\" fill-opacity=\"1\" /><path clip-path=\"url(#clip460)\" d=\"M2267.63 1144.91 L2275.26 1144.91 L2275.26 1118.55 L2266.95 1120.21 L2266.95 1115.95 L2275.22 1114.29 L2279.89 1114.29 L2279.89 1144.91 L2287.53 1144.91 L2287.53 1148.85 L2267.63 1148.85 L2267.63 1144.91 Z\" fill=\"#000000\" fill-rule=\"evenodd\" fill-opacity=\"1\" /><path clip-path=\"url(#clip460)\" d=\"M2306.98 1117.37 Q2303.37 1117.37 2301.54 1120.93 Q2299.73 1124.47 2299.73 1131.6 Q2299.73 1138.71 2301.54 1142.27 Q2303.37 1145.82 2306.98 1145.82 Q2310.61 1145.82 2312.42 1142.27 Q2314.25 1138.71 2314.25 1131.6 Q2314.25 1124.47 2312.42 1120.93 Q2310.61 1117.37 2306.98 1117.37 M2306.98 1113.66 Q2312.79 1113.66 2315.84 1118.27 Q2318.92 1122.85 2318.92 1131.6 Q2318.92 1140.33 2315.84 1144.94 Q2312.79 1149.52 2306.98 1149.52 Q2301.17 1149.52 2298.09 1144.94 Q2295.03 1140.33 2295.03 1131.6 Q2295.03 1122.85 2298.09 1118.27 Q2301.17 1113.66 2306.98 1113.66 Z\" fill=\"#000000\" fill-rule=\"evenodd\" fill-opacity=\"1\" /><polyline clip-path=\"url(#clip464)\" style=\"stroke:#000000; stroke-linecap:round; stroke-linejoin:round; stroke-width:2; stroke-opacity:0.1; fill:none\" points=\"239.19,1079.68 2352.76,1079.68 \"/>\n",
       "<polyline clip-path=\"url(#clip464)\" style=\"stroke:#000000; stroke-linecap:round; stroke-linejoin:round; stroke-width:2; stroke-opacity:0.1; fill:none\" points=\"239.19,1023.26 2352.76,1023.26 \"/>\n",
       "<polyline clip-path=\"url(#clip464)\" style=\"stroke:#000000; stroke-linecap:round; stroke-linejoin:round; stroke-width:2; stroke-opacity:0.1; fill:none\" points=\"239.19,966.846 2352.76,966.846 \"/>\n",
       "<polyline clip-path=\"url(#clip464)\" style=\"stroke:#000000; stroke-linecap:round; stroke-linejoin:round; stroke-width:2; stroke-opacity:0.1; fill:none\" points=\"239.19,910.43 2352.76,910.43 \"/>\n",
       "<polyline clip-path=\"url(#clip464)\" style=\"stroke:#000000; stroke-linecap:round; stroke-linejoin:round; stroke-width:2; stroke-opacity:0.1; fill:none\" points=\"239.19,854.014 2352.76,854.014 \"/>\n",
       "<polyline clip-path=\"url(#clip460)\" style=\"stroke:#000000; stroke-linecap:round; stroke-linejoin:round; stroke-width:4; stroke-opacity:1; fill:none\" points=\"239.19,1086.45 239.19,847.244 \"/>\n",
       "<polyline clip-path=\"url(#clip460)\" style=\"stroke:#000000; stroke-linecap:round; stroke-linejoin:round; stroke-width:4; stroke-opacity:1; fill:none\" points=\"239.19,1079.68 258.088,1079.68 \"/>\n",
       "<polyline clip-path=\"url(#clip460)\" style=\"stroke:#000000; stroke-linecap:round; stroke-linejoin:round; stroke-width:4; stroke-opacity:1; fill:none\" points=\"239.19,1023.26 258.088,1023.26 \"/>\n",
       "<polyline clip-path=\"url(#clip460)\" style=\"stroke:#000000; stroke-linecap:round; stroke-linejoin:round; stroke-width:4; stroke-opacity:1; fill:none\" points=\"239.19,966.846 258.088,966.846 \"/>\n",
       "<polyline clip-path=\"url(#clip460)\" style=\"stroke:#000000; stroke-linecap:round; stroke-linejoin:round; stroke-width:4; stroke-opacity:1; fill:none\" points=\"239.19,910.43 258.088,910.43 \"/>\n",
       "<polyline clip-path=\"url(#clip460)\" style=\"stroke:#000000; stroke-linecap:round; stroke-linejoin:round; stroke-width:4; stroke-opacity:1; fill:none\" points=\"239.19,854.014 258.088,854.014 \"/>\n",
       "<path clip-path=\"url(#clip460)\" d=\"M50.9921 1080.13 L80.6679 1080.13 L80.6679 1084.06 L50.9921 1084.06 L50.9921 1080.13 Z\" fill=\"#000000\" fill-rule=\"evenodd\" fill-opacity=\"1\" /><path clip-path=\"url(#clip460)\" d=\"M91.5706 1093.02 L99.2095 1093.02 L99.2095 1066.66 L90.8993 1068.32 L90.8993 1064.06 L99.1632 1062.4 L103.839 1062.4 L103.839 1093.02 L111.478 1093.02 L111.478 1096.96 L91.5706 1096.96 L91.5706 1093.02 Z\" fill=\"#000000\" fill-rule=\"evenodd\" fill-opacity=\"1\" /><path clip-path=\"url(#clip460)\" d=\"M130.922 1065.48 Q127.311 1065.48 125.482 1069.04 Q123.677 1072.58 123.677 1079.71 Q123.677 1086.82 125.482 1090.38 Q127.311 1093.93 130.922 1093.93 Q134.556 1093.93 136.362 1090.38 Q138.191 1086.82 138.191 1079.71 Q138.191 1072.58 136.362 1069.04 Q134.556 1065.48 130.922 1065.48 M130.922 1061.77 Q136.732 1061.77 139.788 1066.38 Q142.867 1070.96 142.867 1079.71 Q142.867 1088.44 139.788 1093.05 Q136.732 1097.63 130.922 1097.63 Q125.112 1097.63 122.033 1093.05 Q118.978 1088.44 118.978 1079.71 Q118.978 1070.96 122.033 1066.38 Q125.112 1061.77 130.922 1061.77 Z\" fill=\"#000000\" fill-rule=\"evenodd\" fill-opacity=\"1\" /><path clip-path=\"url(#clip460)\" d=\"M161.084 1065.48 Q157.473 1065.48 155.644 1069.04 Q153.839 1072.58 153.839 1079.71 Q153.839 1086.82 155.644 1090.38 Q157.473 1093.93 161.084 1093.93 Q164.718 1093.93 166.524 1090.38 Q168.353 1086.82 168.353 1079.71 Q168.353 1072.58 166.524 1069.04 Q164.718 1065.48 161.084 1065.48 M161.084 1061.77 Q166.894 1061.77 169.95 1066.38 Q173.029 1070.96 173.029 1079.71 Q173.029 1088.44 169.95 1093.05 Q166.894 1097.63 161.084 1097.63 Q155.274 1097.63 152.195 1093.05 Q149.14 1088.44 149.14 1079.71 Q149.14 1070.96 152.195 1066.38 Q155.274 1061.77 161.084 1061.77 Z\" fill=\"#000000\" fill-rule=\"evenodd\" fill-opacity=\"1\" /><path clip-path=\"url(#clip460)\" d=\"M191.246 1065.48 Q187.635 1065.48 185.806 1069.04 Q184.001 1072.58 184.001 1079.71 Q184.001 1086.82 185.806 1090.38 Q187.635 1093.93 191.246 1093.93 Q194.88 1093.93 196.686 1090.38 Q198.514 1086.82 198.514 1079.71 Q198.514 1072.58 196.686 1069.04 Q194.88 1065.48 191.246 1065.48 M191.246 1061.77 Q197.056 1061.77 200.112 1066.38 Q203.19 1070.96 203.19 1079.71 Q203.19 1088.44 200.112 1093.05 Q197.056 1097.63 191.246 1097.63 Q185.436 1097.63 182.357 1093.05 Q179.302 1088.44 179.302 1079.71 Q179.302 1070.96 182.357 1066.38 Q185.436 1061.77 191.246 1061.77 Z\" fill=\"#000000\" fill-rule=\"evenodd\" fill-opacity=\"1\" /><path clip-path=\"url(#clip460)\" d=\"M81.154 1023.71 L110.83 1023.71 L110.83 1027.65 L81.154 1027.65 L81.154 1023.71 Z\" fill=\"#000000\" fill-rule=\"evenodd\" fill-opacity=\"1\" /><path clip-path=\"url(#clip460)\" d=\"M120.969 1005.98 L139.325 1005.98 L139.325 1009.92 L125.251 1009.92 L125.251 1018.39 Q126.27 1018.04 127.288 1017.88 Q128.307 1017.69 129.325 1017.69 Q135.112 1017.69 138.492 1020.87 Q141.871 1024.04 141.871 1029.45 Q141.871 1035.03 138.399 1038.13 Q134.927 1041.21 128.607 1041.21 Q126.432 1041.21 124.163 1040.84 Q121.918 1040.47 119.51 1039.73 L119.51 1035.03 Q121.594 1036.17 123.816 1036.72 Q126.038 1037.28 128.515 1037.28 Q132.519 1037.28 134.857 1035.17 Q137.195 1033.07 137.195 1029.45 Q137.195 1025.84 134.857 1023.74 Q132.519 1021.63 128.515 1021.63 Q126.64 1021.63 124.765 1022.05 Q122.913 1022.46 120.969 1023.34 L120.969 1005.98 Z\" fill=\"#000000\" fill-rule=\"evenodd\" fill-opacity=\"1\" /><path clip-path=\"url(#clip460)\" d=\"M161.084 1009.06 Q157.473 1009.06 155.644 1012.63 Q153.839 1016.17 153.839 1023.3 Q153.839 1030.4 155.644 1033.97 Q157.473 1037.51 161.084 1037.51 Q164.718 1037.51 166.524 1033.97 Q168.353 1030.4 168.353 1023.3 Q168.353 1016.17 166.524 1012.63 Q164.718 1009.06 161.084 1009.06 M161.084 1005.36 Q166.894 1005.36 169.95 1009.96 Q173.029 1014.55 173.029 1023.3 Q173.029 1032.02 169.95 1036.63 Q166.894 1041.21 161.084 1041.21 Q155.274 1041.21 152.195 1036.63 Q149.14 1032.02 149.14 1023.3 Q149.14 1014.55 152.195 1009.96 Q155.274 1005.36 161.084 1005.36 Z\" fill=\"#000000\" fill-rule=\"evenodd\" fill-opacity=\"1\" /><path clip-path=\"url(#clip460)\" d=\"M191.246 1009.06 Q187.635 1009.06 185.806 1012.63 Q184.001 1016.17 184.001 1023.3 Q184.001 1030.4 185.806 1033.97 Q187.635 1037.51 191.246 1037.51 Q194.88 1037.51 196.686 1033.97 Q198.514 1030.4 198.514 1023.3 Q198.514 1016.17 196.686 1012.63 Q194.88 1009.06 191.246 1009.06 M191.246 1005.36 Q197.056 1005.36 200.112 1009.96 Q203.19 1014.55 203.19 1023.3 Q203.19 1032.02 200.112 1036.63 Q197.056 1041.21 191.246 1041.21 Q185.436 1041.21 182.357 1036.63 Q179.302 1032.02 179.302 1023.3 Q179.302 1014.55 182.357 1009.96 Q185.436 1005.36 191.246 1005.36 Z\" fill=\"#000000\" fill-rule=\"evenodd\" fill-opacity=\"1\" /><path clip-path=\"url(#clip460)\" d=\"M191.246 952.645 Q187.635 952.645 185.806 956.209 Q184.001 959.751 184.001 966.881 Q184.001 973.987 185.806 977.552 Q187.635 981.094 191.246 981.094 Q194.88 981.094 196.686 977.552 Q198.514 973.987 198.514 966.881 Q198.514 959.751 196.686 956.209 Q194.88 952.645 191.246 952.645 M191.246 948.941 Q197.056 948.941 200.112 953.547 Q203.19 958.131 203.19 966.881 Q203.19 975.608 200.112 980.214 Q197.056 984.797 191.246 984.797 Q185.436 984.797 182.357 980.214 Q179.302 975.608 179.302 966.881 Q179.302 958.131 182.357 953.547 Q185.436 948.941 191.246 948.941 Z\" fill=\"#000000\" fill-rule=\"evenodd\" fill-opacity=\"1\" /><path clip-path=\"url(#clip460)\" d=\"M120.969 893.15 L139.325 893.15 L139.325 897.085 L125.251 897.085 L125.251 905.557 Q126.27 905.21 127.288 905.048 Q128.307 904.863 129.325 904.863 Q135.112 904.863 138.492 908.034 Q141.871 911.205 141.871 916.622 Q141.871 922.201 138.399 925.303 Q134.927 928.381 128.607 928.381 Q126.432 928.381 124.163 928.011 Q121.918 927.641 119.51 926.9 L119.51 922.201 Q121.594 923.335 123.816 923.891 Q126.038 924.446 128.515 924.446 Q132.519 924.446 134.857 922.34 Q137.195 920.233 137.195 916.622 Q137.195 913.011 134.857 910.905 Q132.519 908.798 128.515 908.798 Q126.64 908.798 124.765 909.215 Q122.913 909.631 120.969 910.511 L120.969 893.15 Z\" fill=\"#000000\" fill-rule=\"evenodd\" fill-opacity=\"1\" /><path clip-path=\"url(#clip460)\" d=\"M161.084 896.229 Q157.473 896.229 155.644 899.793 Q153.839 903.335 153.839 910.465 Q153.839 917.571 155.644 921.136 Q157.473 924.678 161.084 924.678 Q164.718 924.678 166.524 921.136 Q168.353 917.571 168.353 910.465 Q168.353 903.335 166.524 899.793 Q164.718 896.229 161.084 896.229 M161.084 892.525 Q166.894 892.525 169.95 897.131 Q173.029 901.715 173.029 910.465 Q173.029 919.192 169.95 923.798 Q166.894 928.381 161.084 928.381 Q155.274 928.381 152.195 923.798 Q149.14 919.192 149.14 910.465 Q149.14 901.715 152.195 897.131 Q155.274 892.525 161.084 892.525 Z\" fill=\"#000000\" fill-rule=\"evenodd\" fill-opacity=\"1\" /><path clip-path=\"url(#clip460)\" d=\"M191.246 896.229 Q187.635 896.229 185.806 899.793 Q184.001 903.335 184.001 910.465 Q184.001 917.571 185.806 921.136 Q187.635 924.678 191.246 924.678 Q194.88 924.678 196.686 921.136 Q198.514 917.571 198.514 910.465 Q198.514 903.335 196.686 899.793 Q194.88 896.229 191.246 896.229 M191.246 892.525 Q197.056 892.525 200.112 897.131 Q203.19 901.715 203.19 910.465 Q203.19 919.192 200.112 923.798 Q197.056 928.381 191.246 928.381 Q185.436 928.381 182.357 923.798 Q179.302 919.192 179.302 910.465 Q179.302 901.715 182.357 897.131 Q185.436 892.525 191.246 892.525 Z\" fill=\"#000000\" fill-rule=\"evenodd\" fill-opacity=\"1\" /><path clip-path=\"url(#clip460)\" d=\"M91.5706 867.359 L99.2095 867.359 L99.2095 840.993 L90.8993 842.66 L90.8993 838.401 L99.1632 836.734 L103.839 836.734 L103.839 867.359 L111.478 867.359 L111.478 871.294 L91.5706 871.294 L91.5706 867.359 Z\" fill=\"#000000\" fill-rule=\"evenodd\" fill-opacity=\"1\" /><path clip-path=\"url(#clip460)\" d=\"M130.922 839.813 Q127.311 839.813 125.482 843.377 Q123.677 846.919 123.677 854.049 Q123.677 861.155 125.482 864.72 Q127.311 868.262 130.922 868.262 Q134.556 868.262 136.362 864.72 Q138.191 861.155 138.191 854.049 Q138.191 846.919 136.362 843.377 Q134.556 839.813 130.922 839.813 M130.922 836.109 Q136.732 836.109 139.788 840.715 Q142.867 845.299 142.867 854.049 Q142.867 862.776 139.788 867.382 Q136.732 871.965 130.922 871.965 Q125.112 871.965 122.033 867.382 Q118.978 862.776 118.978 854.049 Q118.978 845.299 122.033 840.715 Q125.112 836.109 130.922 836.109 Z\" fill=\"#000000\" fill-rule=\"evenodd\" fill-opacity=\"1\" /><path clip-path=\"url(#clip460)\" d=\"M161.084 839.813 Q157.473 839.813 155.644 843.377 Q153.839 846.919 153.839 854.049 Q153.839 861.155 155.644 864.72 Q157.473 868.262 161.084 868.262 Q164.718 868.262 166.524 864.72 Q168.353 861.155 168.353 854.049 Q168.353 846.919 166.524 843.377 Q164.718 839.813 161.084 839.813 M161.084 836.109 Q166.894 836.109 169.95 840.715 Q173.029 845.299 173.029 854.049 Q173.029 862.776 169.95 867.382 Q166.894 871.965 161.084 871.965 Q155.274 871.965 152.195 867.382 Q149.14 862.776 149.14 854.049 Q149.14 845.299 152.195 840.715 Q155.274 836.109 161.084 836.109 Z\" fill=\"#000000\" fill-rule=\"evenodd\" fill-opacity=\"1\" /><path clip-path=\"url(#clip460)\" d=\"M191.246 839.813 Q187.635 839.813 185.806 843.377 Q184.001 846.919 184.001 854.049 Q184.001 861.155 185.806 864.72 Q187.635 868.262 191.246 868.262 Q194.88 868.262 196.686 864.72 Q198.514 861.155 198.514 854.049 Q198.514 846.919 196.686 843.377 Q194.88 839.813 191.246 839.813 M191.246 836.109 Q197.056 836.109 200.112 840.715 Q203.19 845.299 203.19 854.049 Q203.19 862.776 200.112 867.382 Q197.056 871.965 191.246 871.965 Q185.436 871.965 182.357 867.382 Q179.302 862.776 179.302 854.049 Q179.302 845.299 182.357 840.715 Q185.436 836.109 191.246 836.109 Z\" fill=\"#000000\" fill-rule=\"evenodd\" fill-opacity=\"1\" /><polyline clip-path=\"url(#clip464)\" style=\"stroke:#009af9; stroke-linecap:round; stroke-linejoin:round; stroke-width:4; stroke-opacity:1; fill:none\" points=\"299.008,1079.68 398.705,1049.1 498.401,1024.62 598.098,1005.55 697.794,991.218 797.491,980.95 897.187,974.067 996.884,969.892 1096.58,967.749 1196.28,966.959 1295.97,966.846 1395.67,966.733 1495.37,965.943 1595.06,963.8 1694.76,959.625 1794.46,952.742 1894.15,942.474 1993.85,928.145 2093.55,909.076 2193.24,884.591 2292.94,854.014 \"/>\n",
       "<path clip-path=\"url(#clip460)\" d=\"M239.19 1486.45 L2352.76 1486.45 L2352.76 1247.24 L239.19 1247.24  Z\" fill=\"#ffffff\" fill-rule=\"evenodd\" fill-opacity=\"1\"/>\n",
       "<defs>\n",
       "  <clipPath id=\"clip465\">\n",
       "    <rect x=\"239\" y=\"1247\" width=\"2115\" height=\"240\"/>\n",
       "  </clipPath>\n",
       "</defs>\n",
       "<polyline clip-path=\"url(#clip465)\" style=\"stroke:#000000; stroke-linecap:round; stroke-linejoin:round; stroke-width:2; stroke-opacity:0.1; fill:none\" points=\"299.008,1486.45 299.008,1247.24 \"/>\n",
       "<polyline clip-path=\"url(#clip465)\" style=\"stroke:#000000; stroke-linecap:round; stroke-linejoin:round; stroke-width:2; stroke-opacity:0.1; fill:none\" points=\"797.491,1486.45 797.491,1247.24 \"/>\n",
       "<polyline clip-path=\"url(#clip465)\" style=\"stroke:#000000; stroke-linecap:round; stroke-linejoin:round; stroke-width:2; stroke-opacity:0.1; fill:none\" points=\"1295.97,1486.45 1295.97,1247.24 \"/>\n",
       "<polyline clip-path=\"url(#clip465)\" style=\"stroke:#000000; stroke-linecap:round; stroke-linejoin:round; stroke-width:2; stroke-opacity:0.1; fill:none\" points=\"1794.46,1486.45 1794.46,1247.24 \"/>\n",
       "<polyline clip-path=\"url(#clip465)\" style=\"stroke:#000000; stroke-linecap:round; stroke-linejoin:round; stroke-width:2; stroke-opacity:0.1; fill:none\" points=\"2292.94,1486.45 2292.94,1247.24 \"/>\n",
       "<polyline clip-path=\"url(#clip460)\" style=\"stroke:#000000; stroke-linecap:round; stroke-linejoin:round; stroke-width:4; stroke-opacity:1; fill:none\" points=\"239.19,1486.45 2352.76,1486.45 \"/>\n",
       "<polyline clip-path=\"url(#clip460)\" style=\"stroke:#000000; stroke-linecap:round; stroke-linejoin:round; stroke-width:4; stroke-opacity:1; fill:none\" points=\"299.008,1486.45 299.008,1467.55 \"/>\n",
       "<polyline clip-path=\"url(#clip460)\" style=\"stroke:#000000; stroke-linecap:round; stroke-linejoin:round; stroke-width:4; stroke-opacity:1; fill:none\" points=\"797.491,1486.45 797.491,1467.55 \"/>\n",
       "<polyline clip-path=\"url(#clip460)\" style=\"stroke:#000000; stroke-linecap:round; stroke-linejoin:round; stroke-width:4; stroke-opacity:1; fill:none\" points=\"1295.97,1486.45 1295.97,1467.55 \"/>\n",
       "<polyline clip-path=\"url(#clip460)\" style=\"stroke:#000000; stroke-linecap:round; stroke-linejoin:round; stroke-width:4; stroke-opacity:1; fill:none\" points=\"1794.46,1486.45 1794.46,1467.55 \"/>\n",
       "<polyline clip-path=\"url(#clip460)\" style=\"stroke:#000000; stroke-linecap:round; stroke-linejoin:round; stroke-width:4; stroke-opacity:1; fill:none\" points=\"2292.94,1486.45 2292.94,1467.55 \"/>\n",
       "<path clip-path=\"url(#clip460)\" d=\"M253.071 1532.02 L282.747 1532.02 L282.747 1535.95 L253.071 1535.95 L253.071 1532.02 Z\" fill=\"#000000\" fill-rule=\"evenodd\" fill-opacity=\"1\" /><path clip-path=\"url(#clip460)\" d=\"M293.65 1544.91 L301.288 1544.91 L301.288 1518.55 L292.978 1520.21 L292.978 1515.95 L301.242 1514.29 L305.918 1514.29 L305.918 1544.91 L313.557 1544.91 L313.557 1548.85 L293.65 1548.85 L293.65 1544.91 Z\" fill=\"#000000\" fill-rule=\"evenodd\" fill-opacity=\"1\" /><path clip-path=\"url(#clip460)\" d=\"M333.001 1517.37 Q329.39 1517.37 327.561 1520.93 Q325.756 1524.47 325.756 1531.6 Q325.756 1538.71 327.561 1542.27 Q329.39 1545.82 333.001 1545.82 Q336.635 1545.82 338.441 1542.27 Q340.27 1538.71 340.27 1531.6 Q340.27 1524.47 338.441 1520.93 Q336.635 1517.37 333.001 1517.37 M333.001 1513.66 Q338.811 1513.66 341.867 1518.27 Q344.946 1522.85 344.946 1531.6 Q344.946 1540.33 341.867 1544.94 Q338.811 1549.52 333.001 1549.52 Q327.191 1549.52 324.112 1544.94 Q321.057 1540.33 321.057 1531.6 Q321.057 1522.85 324.112 1518.27 Q327.191 1513.66 333.001 1513.66 Z\" fill=\"#000000\" fill-rule=\"evenodd\" fill-opacity=\"1\" /><path clip-path=\"url(#clip460)\" d=\"M767.132 1532.02 L796.808 1532.02 L796.808 1535.95 L767.132 1535.95 L767.132 1532.02 Z\" fill=\"#000000\" fill-rule=\"evenodd\" fill-opacity=\"1\" /><path clip-path=\"url(#clip460)\" d=\"M806.947 1514.29 L825.303 1514.29 L825.303 1518.22 L811.229 1518.22 L811.229 1526.7 Q812.248 1526.35 813.266 1526.19 Q814.285 1526 815.303 1526 Q821.09 1526 824.47 1529.17 Q827.849 1532.34 827.849 1537.76 Q827.849 1543.34 824.377 1546.44 Q820.905 1549.52 814.586 1549.52 Q812.41 1549.52 810.141 1549.15 Q807.896 1548.78 805.488 1548.04 L805.488 1543.34 Q807.572 1544.47 809.794 1545.03 Q812.016 1545.58 814.493 1545.58 Q818.498 1545.58 820.835 1543.48 Q823.173 1541.37 823.173 1537.76 Q823.173 1534.15 820.835 1532.04 Q818.498 1529.94 814.493 1529.94 Q812.618 1529.94 810.743 1530.35 Q808.891 1530.77 806.947 1531.65 L806.947 1514.29 Z\" fill=\"#000000\" fill-rule=\"evenodd\" fill-opacity=\"1\" /><path clip-path=\"url(#clip460)\" d=\"M1295.97 1517.37 Q1292.36 1517.37 1290.53 1520.93 Q1288.73 1524.47 1288.73 1531.6 Q1288.73 1538.71 1290.53 1542.27 Q1292.36 1545.82 1295.97 1545.82 Q1299.61 1545.82 1301.41 1542.27 Q1303.24 1538.71 1303.24 1531.6 Q1303.24 1524.47 1301.41 1520.93 Q1299.61 1517.37 1295.97 1517.37 M1295.97 1513.66 Q1301.78 1513.66 1304.84 1518.27 Q1307.92 1522.85 1307.92 1531.6 Q1307.92 1540.33 1304.84 1544.94 Q1301.78 1549.52 1295.97 1549.52 Q1290.16 1549.52 1287.08 1544.94 Q1284.03 1540.33 1284.03 1531.6 Q1284.03 1522.85 1287.08 1518.27 Q1290.16 1513.66 1295.97 1513.66 Z\" fill=\"#000000\" fill-rule=\"evenodd\" fill-opacity=\"1\" /><path clip-path=\"url(#clip460)\" d=\"M1784.73 1514.29 L1803.09 1514.29 L1803.09 1518.22 L1789.02 1518.22 L1789.02 1526.7 Q1790.03 1526.35 1791.05 1526.19 Q1792.07 1526 1793.09 1526 Q1798.88 1526 1802.26 1529.17 Q1805.64 1532.34 1805.64 1537.76 Q1805.64 1543.34 1802.16 1546.44 Q1798.69 1549.52 1792.37 1549.52 Q1790.2 1549.52 1787.93 1549.15 Q1785.68 1548.78 1783.28 1548.04 L1783.28 1543.34 Q1785.36 1544.47 1787.58 1545.03 Q1789.8 1545.58 1792.28 1545.58 Q1796.28 1545.58 1798.62 1543.48 Q1800.96 1541.37 1800.96 1537.76 Q1800.96 1534.15 1798.62 1532.04 Q1796.28 1529.94 1792.28 1529.94 Q1790.4 1529.94 1788.53 1530.35 Q1786.68 1530.77 1784.73 1531.65 L1784.73 1514.29 Z\" fill=\"#000000\" fill-rule=\"evenodd\" fill-opacity=\"1\" /><path clip-path=\"url(#clip460)\" d=\"M2267.63 1544.91 L2275.26 1544.91 L2275.26 1518.55 L2266.95 1520.21 L2266.95 1515.95 L2275.22 1514.29 L2279.89 1514.29 L2279.89 1544.91 L2287.53 1544.91 L2287.53 1548.85 L2267.63 1548.85 L2267.63 1544.91 Z\" fill=\"#000000\" fill-rule=\"evenodd\" fill-opacity=\"1\" /><path clip-path=\"url(#clip460)\" d=\"M2306.98 1517.37 Q2303.37 1517.37 2301.54 1520.93 Q2299.73 1524.47 2299.73 1531.6 Q2299.73 1538.71 2301.54 1542.27 Q2303.37 1545.82 2306.98 1545.82 Q2310.61 1545.82 2312.42 1542.27 Q2314.25 1538.71 2314.25 1531.6 Q2314.25 1524.47 2312.42 1520.93 Q2310.61 1517.37 2306.98 1517.37 M2306.98 1513.66 Q2312.79 1513.66 2315.84 1518.27 Q2318.92 1522.85 2318.92 1531.6 Q2318.92 1540.33 2315.84 1544.94 Q2312.79 1549.52 2306.98 1549.52 Q2301.17 1549.52 2298.09 1544.94 Q2295.03 1540.33 2295.03 1531.6 Q2295.03 1522.85 2298.09 1518.27 Q2301.17 1513.66 2306.98 1513.66 Z\" fill=\"#000000\" fill-rule=\"evenodd\" fill-opacity=\"1\" /><polyline clip-path=\"url(#clip465)\" style=\"stroke:#000000; stroke-linecap:round; stroke-linejoin:round; stroke-width:2; stroke-opacity:0.1; fill:none\" points=\"239.19,1479.68 2352.76,1479.68 \"/>\n",
       "<polyline clip-path=\"url(#clip465)\" style=\"stroke:#000000; stroke-linecap:round; stroke-linejoin:round; stroke-width:2; stroke-opacity:0.1; fill:none\" points=\"239.19,1423.26 2352.76,1423.26 \"/>\n",
       "<polyline clip-path=\"url(#clip465)\" style=\"stroke:#000000; stroke-linecap:round; stroke-linejoin:round; stroke-width:2; stroke-opacity:0.1; fill:none\" points=\"239.19,1366.85 2352.76,1366.85 \"/>\n",
       "<polyline clip-path=\"url(#clip465)\" style=\"stroke:#000000; stroke-linecap:round; stroke-linejoin:round; stroke-width:2; stroke-opacity:0.1; fill:none\" points=\"239.19,1310.43 2352.76,1310.43 \"/>\n",
       "<polyline clip-path=\"url(#clip465)\" style=\"stroke:#000000; stroke-linecap:round; stroke-linejoin:round; stroke-width:2; stroke-opacity:0.1; fill:none\" points=\"239.19,1254.01 2352.76,1254.01 \"/>\n",
       "<polyline clip-path=\"url(#clip460)\" style=\"stroke:#000000; stroke-linecap:round; stroke-linejoin:round; stroke-width:4; stroke-opacity:1; fill:none\" points=\"239.19,1486.45 239.19,1247.24 \"/>\n",
       "<polyline clip-path=\"url(#clip460)\" style=\"stroke:#000000; stroke-linecap:round; stroke-linejoin:round; stroke-width:4; stroke-opacity:1; fill:none\" points=\"239.19,1479.68 258.088,1479.68 \"/>\n",
       "<polyline clip-path=\"url(#clip460)\" style=\"stroke:#000000; stroke-linecap:round; stroke-linejoin:round; stroke-width:4; stroke-opacity:1; fill:none\" points=\"239.19,1423.26 258.088,1423.26 \"/>\n",
       "<polyline clip-path=\"url(#clip460)\" style=\"stroke:#000000; stroke-linecap:round; stroke-linejoin:round; stroke-width:4; stroke-opacity:1; fill:none\" points=\"239.19,1366.85 258.088,1366.85 \"/>\n",
       "<polyline clip-path=\"url(#clip460)\" style=\"stroke:#000000; stroke-linecap:round; stroke-linejoin:round; stroke-width:4; stroke-opacity:1; fill:none\" points=\"239.19,1310.43 258.088,1310.43 \"/>\n",
       "<polyline clip-path=\"url(#clip460)\" style=\"stroke:#000000; stroke-linecap:round; stroke-linejoin:round; stroke-width:4; stroke-opacity:1; fill:none\" points=\"239.19,1254.01 258.088,1254.01 \"/>\n",
       "<path clip-path=\"url(#clip460)\" d=\"M191.246 1465.48 Q187.635 1465.48 185.806 1469.04 Q184.001 1472.58 184.001 1479.71 Q184.001 1486.82 185.806 1490.38 Q187.635 1493.93 191.246 1493.93 Q194.88 1493.93 196.686 1490.38 Q198.514 1486.82 198.514 1479.71 Q198.514 1472.58 196.686 1469.04 Q194.88 1465.48 191.246 1465.48 M191.246 1461.77 Q197.056 1461.77 200.112 1466.38 Q203.19 1470.96 203.19 1479.71 Q203.19 1488.44 200.112 1493.05 Q197.056 1497.63 191.246 1497.63 Q185.436 1497.63 182.357 1493.05 Q179.302 1488.44 179.302 1479.71 Q179.302 1470.96 182.357 1466.38 Q185.436 1461.77 191.246 1461.77 Z\" fill=\"#000000\" fill-rule=\"evenodd\" fill-opacity=\"1\" /><path clip-path=\"url(#clip460)\" d=\"M94.7882 1436.61 L111.108 1436.61 L111.108 1440.54 L89.1632 1440.54 L89.1632 1436.61 Q91.8252 1433.85 96.4085 1429.22 Q101.015 1424.57 102.196 1423.23 Q104.441 1420.7 105.321 1418.97 Q106.223 1417.21 106.223 1415.52 Q106.223 1412.76 104.279 1411.03 Q102.358 1409.29 99.2558 1409.29 Q97.0567 1409.29 94.603 1410.06 Q92.1725 1410.82 89.3947 1412.37 L89.3947 1407.65 Q92.2188 1406.51 94.6724 1405.94 Q97.1261 1405.36 99.1632 1405.36 Q104.534 1405.36 107.728 1408.04 Q110.922 1410.73 110.922 1415.22 Q110.922 1417.35 110.112 1419.27 Q109.325 1421.17 107.219 1423.76 Q106.64 1424.43 103.538 1427.65 Q100.436 1430.84 94.7882 1436.61 Z\" fill=\"#000000\" fill-rule=\"evenodd\" fill-opacity=\"1\" /><path clip-path=\"url(#clip460)\" d=\"M120.969 1405.98 L139.325 1405.98 L139.325 1409.92 L125.251 1409.92 L125.251 1418.39 Q126.27 1418.04 127.288 1417.88 Q128.307 1417.69 129.325 1417.69 Q135.112 1417.69 138.492 1420.87 Q141.871 1424.04 141.871 1429.45 Q141.871 1435.03 138.399 1438.13 Q134.927 1441.21 128.607 1441.21 Q126.432 1441.21 124.163 1440.84 Q121.918 1440.47 119.51 1439.73 L119.51 1435.03 Q121.594 1436.17 123.816 1436.72 Q126.038 1437.28 128.515 1437.28 Q132.519 1437.28 134.857 1435.17 Q137.195 1433.07 137.195 1429.45 Q137.195 1425.84 134.857 1423.74 Q132.519 1421.63 128.515 1421.63 Q126.64 1421.63 124.765 1422.05 Q122.913 1422.46 120.969 1423.34 L120.969 1405.98 Z\" fill=\"#000000\" fill-rule=\"evenodd\" fill-opacity=\"1\" /><path clip-path=\"url(#clip460)\" d=\"M161.084 1409.06 Q157.473 1409.06 155.644 1412.63 Q153.839 1416.17 153.839 1423.3 Q153.839 1430.4 155.644 1433.97 Q157.473 1437.51 161.084 1437.51 Q164.718 1437.51 166.524 1433.97 Q168.353 1430.4 168.353 1423.3 Q168.353 1416.17 166.524 1412.63 Q164.718 1409.06 161.084 1409.06 M161.084 1405.36 Q166.894 1405.36 169.95 1409.96 Q173.029 1414.55 173.029 1423.3 Q173.029 1432.02 169.95 1436.63 Q166.894 1441.21 161.084 1441.21 Q155.274 1441.21 152.195 1436.63 Q149.14 1432.02 149.14 1423.3 Q149.14 1414.55 152.195 1409.96 Q155.274 1405.36 161.084 1405.36 Z\" fill=\"#000000\" fill-rule=\"evenodd\" fill-opacity=\"1\" /><path clip-path=\"url(#clip460)\" d=\"M191.246 1409.06 Q187.635 1409.06 185.806 1412.63 Q184.001 1416.17 184.001 1423.3 Q184.001 1430.4 185.806 1433.97 Q187.635 1437.51 191.246 1437.51 Q194.88 1437.51 196.686 1433.97 Q198.514 1430.4 198.514 1423.3 Q198.514 1416.17 196.686 1412.63 Q194.88 1409.06 191.246 1409.06 M191.246 1405.36 Q197.056 1405.36 200.112 1409.96 Q203.19 1414.55 203.19 1423.3 Q203.19 1432.02 200.112 1436.63 Q197.056 1441.21 191.246 1441.21 Q185.436 1441.21 182.357 1436.63 Q179.302 1432.02 179.302 1423.3 Q179.302 1414.55 182.357 1409.96 Q185.436 1405.36 191.246 1405.36 Z\" fill=\"#000000\" fill-rule=\"evenodd\" fill-opacity=\"1\" /><path clip-path=\"url(#clip460)\" d=\"M90.8067 1349.57 L109.163 1349.57 L109.163 1353.5 L95.0891 1353.5 L95.0891 1361.97 Q96.1076 1361.63 97.1261 1361.46 Q98.1447 1361.28 99.1632 1361.28 Q104.95 1361.28 108.33 1364.45 Q111.709 1367.62 111.709 1373.04 Q111.709 1378.62 108.237 1381.72 Q104.765 1384.8 98.4456 1384.8 Q96.2697 1384.8 94.0012 1384.43 Q91.7558 1384.06 89.3484 1383.32 L89.3484 1378.62 Q91.4317 1379.75 93.6539 1380.31 Q95.8761 1380.86 98.353 1380.86 Q102.358 1380.86 104.696 1378.76 Q107.033 1376.65 107.033 1373.04 Q107.033 1369.43 104.696 1367.32 Q102.358 1365.21 98.353 1365.21 Q96.478 1365.21 94.603 1365.63 Q92.7512 1366.05 90.8067 1366.93 L90.8067 1349.57 Z\" fill=\"#000000\" fill-rule=\"evenodd\" fill-opacity=\"1\" /><path clip-path=\"url(#clip460)\" d=\"M130.922 1352.64 Q127.311 1352.64 125.482 1356.21 Q123.677 1359.75 123.677 1366.88 Q123.677 1373.99 125.482 1377.55 Q127.311 1381.09 130.922 1381.09 Q134.556 1381.09 136.362 1377.55 Q138.191 1373.99 138.191 1366.88 Q138.191 1359.75 136.362 1356.21 Q134.556 1352.64 130.922 1352.64 M130.922 1348.94 Q136.732 1348.94 139.788 1353.55 Q142.867 1358.13 142.867 1366.88 Q142.867 1375.61 139.788 1380.21 Q136.732 1384.8 130.922 1384.8 Q125.112 1384.8 122.033 1380.21 Q118.978 1375.61 118.978 1366.88 Q118.978 1358.13 122.033 1353.55 Q125.112 1348.94 130.922 1348.94 Z\" fill=\"#000000\" fill-rule=\"evenodd\" fill-opacity=\"1\" /><path clip-path=\"url(#clip460)\" d=\"M161.084 1352.64 Q157.473 1352.64 155.644 1356.21 Q153.839 1359.75 153.839 1366.88 Q153.839 1373.99 155.644 1377.55 Q157.473 1381.09 161.084 1381.09 Q164.718 1381.09 166.524 1377.55 Q168.353 1373.99 168.353 1366.88 Q168.353 1359.75 166.524 1356.21 Q164.718 1352.64 161.084 1352.64 M161.084 1348.94 Q166.894 1348.94 169.95 1353.55 Q173.029 1358.13 173.029 1366.88 Q173.029 1375.61 169.95 1380.21 Q166.894 1384.8 161.084 1384.8 Q155.274 1384.8 152.195 1380.21 Q149.14 1375.61 149.14 1366.88 Q149.14 1358.13 152.195 1353.55 Q155.274 1348.94 161.084 1348.94 Z\" fill=\"#000000\" fill-rule=\"evenodd\" fill-opacity=\"1\" /><path clip-path=\"url(#clip460)\" d=\"M191.246 1352.64 Q187.635 1352.64 185.806 1356.21 Q184.001 1359.75 184.001 1366.88 Q184.001 1373.99 185.806 1377.55 Q187.635 1381.09 191.246 1381.09 Q194.88 1381.09 196.686 1377.55 Q198.514 1373.99 198.514 1366.88 Q198.514 1359.75 196.686 1356.21 Q194.88 1352.64 191.246 1352.64 M191.246 1348.94 Q197.056 1348.94 200.112 1353.55 Q203.19 1358.13 203.19 1366.88 Q203.19 1375.61 200.112 1380.21 Q197.056 1384.8 191.246 1384.8 Q185.436 1384.8 182.357 1380.21 Q179.302 1375.61 179.302 1366.88 Q179.302 1358.13 182.357 1353.55 Q185.436 1348.94 191.246 1348.94 Z\" fill=\"#000000\" fill-rule=\"evenodd\" fill-opacity=\"1\" /><path clip-path=\"url(#clip460)\" d=\"M89.5799 1293.15 L111.802 1293.15 L111.802 1295.14 L99.2558 1327.71 L94.3715 1327.71 L106.177 1297.09 L89.5799 1297.09 L89.5799 1293.15 Z\" fill=\"#000000\" fill-rule=\"evenodd\" fill-opacity=\"1\" /><path clip-path=\"url(#clip460)\" d=\"M120.969 1293.15 L139.325 1293.15 L139.325 1297.09 L125.251 1297.09 L125.251 1305.56 Q126.27 1305.21 127.288 1305.05 Q128.307 1304.86 129.325 1304.86 Q135.112 1304.86 138.492 1308.03 Q141.871 1311.21 141.871 1316.62 Q141.871 1322.2 138.399 1325.3 Q134.927 1328.38 128.607 1328.38 Q126.432 1328.38 124.163 1328.01 Q121.918 1327.64 119.51 1326.9 L119.51 1322.2 Q121.594 1323.34 123.816 1323.89 Q126.038 1324.45 128.515 1324.45 Q132.519 1324.45 134.857 1322.34 Q137.195 1320.23 137.195 1316.62 Q137.195 1313.01 134.857 1310.9 Q132.519 1308.8 128.515 1308.8 Q126.64 1308.8 124.765 1309.21 Q122.913 1309.63 120.969 1310.51 L120.969 1293.15 Z\" fill=\"#000000\" fill-rule=\"evenodd\" fill-opacity=\"1\" /><path clip-path=\"url(#clip460)\" d=\"M161.084 1296.23 Q157.473 1296.23 155.644 1299.79 Q153.839 1303.34 153.839 1310.46 Q153.839 1317.57 155.644 1321.14 Q157.473 1324.68 161.084 1324.68 Q164.718 1324.68 166.524 1321.14 Q168.353 1317.57 168.353 1310.46 Q168.353 1303.34 166.524 1299.79 Q164.718 1296.23 161.084 1296.23 M161.084 1292.53 Q166.894 1292.53 169.95 1297.13 Q173.029 1301.71 173.029 1310.46 Q173.029 1319.19 169.95 1323.8 Q166.894 1328.38 161.084 1328.38 Q155.274 1328.38 152.195 1323.8 Q149.14 1319.19 149.14 1310.46 Q149.14 1301.71 152.195 1297.13 Q155.274 1292.53 161.084 1292.53 Z\" fill=\"#000000\" fill-rule=\"evenodd\" fill-opacity=\"1\" /><path clip-path=\"url(#clip460)\" d=\"M191.246 1296.23 Q187.635 1296.23 185.806 1299.79 Q184.001 1303.34 184.001 1310.46 Q184.001 1317.57 185.806 1321.14 Q187.635 1324.68 191.246 1324.68 Q194.88 1324.68 196.686 1321.14 Q198.514 1317.57 198.514 1310.46 Q198.514 1303.34 196.686 1299.79 Q194.88 1296.23 191.246 1296.23 M191.246 1292.53 Q197.056 1292.53 200.112 1297.13 Q203.19 1301.71 203.19 1310.46 Q203.19 1319.19 200.112 1323.8 Q197.056 1328.38 191.246 1328.38 Q185.436 1328.38 182.357 1323.8 Q179.302 1319.19 179.302 1310.46 Q179.302 1301.71 182.357 1297.13 Q185.436 1292.53 191.246 1292.53 Z\" fill=\"#000000\" fill-rule=\"evenodd\" fill-opacity=\"1\" /><path clip-path=\"url(#clip460)\" d=\"M61.4087 1267.36 L69.0476 1267.36 L69.0476 1240.99 L60.7374 1242.66 L60.7374 1238.4 L69.0013 1236.73 L73.6772 1236.73 L73.6772 1267.36 L81.316 1267.36 L81.316 1271.29 L61.4087 1271.29 L61.4087 1267.36 Z\" fill=\"#000000\" fill-rule=\"evenodd\" fill-opacity=\"1\" /><path clip-path=\"url(#clip460)\" d=\"M100.76 1239.81 Q97.1493 1239.81 95.3206 1243.38 Q93.515 1246.92 93.515 1254.05 Q93.515 1261.16 95.3206 1264.72 Q97.1493 1268.26 100.76 1268.26 Q104.395 1268.26 106.2 1264.72 Q108.029 1261.16 108.029 1254.05 Q108.029 1246.92 106.2 1243.38 Q104.395 1239.81 100.76 1239.81 M100.76 1236.11 Q106.571 1236.11 109.626 1240.72 Q112.705 1245.3 112.705 1254.05 Q112.705 1262.78 109.626 1267.38 Q106.571 1271.97 100.76 1271.97 Q94.9502 1271.97 91.8715 1267.38 Q88.816 1262.78 88.816 1254.05 Q88.816 1245.3 91.8715 1240.72 Q94.9502 1236.11 100.76 1236.11 Z\" fill=\"#000000\" fill-rule=\"evenodd\" fill-opacity=\"1\" /><path clip-path=\"url(#clip460)\" d=\"M130.922 1239.81 Q127.311 1239.81 125.482 1243.38 Q123.677 1246.92 123.677 1254.05 Q123.677 1261.16 125.482 1264.72 Q127.311 1268.26 130.922 1268.26 Q134.556 1268.26 136.362 1264.72 Q138.191 1261.16 138.191 1254.05 Q138.191 1246.92 136.362 1243.38 Q134.556 1239.81 130.922 1239.81 M130.922 1236.11 Q136.732 1236.11 139.788 1240.72 Q142.867 1245.3 142.867 1254.05 Q142.867 1262.78 139.788 1267.38 Q136.732 1271.97 130.922 1271.97 Q125.112 1271.97 122.033 1267.38 Q118.978 1262.78 118.978 1254.05 Q118.978 1245.3 122.033 1240.72 Q125.112 1236.11 130.922 1236.11 Z\" fill=\"#000000\" fill-rule=\"evenodd\" fill-opacity=\"1\" /><path clip-path=\"url(#clip460)\" d=\"M161.084 1239.81 Q157.473 1239.81 155.644 1243.38 Q153.839 1246.92 153.839 1254.05 Q153.839 1261.16 155.644 1264.72 Q157.473 1268.26 161.084 1268.26 Q164.718 1268.26 166.524 1264.72 Q168.353 1261.16 168.353 1254.05 Q168.353 1246.92 166.524 1243.38 Q164.718 1239.81 161.084 1239.81 M161.084 1236.11 Q166.894 1236.11 169.95 1240.72 Q173.029 1245.3 173.029 1254.05 Q173.029 1262.78 169.95 1267.38 Q166.894 1271.97 161.084 1271.97 Q155.274 1271.97 152.195 1267.38 Q149.14 1262.78 149.14 1254.05 Q149.14 1245.3 152.195 1240.72 Q155.274 1236.11 161.084 1236.11 Z\" fill=\"#000000\" fill-rule=\"evenodd\" fill-opacity=\"1\" /><path clip-path=\"url(#clip460)\" d=\"M191.246 1239.81 Q187.635 1239.81 185.806 1243.38 Q184.001 1246.92 184.001 1254.05 Q184.001 1261.16 185.806 1264.72 Q187.635 1268.26 191.246 1268.26 Q194.88 1268.26 196.686 1264.72 Q198.514 1261.16 198.514 1254.05 Q198.514 1246.92 196.686 1243.38 Q194.88 1239.81 191.246 1239.81 M191.246 1236.11 Q197.056 1236.11 200.112 1240.72 Q203.19 1245.3 203.19 1254.05 Q203.19 1262.78 200.112 1267.38 Q197.056 1271.97 191.246 1271.97 Q185.436 1271.97 182.357 1267.38 Q179.302 1262.78 179.302 1254.05 Q179.302 1245.3 182.357 1240.72 Q185.436 1236.11 191.246 1236.11 Z\" fill=\"#000000\" fill-rule=\"evenodd\" fill-opacity=\"1\" /><polyline clip-path=\"url(#clip465)\" style=\"stroke:#009af9; stroke-linecap:round; stroke-linejoin:round; stroke-width:4; stroke-opacity:1; fill:none\" points=\"299.008,1254.01 398.705,1331.62 498.401,1387.25 598.098,1425.5 697.794,1450.43 797.491,1465.57 897.187,1473.9 996.884,1477.85 1096.58,1479.32 1196.28,1479.66 1295.97,1479.68 1395.67,1479.66 1495.37,1479.32 1595.06,1477.85 1694.76,1473.9 1794.46,1465.57 1894.15,1450.43 1993.85,1425.5 2093.55,1387.25 2193.24,1331.62 2292.94,1254.01 \"/>\n",
       "</svg>\n"
      ]
     },
     "execution_count": 152,
     "metadata": {},
     "output_type": "execute_result"
    }
   ],
   "source": [
    "plot(p1, p2, p3, p4, layout = (4, 1), legend = false)"
   ]
  },
  {
   "cell_type": "markdown",
   "id": "78ef063b",
   "metadata": {},
   "source": [
    "### Extra Exercise\n",
    "Write a function that will output a Fibonacci Sequence with a length of N\n",
    "```\n",
    "Function name: fibonacciN\n",
    "```\n",
    "```\n",
    "Input: N::Int32\n",
    "```\n",
    "```\n",
    "Output: a N-element vector that stores a Fibonacci Sequence\n",
    "```\n",
    "```\n",
    "Example: fibonacciN(50) => [0, 1, …., 7778742049]\n",
    "```\n",
    "\n",
    "In the Fibonacci Sequence, the first two numbers are 0 and 1 and every number thereafter is the sum of the previous two numbers in the sequence\n",
    "For this question, consider 0 to be the 1st Fibonacci Number, not the 0th (i.e. do not zero-index)\n"
   ]
  },
  {
   "cell_type": "code",
   "execution_count": 2,
   "id": "a8aa4b28",
   "metadata": {},
   "outputs": [
    {
     "data": {
      "text/plain": [
       "fibonacciN (generic function with 1 method)"
      ]
     },
     "execution_count": 2,
     "metadata": {},
     "output_type": "execute_result"
    }
   ],
   "source": [
    "function fibonacciN(N)\n",
    "    vector=[0,1]\n",
    "    m=1\n",
    "    if N>1\n",
    "        for x in 1:N-2\n",
    "            push!(vector, vector[m]+vector[m+1])\n",
    "            m=m+1\n",
    "        end\n",
    "    elseif N==1\n",
    "        vector=[0]\n",
    "    elseif N==0\n",
    "        vector=[]\n",
    "    end\n",
    "    println(vector)\n",
    "end"
   ]
  },
  {
   "cell_type": "code",
   "execution_count": 7,
   "id": "ef4aea28",
   "metadata": {},
   "outputs": [
    {
     "name": "stdout",
     "output_type": "stream",
     "text": [
      "[0, 1, 1, 2, 3, 5, 8, 13, 21, 34, 55, 89, 144, 233, 377, 610, 987, 1597, 2584, 4181, 6765, 10946, 17711, 28657, 46368, 75025, 121393, 196418, 317811, 514229, 832040, 1346269, 2178309, 3524578, 5702887, 9227465, 14930352, 24157817, 39088169, 63245986, 102334155, 165580141, 267914296, 433494437, 701408733, 1134903170, 1836311903, 2971215073, 4807526976, 7778742049]\n"
     ]
    }
   ],
   "source": [
    "fibonacciN(50)"
   ]
  },
  {
   "cell_type": "code",
   "execution_count": null,
   "id": "771f76c3",
   "metadata": {},
   "outputs": [],
   "source": []
  }
 ],
 "metadata": {
  "kernelspec": {
   "display_name": "Julia 1.8.5",
   "language": "julia",
   "name": "julia-1.8"
  },
  "language_info": {
   "file_extension": ".jl",
   "mimetype": "application/julia",
   "name": "julia",
   "version": "1.8.5"
  }
 },
 "nbformat": 4,
 "nbformat_minor": 5
}
